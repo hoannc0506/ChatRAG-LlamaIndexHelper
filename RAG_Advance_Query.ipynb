{
 "cells": [
  {
   "cell_type": "code",
   "execution_count": 1,
   "id": "900c4d38-4f3a-48ce-826b-98bcd5a44744",
   "metadata": {},
   "outputs": [],
   "source": [
    "import logging\n",
    "import sys\n",
    "\n",
    "logging.basicConfig(stream=sys.stdout, level=logging.INFO)\n",
    "logging.getLogger().addHandler(logging.StreamHandler(stream=sys.stdout))"
   ]
  },
  {
   "cell_type": "code",
   "execution_count": 3,
   "id": "48d75825-c192-419a-a7f1-6819aac18aca",
   "metadata": {},
   "outputs": [],
   "source": [
    "from llama_index.llms.huggingface import HuggingFaceLLM\n",
    "from llama_index.embeddings.huggingface import HuggingFaceEmbedding\n",
    "from llama_index.vector_stores.chroma import ChromaVectorStore\n",
    "from llama_index.core import StorageContext, Settings\n",
    "from llama_index.core import load_index_from_storage\n",
    "from llama_index.core import VectorStoreIndex, DocumentSummaryIndex\n",
    "from llama_index.core.prompts import PromptTemplate\n",
    "from llama_index.core.response.notebook_utils import display_response\n",
    "import chromadb\n",
    "import torch\n",
    "import model_utils\n",
    "import prompt_utils\n",
    "import nest_asyncio\n",
    "nest_asyncio.apply()"
   ]
  },
  {
   "cell_type": "code",
   "execution_count": 4,
   "id": "13d1d2e1-ccdf-415e-ae2b-aee2b508bc81",
   "metadata": {},
   "outputs": [
    {
     "name": "stdout",
     "output_type": "stream",
     "text": [
      "INFO:sentence_transformers.SentenceTransformer:Load pretrained SentenceTransformer: models/bge-small-en-v1.5\n",
      "Load pretrained SentenceTransformer: models/bge-small-en-v1.5\n",
      "INFO:sentence_transformers.SentenceTransformer:2 prompts are loaded, with the keys: ['query', 'text']\n",
      "2 prompts are loaded, with the keys: ['query', 'text']\n"
     ]
    }
   ],
   "source": [
    "# loads BAAI/bge-small-en-v1.5\n",
    "embed_model = HuggingFaceEmbedding(model_name=\"models/bge-small-en-v1.5\", device=\"cuda\")"
   ]
  },
  {
   "cell_type": "code",
   "execution_count": 5,
   "id": "065ec354-2e3f-4c83-8df6-f57f57a2af25",
   "metadata": {},
   "outputs": [
    {
     "name": "stdout",
     "output_type": "stream",
     "text": [
      "Loading tokenizer and model with quantization config from: models/zephyr-7b-beta\n"
     ]
    },
    {
     "data": {
      "application/vnd.jupyter.widget-view+json": {
       "model_id": "420c0f144bf24088af7018af586f6573",
       "version_major": 2,
       "version_minor": 0
      },
      "text/plain": [
       "Loading checkpoint shards:   0%|          | 0/8 [00:00<?, ?it/s]"
      ]
     },
     "metadata": {},
     "output_type": "display_data"
    }
   ],
   "source": [
    "# load local llm\n",
    "model_name = \"models/zephyr-7b-beta\"\n",
    "model, tokenizer = model_utils.load_quantized_model(\n",
    "    model_name_or_path=model_name,\n",
    "    device=\"cuda\"\n",
    ")\n",
    "# Set `pad_token_id` to `eos_token_id`\n",
    "model.generation_config.pad_token_id = model.generation_config.eos_token_id"
   ]
  },
  {
   "cell_type": "code",
   "execution_count": 6,
   "id": "a6d2104f-2577-494d-8a8c-a12fb2bb14ec",
   "metadata": {},
   "outputs": [],
   "source": [
    "# config llm and embed_model to llamaindex\n",
    "llm_hf = HuggingFaceLLM(\n",
    "    context_window=4096,\n",
    "    max_new_tokens=512,\n",
    "    query_wrapper_prompt=PromptTemplate(\"<|system|>\\n</s>\\n<|user|>\\n{query_str}</s>\\n<|assistant|>\\n\"),\n",
    "    generate_kwargs={\n",
    "        \"temperature\": 0.7,\n",
    "        \"top_k\": 50, \n",
    "        \"top_p\": 0.95,\n",
    "        \"do_sample\": True\n",
    "    },\n",
    "    device_map=\"cuda\",\n",
    "    model_name=model_name,\n",
    "    model=model,\n",
    "    messages_to_prompt=prompt_utils.zephyr_messages_to_prompt,\n",
    "    tokenizer=tokenizer\n",
    ")"
   ]
  },
  {
   "cell_type": "code",
   "execution_count": 14,
   "id": "576f25f1-000c-40e5-9769-ed8cdce0ad38",
   "metadata": {},
   "outputs": [],
   "source": [
    "# Settings.embed_model = embed_model\n",
    "# Settings.llm = llm_hf"
   ]
  },
  {
   "cell_type": "markdown",
   "id": "12dbd071-6987-44ea-a43c-853c4d1878e2",
   "metadata": {},
   "source": [
    "## Load vector index and document summary index"
   ]
  },
  {
   "cell_type": "code",
   "execution_count": 7,
   "id": "1f9a2bad-01a8-4ed0-aa4d-fb9f103db78f",
   "metadata": {},
   "outputs": [
    {
     "name": "stdout",
     "output_type": "stream",
     "text": [
      "INFO:chromadb.telemetry.product.posthog:Anonymized telemetry enabled. See                     https://docs.trychroma.com/telemetry for more information.\n",
      "Anonymized telemetry enabled. See                     https://docs.trychroma.com/telemetry for more information.\n"
     ]
    }
   ],
   "source": [
    "# Creates a persistent instance of Chroma that saves to disk\n",
    "chroma_client = chromadb.PersistentClient(path=\"./chroma_db\")"
   ]
  },
  {
   "cell_type": "code",
   "execution_count": 13,
   "id": "0174fe7b-6ac2-412d-a2bf-4022824784a0",
   "metadata": {},
   "outputs": [
    {
     "data": {
      "text/plain": [
       "[Collection(id=3186f0ec-26e5-46fa-b687-281a3a26066f, name=llama_index_blogs),\n",
       " Collection(id=cf744ea1-c23d-41c8-8204-363adcd4b3fe, name=llma_blogs_summary),\n",
       " Collection(id=e2bc79ee-49dd-45e4-85f3-6acb87185f7a, name=blogs_summary)]"
      ]
     },
     "execution_count": 13,
     "metadata": {},
     "output_type": "execute_result"
    }
   ],
   "source": [
    "chroma_client.list_collections()"
   ]
  },
  {
   "cell_type": "code",
   "execution_count": 14,
   "id": "c5ae16af-4694-462c-9264-84f64ea9d500",
   "metadata": {},
   "outputs": [],
   "source": [
    "# Get or create a collection with the given name and metadata.\n",
    "vector_collection = chroma_client.get_or_create_collection(\"llama_index_blogs\")\n",
    "vector_store = ChromaVectorStore(chroma_collection=vector_collection)\n",
    "vector_storage_context = StorageContext.from_defaults(vector_store=vector_store)"
   ]
  },
  {
   "cell_type": "code",
   "execution_count": 17,
   "id": "1b88d17f-4832-4fa8-aeee-139afb439670",
   "metadata": {},
   "outputs": [],
   "source": [
    "# load your index from stored vectors\n",
    "vector_index = VectorStoreIndex.from_vector_store(\n",
    "    llm=llm_hf,\n",
    "    embed_model=embed_model,\n",
    "    vector_store=vector_store, \n",
    "    storage_context=vector_storage_context\n",
    ")"
   ]
  },
  {
   "cell_type": "code",
   "execution_count": 20,
   "id": "b5d00da3-837e-4718-9fe9-565b97e4d9a9",
   "metadata": {},
   "outputs": [
    {
     "data": {
      "text/plain": [
       "StorageContext(docstore=<llama_index.core.storage.docstore.simple_docstore.SimpleDocumentStore object at 0x7f341a611cc0>, index_store=<llama_index.core.storage.index_store.simple_index_store.SimpleIndexStore object at 0x7f341a61b1f0>, vector_stores={'default': ChromaVectorStore(stores_text=True, is_embedding_query=True, flat_metadata=True, collection_name=None, host=None, port=None, ssl=False, headers=None, persist_dir=None, collection_kwargs={})}, graph_store=<llama_index.core.graph_stores.simple.SimpleGraphStore object at 0x7f341a47f670>, property_graph_store=None)"
      ]
     },
     "execution_count": 20,
     "metadata": {},
     "output_type": "execute_result"
    }
   ],
   "source": [
    "# Get or create a collection with the given name and metadata.\n",
    "doc_sum_collection = chroma_client.get_or_create_collection(\"blogs_summary\")\n",
    "doc_sum_vector_store = ChromaVectorStore(\n",
    "    chroma_collection=vector_collection\n",
    ")\n",
    "\n",
    "doc_sum_storage_context = StorageContext.from_defaults(\n",
    "    vector_store=doc_sum_vector_store,\n",
    "    persist_dir=\"./database/blogs_summary\"\n",
    ")\n",
    "doc_sum_storage_context"
   ]
  },
  {
   "cell_type": "code",
   "execution_count": 22,
   "id": "48cd9948-aed2-43d5-bc9f-fef2e475a224",
   "metadata": {},
   "outputs": [
    {
     "name": "stdout",
     "output_type": "stream",
     "text": [
      "INFO:llama_index.core.indices.loading:Loading all indices.\n",
      "Loading all indices.\n"
     ]
    },
    {
     "data": {
      "text/plain": [
       "<llama_index.core.indices.document_summary.base.DocumentSummaryIndex at 0x7f341a4c5660>"
      ]
     },
     "execution_count": 22,
     "metadata": {},
     "output_type": "execute_result"
    }
   ],
   "source": [
    "doc_summary_index = load_index_from_storage(\n",
    "    llm=llm_hf,\n",
    "    embed_model=embed_model,\n",
    "    storage_context=doc_sum_storage_context\n",
    ")\n",
    "doc_summary_index"
   ]
  },
  {
   "cell_type": "code",
   "execution_count": 41,
   "id": "4c57d836-a2c9-4d50-ad1d-5f69665ad7f2",
   "metadata": {},
   "outputs": [],
   "source": [
    "doc_sum_index_struct = doc_sum_storage_context.index_store.get_index_struct()"
   ]
  },
  {
   "cell_type": "code",
   "execution_count": 44,
   "id": "f716cddf-6477-494a-b928-8cfe29e09227",
   "metadata": {
    "scrolled": true
   },
   "outputs": [
    {
     "data": {
      "text/plain": [
       "IndexDocumentSummary(index_id='c7d3a64a-b28e-4e0b-9288-827c67a7b980', summary=None, summary_id_to_node_ids={'83001b14-fb2d-400e-b31b-3a48501408ce': ['d7be752a-0e06-424d-8aee-3a98e5e85a5c'], '90d0dad3-83e4-48ff-969a-41a450639f14': ['fd4001fc-71fa-4139-a074-30a1e7623240'], '8459bd37-a59b-4eb1-b346-49c451ffd64b': ['c8449782-e685-40ae-b9e3-7444396543c4'], '78e2927e-d1d5-46d0-9f7d-a83732e7369b': ['e0af1e9c-54d5-4fc6-b29c-200c841ef247'], '77ba3a80-549e-47e9-bbf3-f70fbaa39686': ['2d74700e-cd3e-4388-a062-02ab00aef449'], 'c07eb866-c51d-4e7a-b9af-1df89655b2d6': ['b21d0b46-68a2-4661-a1d0-00ed2b425b11'], '6c94c9c1-8eaa-45d4-befa-54e84f2ecebe': ['7dafcb22-17ae-4dd3-8487-0b01dcb3f669'], 'f32cd777-600a-4a8e-91f1-c5340cfd85ea': ['542e4fa9-6577-4c98-a8c7-72ca69e69993'], '51cf26f6-53c6-47e1-8ff7-3b845c7744cc': ['4f6ca503-a707-49a5-8bc7-a5e0d6a923be'], '2e1d8446-49c6-4183-ad1a-6f5dfc6bc6da': ['721d9c47-002c-446a-b063-8586ab40dfe4'], '71360fb6-350f-4905-aef8-19f79ee01ff5': ['ab682f7b-a39a-4347-a397-ea949f7645c2'], 'd1003737-974b-4885-96e1-a46fd31a3e22': ['677eaae0-49f8-42b6-aeef-77f6c9a29fe7'], '4d6dc69f-9dae-4907-a8c0-14331d223732': ['91bbd0bf-7804-48e4-b8f1-c45ebe769478'], 'e5fb4319-54c6-4233-91cc-2367005a7202': ['eb53e9aa-77c0-4337-b93c-8d845533424c'], 'cf82d9b0-25ef-4a65-959c-bc0f5589ced8': ['aa501d43-7ee2-4310-a6bb-bac4f0169314'], '288844f4-181a-4fb5-813b-81b6f7fe1b2f': ['bcdb8818-7166-47e9-adb9-9b7fcacdd629'], '7c22a9a7-21f8-4e51-9b36-542b2a213711': ['9e41746c-026f-4163-9c90-e76d8317896c'], '650a5a60-f82f-432e-9069-94ced09b1840': ['1c6e6f5a-fd22-479c-aa6f-883a608eff98'], '5761f8d9-2484-4561-80f6-fb3eb3b80d7c': ['53114f4b-875f-4c80-a26b-dade1c3fb97b'], '1f12b488-aa4a-44fe-8351-c959e234c53e': ['cb3fad68-987a-4b78-8d97-36528341f73f'], '7f9f3383-657e-4718-868e-2beea6e45e25': ['72caf566-b9af-486b-aa5a-5519e5509e53'], '46aef392-a42f-4159-846f-713d933c31d9': ['a75e40b3-ef51-4482-a252-f4cb730e78c6'], 'efdb4bc2-a61c-4fa3-9b1f-3ee7a9fd6f02': ['3c2a141f-c9f0-4abd-b500-8cb1106bc427'], '29dde6e0-b00a-4ec8-8fc9-91c1a11cced8': ['4bf5fad7-81d8-42a0-8759-88e33e229195'], 'fc5bc645-280c-44b1-8f55-a923ad5a53b4': ['7603167c-80bd-4ae6-ba83-be688bcc6ff2'], 'bc255221-4c45-42cd-9448-37ce4bf85975': ['b27e9bc5-89de-4fee-aaaf-8bd4a02091b6'], 'ec2945bc-f663-4011-96cb-9f322642710a': ['ef7ab3d9-ad12-44f8-81e5-a733fe37ed70'], 'ad5e5614-fd2d-40b8-b5fd-77e2351f5c1c': ['eccad25c-8678-4c75-be21-1b172414e304'], '13840a23-c7d3-466a-a5ef-3ca13ad3c289': ['43c11e43-a9e1-4e20-a578-35a234992fc0'], '4ac9b548-a6ce-44f0-a298-8b1bc6870b58': ['093dd541-ece9-485b-b41d-4ae80b733e86'], '6f9d733b-3654-42e7-8055-4a5b1cc7929b': ['1ebeacf6-ead5-42b9-8080-9a1316efd4d6'], 'c0c3b479-4e27-488f-96bb-2f7958531f88': ['a56f2b2d-eb47-487d-b108-690cae3ec9f6'], 'b89fc93f-8fe1-455b-b2e2-3f039fc4c821': ['45d275d9-debd-445a-aae0-6fc18f97f963'], 'dc3aae11-61f2-45bc-97a1-6485c18dcfbe': ['1298488c-751b-4e4b-8609-0fc822bbeda4'], '8d53a5a5-a61b-48d1-9726-c37659c594b0': ['58797dbc-24cc-4e0c-911a-c75a82476b66'], '3a4b10b9-3792-4e0b-9b47-a409b6735b7f': ['10abc301-d5d8-4f47-98f0-448a326fae47'], 'c239bd6c-3955-4c0a-a528-3ec9f4e865bf': ['cf9e1e55-3c01-4ad7-9212-ab5716ef2216'], '5c6a1117-be96-4783-aa30-8d8d0f1f0fc7': ['2ab33830-349c-4cfd-a9df-27023e133c9c'], '492d2827-5f2e-4694-b90e-02beba3aab66': ['1fb1c0dd-614c-4cce-a613-fa39c6634069'], '5c818674-12f6-4454-98fd-f5ca4e575a4a': ['e5133220-b12b-46a4-bbea-dcdc289b1280'], 'e24625a9-19a9-4658-aead-0413b1fa8d86': ['cb09bc93-1d03-429b-bf6b-157bf6d0e135'], 'b12f7641-553c-46e2-b38a-96edbfdf383e': ['fcd4f869-7e6b-4140-8092-7f0fded29c81'], '4d400bfc-be64-4be7-91c4-cee2a8590dfc': ['7e016859-6da8-439e-859d-93470687a784'], 'a0e32d09-7d5e-4924-a122-f574b006ce43': ['015332b0-8eea-4d0a-8af8-d3ec7fdc0849'], '3f3c8fa1-e2ab-4f59-84db-9579abf12516': ['19be6fb5-5454-421a-a25c-65cd25babeb4'], '076ff5b2-eeac-4b00-a2d3-a69736af563f': ['b0411a47-97c5-43ae-98c4-efb40e22c9bf'], '7182dfc4-59d1-40bb-a441-0eaae03678b7': ['d4a76c0d-8011-4cfa-ba89-4bd18f779538'], 'e6c2f380-dae5-46d1-b859-51ecf810ab63': ['ad700478-309e-467d-bfcc-15ed542fa03e'], '60ff6c04-bd0a-4e31-926c-93f341377cab': ['c18d9bd8-763e-4a8c-b32f-2e8c87b5c3be'], 'abfec326-12d7-4050-8535-fb19b5e8d1ec': ['0f337657-1fcf-4602-80ec-e2765f1ca312'], '123f9c77-f764-495f-b50a-463c23d9ef6d': ['0d551e45-4afb-475f-84cf-6e916d1bb625'], '1d700344-f592-4c7e-ad65-58c9a2b23dae': ['75b64a9d-5435-4697-a5a1-e6f68fd72ee7'], '93df4a84-3e21-488e-be5c-574732ab057f': ['67a39a17-1d98-4e44-b55e-0c34fbe4931a'], '23c0c342-b5ff-4097-9372-42a689349c3d': ['29b4215a-bbc5-47b4-8d27-5747dc7f4dcd'], 'f6dc427b-b915-4647-a282-6d68bc6fc466': ['0d8709fd-deca-456e-8637-22e1d560e2d5'], '3f8bbe65-f50d-4736-91b8-f2c2d95f664c': ['45b64eb6-f8fd-4097-9e2e-1cf2b25b01d7'], 'b34bddd8-397b-49b8-aee0-35fa2312c3c7': ['5da260ff-81af-437d-bbc7-e67593307b87'], '88fb8b71-9417-463e-9594-a800a6bd7002': ['6f6bbd07-b237-4787-a3ce-fab279884a70'], 'edde25d6-2068-483d-9f6c-d1efc27c2289': ['9252e368-47eb-4114-922a-b9098ed2a1e4'], '0a331bec-d6d4-44e9-b437-bc33c4cbcdf0': ['b4d5e3eb-45fb-4b5e-8bfb-ccecefd2ab7b'], '01310167-4545-4da6-832e-2377043f67a9': ['7ba8e8f5-55df-4d69-9171-68459d3b96eb'], '871bde9f-8afd-44ee-9e8a-778424484ad6': ['eaf39a01-bafe-4c52-85af-37d412ae586f'], '0413acd1-7b0e-4b3d-bd40-f5b40cc74b56': ['e84ce598-1e29-4f9b-b8b8-d1a63678ac26'], '1fc794d0-dd4b-4232-ac2d-bcfdd2f737c9': ['c71a83e3-f32a-4445-9ee3-cad21e9a0778'], '1e80d500-411f-412e-8c7d-0ba3aabb3930': ['3e5d98e6-d512-4b30-b531-d13042572fd3'], '90128250-545b-4fcd-92b9-504e7d59be68': ['83e4306e-ad51-472d-8de8-5db4fe1e12e9'], 'e2a7e039-d3fb-49dc-a063-62b9bcf32e48': ['a368acbf-5e8a-4f67-90fb-681d10d26379'], 'bd573d2c-d04b-4397-9d42-579528d43f12': ['d4312cad-4695-4e8f-84d4-793758a8c966'], 'f2a9fcbf-4e45-4a09-9280-2ab03dbd2b91': ['75c83f20-cfc9-4004-a2f1-3b5844923fdc'], 'd0855239-4e1a-41e7-8feb-593b16c4512d': ['b2394993-0632-41dc-9b85-fb6398ac127d'], '155d642c-6e3b-4c3b-9178-080677b69062': ['ec34043d-40a0-4bd1-9d3f-3c1d34b74d6f'], 'b94ada67-94c1-4eb7-a4dd-6f203bb98d8c': ['fd9bd377-d076-4e2f-ad94-4c70fb203431'], '49f1def6-1d5e-41b6-9a7a-8bcb23d9a250': ['286dc06c-44d3-4ddb-81fe-c5e32f246a8e'], 'db379d9e-d881-4f08-bb6a-bf7ea6c03076': ['1b13ab53-9b38-4ac2-b634-9361051cd562'], 'ae3fa659-adca-476a-a932-11719039fdc4': ['de3e81b8-63b3-4ea1-8dbd-0e9608cd55c7'], '8eb79a05-ff5d-4057-86bf-9f1bbd6bc8b3': ['ffec9c1b-f29d-4596-89ee-323ae052143e'], '369ac48f-7909-45e3-b24d-7c27e92212db': ['bb45192e-23b8-4f4a-adb4-ebc82f1f3440'], '91d0debf-63e5-4b72-b5de-658f6d9bbcdf': ['dae6e131-5d00-4a87-8cee-c2e54de14693'], 'e56ce492-07a5-4612-a6fe-5677c2b2ecf0': ['1c6b3573-c71f-4c67-a579-7be2e27c9846'], '0f199c3b-e433-46ed-b4ec-67d697c45bb8': ['8b11322e-cfc5-490a-9095-8a596889d6dc'], 'ace7cd41-9c8e-45ae-a906-cbd7bdea2de3': ['b917ee22-46b2-4ba6-b9f4-499ee3e46976'], '393e9985-d181-4b5c-b17a-e2641a6d865d': ['2896da82-3211-4bde-8115-d8d376dfeeb2'], 'eec58ba9-7ab0-455a-9b62-b68a9faf700d': ['5fcab154-b832-4485-b490-a1fc906a44ce'], 'f2b6eec6-c895-492e-8b70-45b0c98b4436': ['982f24c2-20a2-49d4-9f3a-cb216cb40c75'], 'ab81fa3d-da8f-42cf-8b30-fa58fab75ffb': ['547215de-f1fe-402d-a7cb-bce82b5fb107'], 'b4f4106f-d3e0-42c8-97a3-3014f377c37e': ['b293f6a2-825e-4e15-9fa8-bacd8a1a6255'], '5eabadc2-9f73-4400-81df-e9167e1c1595': ['d0215726-4154-4f22-abca-96c226bdf066'], '6916b918-0b45-4117-bab9-1c322353fb32': ['befbcdfe-273d-447f-a8a8-443643f2518e'], 'df738da3-01fa-4c8f-accf-3057e7d28913': ['651f6397-c19d-4a2f-9fdb-2a657699aa69'], '3bdedc09-2d20-4d3c-b0e7-5048dc2d3a23': ['c292cf04-4202-46ef-9615-ebd8b4f691e1'], 'a921b43b-bc2d-4860-9b27-e223b02236fe': ['8b59e0f9-8a67-446d-a31a-47f64aabb86c'], '7a547101-75f8-4471-92bf-c1b454ce94fb': ['309f00b5-e781-4d35-998a-88bcadea4915'], '57234cb7-d09a-4463-bbcc-fa30974cfa17': ['5507c3b5-7743-46ce-85e1-540285feec65'], '6678a088-8c15-4de7-bc3a-1644f9402804': ['fae755c6-64eb-4e29-b14e-ec1f5fe151b0'], '8d67b4d2-3a1f-44eb-8833-57deaecf65db': ['ee8f4315-d714-4901-be24-598390cde4ae'], '75952d41-8f05-41a6-9a17-8a13e46d162e': ['2645d982-aadc-4e88-8d16-a0cda3215a7c'], '3d1d146f-234d-4722-9a44-7cae1d22ebeb': ['309648a9-822c-44ba-aa22-09311c2de138'], 'da7a008c-194b-4127-8013-c0b28d2ac838': ['231ef033-a676-4456-9ec2-d998a21fddba'], '969e0723-8b7a-400b-85b0-14e539747a3f': ['fa6018c4-71e9-4a2b-a80d-629135ec97a9'], 'f10e29e1-4b5a-4907-b71e-704f75f98031': ['017f7ad5-1379-4285-8155-0a6ccf3c4800'], 'c0a1109d-4e46-4423-b755-80a3bb4af515': ['60ecb273-470b-431a-a3ec-512ae5c68015'], '3f1ff09e-313f-4b07-9807-32dc5a2b9fc2': ['64c022dc-191e-4e0c-b783-6676845d219e'], 'b086fcf1-f08b-4afc-8097-9471a965c1ce': ['e40d8b2d-e098-40e0-88d3-a53b9ae8308b'], '097d486c-14e7-46cd-819f-029c8fdedf6f': ['4d064c70-90b1-4465-97e2-2eabafc0feed'], '124f07cf-be0c-49f5-bd03-4d3dc22ff9eb': ['8180bf62-60e1-450e-9589-4b0667a566bf'], 'afd66fa0-1373-44e1-af17-88f0aeb7d1c6': ['ed9e395e-b9b9-4821-a4f9-06cc2b7e5329'], 'aad60b80-c0fb-4533-a3d9-887157de0f0a': ['3d42b824-bce9-4a63-9053-cb9e91c8801f'], 'c70e20ef-07ef-40b0-b508-debf9e34f01c': ['51420421-c965-4215-85a4-5d3e334431ab'], '07f91239-eab0-4b77-9d44-83bbfed20201': ['9ab4246f-4d29-4686-abe8-2f0c710de25e'], '87813008-0ec9-4f71-b345-d58f4909ecd6': ['141f71f0-efff-4a47-8861-6b1a809a0a15'], '442318f5-bd6e-4b42-8c8d-905dde904aca': ['257dc101-bd52-471d-9104-3ab57355740d'], '54c4d011-d894-42de-8b06-3f68bfdfae0a': ['94092881-2ff9-4817-a884-f349c4240baf'], 'e550df24-500a-47da-871e-45c9c237c6c5': ['4ddf56f3-b705-465d-984a-043fc1b59144'], '7122d6bc-8686-4963-8965-c45b7dcc93da': ['525538fd-c063-4fa1-bf29-c8f33d33b1fc'], '4f20eb78-358b-4525-950a-d014c9b5a4e4': ['a900c947-cee8-4e8f-9915-97ae111d8b8a'], '7a7ff547-14ef-496b-a8e6-4ed239047a07': ['c9abdf40-a41f-4099-8d3f-e24b5f91a5c3'], '5e35d539-6390-48bb-9205-e3b17e1cd9e0': ['1b725d51-5e7f-41e5-9688-ac6ad095544b'], '3285e0fd-d0b5-48f4-b79e-57eb2c3e4b26': ['3cae4701-e505-4058-9d4c-7ecef3082ea5'], '9bb11259-1760-43ad-b6f5-00a7d237f2fb': ['b857c6d8-1c28-4c5e-ad15-aeb0017a4539'], 'e10a12c9-04f9-4687-8409-d2b28ecf0a17': ['6c5f7ca6-b5b6-4fbe-8e7e-19da0ce2f118'], '081baa8f-e7a1-4804-b75e-e6c7702709b3': ['6fb7feeb-82a2-4dab-bf53-1e4295f8cd5e'], 'a382cabf-7150-4c27-8e29-9158df4d8cd8': ['ca5cd227-31a4-4889-a697-58fde080ff56'], 'dd19d281-9b4e-442f-8f4f-c9a6007f3ff6': ['16f2c1f8-4c52-4e46-b267-afb162402d47'], '6530c364-f6dc-4b04-9631-9c18b4241caf': ['53468c8b-eb55-4386-8249-8e2dc11ff5a0'], '9260d03a-a64d-44d8-837a-371c97930488': ['46618cc7-3c24-4ae8-a484-5105fe1c8c62'], 'ec91c3cb-204a-4184-b27c-60145bb5ea4c': ['2934dde5-632a-4630-bd67-e76f5036cedd'], '713febfb-2255-496c-9648-087c01d69fcf': ['5b6ae502-fa08-4814-a455-5bf4588d5787'], '1b398c01-24b6-4aa4-afda-d1b0fab6dd83': ['4802a12a-b25c-4d24-8cdf-6a91a0f50268'], '7516225c-ac9f-4846-b9df-7b9fd66a796e': ['96a79d46-9c47-43d1-a537-51395ef4596b'], 'bdb955cb-3791-4a33-bb8b-9b49ae4dc880': ['14357e15-3916-4aa0-aaa6-b3214b2a64d2'], '003fa2ae-c366-4f7e-b6d1-2b03b19a8c23': ['0212bfaa-89d6-456c-a78f-aa8ce03094df'], '097b6b16-d85c-42fc-863c-cf2d6a082ee2': ['3939f831-8ef2-4f7a-b240-ed12c62e4306'], '79033d51-6e72-4407-bcd3-8a1c1ea243f3': ['80cb2875-d534-42ff-88b0-2b247c4a4365'], '4c78b9be-10aa-4203-b3a5-95c6452201a0': ['d177694f-0d97-438b-a3ce-7696eaf89084'], 'c990777c-dce7-4e5b-bb02-54cdd9180314': ['c7886207-4b88-4a1a-8e30-820391e9deaf'], '2716650b-a624-4ddc-8de6-9664b0a43286': ['b2862724-1e15-4d32-bd5b-11992d50b4f7'], '3a8628c5-14f9-493f-83fc-5ec0da7827f1': ['2d336599-7330-4600-95eb-3b84a5276fe7'], '4e63a095-cf8f-4bfc-922d-5ae7cee288a2': ['9383589f-e840-4b67-b2a0-56c8ddc6bdbc'], 'c8cee370-e834-4710-af6e-1c4d640d1d22': ['b9858923-6720-4415-a97f-908b5f503af9'], '28df59df-30a7-4aee-90b7-cb990c758c92': ['8a037895-5207-4bfc-a218-4686c6572581'], '7e6bcfe0-e8f2-47bc-975f-c4e0a1ec6170': ['8d0b0051-1b7f-4ed8-951c-f4fcd00755af'], 'c7312d12-c832-4281-a316-83f147e4a5b0': ['a85b9a85-1bb3-4a38-bcfd-07da5bc554f0'], '8e3da68c-661c-4d88-80dd-4a6b639985f2': ['8e89f7d7-9a58-4ca0-b468-42d0d14c0287'], 'd713bde2-c216-45ca-a50c-4d82447ddcc9': ['d44d1b66-a6d3-4de4-97e6-449624b3fce1'], 'ed5e1673-d674-4279-8727-32d03c128bf7': ['8ba07468-3aef-4f59-b2e4-a4fc9643f4d0'], 'd49bc2cf-8eb4-4a55-8753-f055713a20c0': ['07e7f65a-092e-4a2f-8f4a-db3039b3e8de'], 'd3bea69b-d7cf-4192-b5f1-bda08ed5f075': ['79bd7357-de68-4075-b944-67130bc2e1c3'], 'dca7137f-1b4b-49cf-b8e1-365b6ee4f349': ['512f2072-c2a8-4b01-844c-5a4905be82a4'], '8bf758c5-7993-4480-86e4-31efc1b5b2e1': ['56225273-6ced-4d10-a708-beb42b52bc19'], '7aeff5aa-425a-4a5d-b684-c669ed5b53ad': ['8ab1d3a1-cacc-48e3-afd0-efeed2a51579'], '68cacd2a-53b3-4748-87b4-3daca98a318b': ['886b75ed-9414-4389-9e46-fed3f2f5e0ac'], '907c913e-6863-4e67-ba21-99654c410ecd': ['89666c95-e8ad-4519-81cd-3bac4c737a3b'], '2e713d08-09cb-465a-84ad-f47c210ab63d': ['9b3d12de-a059-49a6-875c-0b6d7afdd4c6'], '9a277129-75eb-4cf1-8762-14f409a7daba': ['44d7b787-127b-4136-8076-08c9bc871bd5'], 'bb7b2a61-3cdd-4d17-adcf-7f7dee63829f': ['781d1d55-0b3b-450b-a735-1f91508a309d'], '0a2f8bfb-56cc-4800-b16e-bddb54595e21': ['29e5f7c9-ebbf-4ae8-a2e8-3e2dd022921c'], 'b6de8c2f-dc98-46a4-be20-8f3960df6968': ['a7eb7f5e-5364-48ce-aa1f-77e9aa159c2c'], '9c957df3-76e6-4ecd-9cb6-7c86f1819cdc': ['5612d787-8f42-4b63-90d7-ab5d6e37df5c'], '5d4d5ede-c2ae-41d9-b9a9-8b0394f363af': ['fbb41713-78d4-4c48-87be-05927fc3dba6']}, node_id_to_summary_id={'d7be752a-0e06-424d-8aee-3a98e5e85a5c': '83001b14-fb2d-400e-b31b-3a48501408ce', 'fd4001fc-71fa-4139-a074-30a1e7623240': '90d0dad3-83e4-48ff-969a-41a450639f14', 'c8449782-e685-40ae-b9e3-7444396543c4': '8459bd37-a59b-4eb1-b346-49c451ffd64b', 'e0af1e9c-54d5-4fc6-b29c-200c841ef247': '78e2927e-d1d5-46d0-9f7d-a83732e7369b', '2d74700e-cd3e-4388-a062-02ab00aef449': '77ba3a80-549e-47e9-bbf3-f70fbaa39686', 'b21d0b46-68a2-4661-a1d0-00ed2b425b11': 'c07eb866-c51d-4e7a-b9af-1df89655b2d6', '7dafcb22-17ae-4dd3-8487-0b01dcb3f669': '6c94c9c1-8eaa-45d4-befa-54e84f2ecebe', '542e4fa9-6577-4c98-a8c7-72ca69e69993': 'f32cd777-600a-4a8e-91f1-c5340cfd85ea', '4f6ca503-a707-49a5-8bc7-a5e0d6a923be': '51cf26f6-53c6-47e1-8ff7-3b845c7744cc', '721d9c47-002c-446a-b063-8586ab40dfe4': '2e1d8446-49c6-4183-ad1a-6f5dfc6bc6da', 'ab682f7b-a39a-4347-a397-ea949f7645c2': '71360fb6-350f-4905-aef8-19f79ee01ff5', '677eaae0-49f8-42b6-aeef-77f6c9a29fe7': 'd1003737-974b-4885-96e1-a46fd31a3e22', '91bbd0bf-7804-48e4-b8f1-c45ebe769478': '4d6dc69f-9dae-4907-a8c0-14331d223732', 'eb53e9aa-77c0-4337-b93c-8d845533424c': 'e5fb4319-54c6-4233-91cc-2367005a7202', 'aa501d43-7ee2-4310-a6bb-bac4f0169314': 'cf82d9b0-25ef-4a65-959c-bc0f5589ced8', 'bcdb8818-7166-47e9-adb9-9b7fcacdd629': '288844f4-181a-4fb5-813b-81b6f7fe1b2f', '9e41746c-026f-4163-9c90-e76d8317896c': '7c22a9a7-21f8-4e51-9b36-542b2a213711', '1c6e6f5a-fd22-479c-aa6f-883a608eff98': '650a5a60-f82f-432e-9069-94ced09b1840', '53114f4b-875f-4c80-a26b-dade1c3fb97b': '5761f8d9-2484-4561-80f6-fb3eb3b80d7c', 'cb3fad68-987a-4b78-8d97-36528341f73f': '1f12b488-aa4a-44fe-8351-c959e234c53e', '72caf566-b9af-486b-aa5a-5519e5509e53': '7f9f3383-657e-4718-868e-2beea6e45e25', 'a75e40b3-ef51-4482-a252-f4cb730e78c6': '46aef392-a42f-4159-846f-713d933c31d9', '3c2a141f-c9f0-4abd-b500-8cb1106bc427': 'efdb4bc2-a61c-4fa3-9b1f-3ee7a9fd6f02', '4bf5fad7-81d8-42a0-8759-88e33e229195': '29dde6e0-b00a-4ec8-8fc9-91c1a11cced8', '7603167c-80bd-4ae6-ba83-be688bcc6ff2': 'fc5bc645-280c-44b1-8f55-a923ad5a53b4', 'b27e9bc5-89de-4fee-aaaf-8bd4a02091b6': 'bc255221-4c45-42cd-9448-37ce4bf85975', 'ef7ab3d9-ad12-44f8-81e5-a733fe37ed70': 'ec2945bc-f663-4011-96cb-9f322642710a', 'eccad25c-8678-4c75-be21-1b172414e304': 'ad5e5614-fd2d-40b8-b5fd-77e2351f5c1c', '43c11e43-a9e1-4e20-a578-35a234992fc0': '13840a23-c7d3-466a-a5ef-3ca13ad3c289', '093dd541-ece9-485b-b41d-4ae80b733e86': '4ac9b548-a6ce-44f0-a298-8b1bc6870b58', '1ebeacf6-ead5-42b9-8080-9a1316efd4d6': '6f9d733b-3654-42e7-8055-4a5b1cc7929b', 'a56f2b2d-eb47-487d-b108-690cae3ec9f6': 'c0c3b479-4e27-488f-96bb-2f7958531f88', '45d275d9-debd-445a-aae0-6fc18f97f963': 'b89fc93f-8fe1-455b-b2e2-3f039fc4c821', '1298488c-751b-4e4b-8609-0fc822bbeda4': 'dc3aae11-61f2-45bc-97a1-6485c18dcfbe', '58797dbc-24cc-4e0c-911a-c75a82476b66': '8d53a5a5-a61b-48d1-9726-c37659c594b0', '10abc301-d5d8-4f47-98f0-448a326fae47': '3a4b10b9-3792-4e0b-9b47-a409b6735b7f', 'cf9e1e55-3c01-4ad7-9212-ab5716ef2216': 'c239bd6c-3955-4c0a-a528-3ec9f4e865bf', '2ab33830-349c-4cfd-a9df-27023e133c9c': '5c6a1117-be96-4783-aa30-8d8d0f1f0fc7', '1fb1c0dd-614c-4cce-a613-fa39c6634069': '492d2827-5f2e-4694-b90e-02beba3aab66', 'e5133220-b12b-46a4-bbea-dcdc289b1280': '5c818674-12f6-4454-98fd-f5ca4e575a4a', 'cb09bc93-1d03-429b-bf6b-157bf6d0e135': 'e24625a9-19a9-4658-aead-0413b1fa8d86', 'fcd4f869-7e6b-4140-8092-7f0fded29c81': 'b12f7641-553c-46e2-b38a-96edbfdf383e', '7e016859-6da8-439e-859d-93470687a784': '4d400bfc-be64-4be7-91c4-cee2a8590dfc', '015332b0-8eea-4d0a-8af8-d3ec7fdc0849': 'a0e32d09-7d5e-4924-a122-f574b006ce43', '19be6fb5-5454-421a-a25c-65cd25babeb4': '3f3c8fa1-e2ab-4f59-84db-9579abf12516', 'b0411a47-97c5-43ae-98c4-efb40e22c9bf': '076ff5b2-eeac-4b00-a2d3-a69736af563f', 'd4a76c0d-8011-4cfa-ba89-4bd18f779538': '7182dfc4-59d1-40bb-a441-0eaae03678b7', 'ad700478-309e-467d-bfcc-15ed542fa03e': 'e6c2f380-dae5-46d1-b859-51ecf810ab63', 'c18d9bd8-763e-4a8c-b32f-2e8c87b5c3be': '60ff6c04-bd0a-4e31-926c-93f341377cab', '0f337657-1fcf-4602-80ec-e2765f1ca312': 'abfec326-12d7-4050-8535-fb19b5e8d1ec', '0d551e45-4afb-475f-84cf-6e916d1bb625': '123f9c77-f764-495f-b50a-463c23d9ef6d', '75b64a9d-5435-4697-a5a1-e6f68fd72ee7': '1d700344-f592-4c7e-ad65-58c9a2b23dae', '67a39a17-1d98-4e44-b55e-0c34fbe4931a': '93df4a84-3e21-488e-be5c-574732ab057f', '29b4215a-bbc5-47b4-8d27-5747dc7f4dcd': '23c0c342-b5ff-4097-9372-42a689349c3d', '0d8709fd-deca-456e-8637-22e1d560e2d5': 'f6dc427b-b915-4647-a282-6d68bc6fc466', '45b64eb6-f8fd-4097-9e2e-1cf2b25b01d7': '3f8bbe65-f50d-4736-91b8-f2c2d95f664c', '5da260ff-81af-437d-bbc7-e67593307b87': 'b34bddd8-397b-49b8-aee0-35fa2312c3c7', '6f6bbd07-b237-4787-a3ce-fab279884a70': '88fb8b71-9417-463e-9594-a800a6bd7002', '9252e368-47eb-4114-922a-b9098ed2a1e4': 'edde25d6-2068-483d-9f6c-d1efc27c2289', 'b4d5e3eb-45fb-4b5e-8bfb-ccecefd2ab7b': '0a331bec-d6d4-44e9-b437-bc33c4cbcdf0', '7ba8e8f5-55df-4d69-9171-68459d3b96eb': '01310167-4545-4da6-832e-2377043f67a9', 'eaf39a01-bafe-4c52-85af-37d412ae586f': '871bde9f-8afd-44ee-9e8a-778424484ad6', 'e84ce598-1e29-4f9b-b8b8-d1a63678ac26': '0413acd1-7b0e-4b3d-bd40-f5b40cc74b56', 'c71a83e3-f32a-4445-9ee3-cad21e9a0778': '1fc794d0-dd4b-4232-ac2d-bcfdd2f737c9', '3e5d98e6-d512-4b30-b531-d13042572fd3': '1e80d500-411f-412e-8c7d-0ba3aabb3930', '83e4306e-ad51-472d-8de8-5db4fe1e12e9': '90128250-545b-4fcd-92b9-504e7d59be68', 'a368acbf-5e8a-4f67-90fb-681d10d26379': 'e2a7e039-d3fb-49dc-a063-62b9bcf32e48', 'd4312cad-4695-4e8f-84d4-793758a8c966': 'bd573d2c-d04b-4397-9d42-579528d43f12', '75c83f20-cfc9-4004-a2f1-3b5844923fdc': 'f2a9fcbf-4e45-4a09-9280-2ab03dbd2b91', 'b2394993-0632-41dc-9b85-fb6398ac127d': 'd0855239-4e1a-41e7-8feb-593b16c4512d', 'ec34043d-40a0-4bd1-9d3f-3c1d34b74d6f': '155d642c-6e3b-4c3b-9178-080677b69062', 'fd9bd377-d076-4e2f-ad94-4c70fb203431': 'b94ada67-94c1-4eb7-a4dd-6f203bb98d8c', '286dc06c-44d3-4ddb-81fe-c5e32f246a8e': '49f1def6-1d5e-41b6-9a7a-8bcb23d9a250', '1b13ab53-9b38-4ac2-b634-9361051cd562': 'db379d9e-d881-4f08-bb6a-bf7ea6c03076', 'de3e81b8-63b3-4ea1-8dbd-0e9608cd55c7': 'ae3fa659-adca-476a-a932-11719039fdc4', 'ffec9c1b-f29d-4596-89ee-323ae052143e': '8eb79a05-ff5d-4057-86bf-9f1bbd6bc8b3', 'bb45192e-23b8-4f4a-adb4-ebc82f1f3440': '369ac48f-7909-45e3-b24d-7c27e92212db', 'dae6e131-5d00-4a87-8cee-c2e54de14693': '91d0debf-63e5-4b72-b5de-658f6d9bbcdf', '1c6b3573-c71f-4c67-a579-7be2e27c9846': 'e56ce492-07a5-4612-a6fe-5677c2b2ecf0', '8b11322e-cfc5-490a-9095-8a596889d6dc': '0f199c3b-e433-46ed-b4ec-67d697c45bb8', 'b917ee22-46b2-4ba6-b9f4-499ee3e46976': 'ace7cd41-9c8e-45ae-a906-cbd7bdea2de3', '2896da82-3211-4bde-8115-d8d376dfeeb2': '393e9985-d181-4b5c-b17a-e2641a6d865d', '5fcab154-b832-4485-b490-a1fc906a44ce': 'eec58ba9-7ab0-455a-9b62-b68a9faf700d', '982f24c2-20a2-49d4-9f3a-cb216cb40c75': 'f2b6eec6-c895-492e-8b70-45b0c98b4436', '547215de-f1fe-402d-a7cb-bce82b5fb107': 'ab81fa3d-da8f-42cf-8b30-fa58fab75ffb', 'b293f6a2-825e-4e15-9fa8-bacd8a1a6255': 'b4f4106f-d3e0-42c8-97a3-3014f377c37e', 'd0215726-4154-4f22-abca-96c226bdf066': '5eabadc2-9f73-4400-81df-e9167e1c1595', 'befbcdfe-273d-447f-a8a8-443643f2518e': '6916b918-0b45-4117-bab9-1c322353fb32', '651f6397-c19d-4a2f-9fdb-2a657699aa69': 'df738da3-01fa-4c8f-accf-3057e7d28913', 'c292cf04-4202-46ef-9615-ebd8b4f691e1': '3bdedc09-2d20-4d3c-b0e7-5048dc2d3a23', '8b59e0f9-8a67-446d-a31a-47f64aabb86c': 'a921b43b-bc2d-4860-9b27-e223b02236fe', '309f00b5-e781-4d35-998a-88bcadea4915': '7a547101-75f8-4471-92bf-c1b454ce94fb', '5507c3b5-7743-46ce-85e1-540285feec65': '57234cb7-d09a-4463-bbcc-fa30974cfa17', 'fae755c6-64eb-4e29-b14e-ec1f5fe151b0': '6678a088-8c15-4de7-bc3a-1644f9402804', 'ee8f4315-d714-4901-be24-598390cde4ae': '8d67b4d2-3a1f-44eb-8833-57deaecf65db', '2645d982-aadc-4e88-8d16-a0cda3215a7c': '75952d41-8f05-41a6-9a17-8a13e46d162e', '309648a9-822c-44ba-aa22-09311c2de138': '3d1d146f-234d-4722-9a44-7cae1d22ebeb', '231ef033-a676-4456-9ec2-d998a21fddba': 'da7a008c-194b-4127-8013-c0b28d2ac838', 'fa6018c4-71e9-4a2b-a80d-629135ec97a9': '969e0723-8b7a-400b-85b0-14e539747a3f', '017f7ad5-1379-4285-8155-0a6ccf3c4800': 'f10e29e1-4b5a-4907-b71e-704f75f98031', '60ecb273-470b-431a-a3ec-512ae5c68015': 'c0a1109d-4e46-4423-b755-80a3bb4af515', '64c022dc-191e-4e0c-b783-6676845d219e': '3f1ff09e-313f-4b07-9807-32dc5a2b9fc2', 'e40d8b2d-e098-40e0-88d3-a53b9ae8308b': 'b086fcf1-f08b-4afc-8097-9471a965c1ce', '4d064c70-90b1-4465-97e2-2eabafc0feed': '097d486c-14e7-46cd-819f-029c8fdedf6f', '8180bf62-60e1-450e-9589-4b0667a566bf': '124f07cf-be0c-49f5-bd03-4d3dc22ff9eb', 'ed9e395e-b9b9-4821-a4f9-06cc2b7e5329': 'afd66fa0-1373-44e1-af17-88f0aeb7d1c6', '3d42b824-bce9-4a63-9053-cb9e91c8801f': 'aad60b80-c0fb-4533-a3d9-887157de0f0a', '51420421-c965-4215-85a4-5d3e334431ab': 'c70e20ef-07ef-40b0-b508-debf9e34f01c', '9ab4246f-4d29-4686-abe8-2f0c710de25e': '07f91239-eab0-4b77-9d44-83bbfed20201', '141f71f0-efff-4a47-8861-6b1a809a0a15': '87813008-0ec9-4f71-b345-d58f4909ecd6', '257dc101-bd52-471d-9104-3ab57355740d': '442318f5-bd6e-4b42-8c8d-905dde904aca', '94092881-2ff9-4817-a884-f349c4240baf': '54c4d011-d894-42de-8b06-3f68bfdfae0a', '4ddf56f3-b705-465d-984a-043fc1b59144': 'e550df24-500a-47da-871e-45c9c237c6c5', '525538fd-c063-4fa1-bf29-c8f33d33b1fc': '7122d6bc-8686-4963-8965-c45b7dcc93da', 'a900c947-cee8-4e8f-9915-97ae111d8b8a': '4f20eb78-358b-4525-950a-d014c9b5a4e4', 'c9abdf40-a41f-4099-8d3f-e24b5f91a5c3': '7a7ff547-14ef-496b-a8e6-4ed239047a07', '1b725d51-5e7f-41e5-9688-ac6ad095544b': '5e35d539-6390-48bb-9205-e3b17e1cd9e0', '3cae4701-e505-4058-9d4c-7ecef3082ea5': '3285e0fd-d0b5-48f4-b79e-57eb2c3e4b26', 'b857c6d8-1c28-4c5e-ad15-aeb0017a4539': '9bb11259-1760-43ad-b6f5-00a7d237f2fb', '6c5f7ca6-b5b6-4fbe-8e7e-19da0ce2f118': 'e10a12c9-04f9-4687-8409-d2b28ecf0a17', '6fb7feeb-82a2-4dab-bf53-1e4295f8cd5e': '081baa8f-e7a1-4804-b75e-e6c7702709b3', 'ca5cd227-31a4-4889-a697-58fde080ff56': 'a382cabf-7150-4c27-8e29-9158df4d8cd8', '16f2c1f8-4c52-4e46-b267-afb162402d47': 'dd19d281-9b4e-442f-8f4f-c9a6007f3ff6', '53468c8b-eb55-4386-8249-8e2dc11ff5a0': '6530c364-f6dc-4b04-9631-9c18b4241caf', '46618cc7-3c24-4ae8-a484-5105fe1c8c62': '9260d03a-a64d-44d8-837a-371c97930488', '2934dde5-632a-4630-bd67-e76f5036cedd': 'ec91c3cb-204a-4184-b27c-60145bb5ea4c', '5b6ae502-fa08-4814-a455-5bf4588d5787': '713febfb-2255-496c-9648-087c01d69fcf', '4802a12a-b25c-4d24-8cdf-6a91a0f50268': '1b398c01-24b6-4aa4-afda-d1b0fab6dd83', '96a79d46-9c47-43d1-a537-51395ef4596b': '7516225c-ac9f-4846-b9df-7b9fd66a796e', '14357e15-3916-4aa0-aaa6-b3214b2a64d2': 'bdb955cb-3791-4a33-bb8b-9b49ae4dc880', '0212bfaa-89d6-456c-a78f-aa8ce03094df': '003fa2ae-c366-4f7e-b6d1-2b03b19a8c23', '3939f831-8ef2-4f7a-b240-ed12c62e4306': '097b6b16-d85c-42fc-863c-cf2d6a082ee2', '80cb2875-d534-42ff-88b0-2b247c4a4365': '79033d51-6e72-4407-bcd3-8a1c1ea243f3', 'd177694f-0d97-438b-a3ce-7696eaf89084': '4c78b9be-10aa-4203-b3a5-95c6452201a0', 'c7886207-4b88-4a1a-8e30-820391e9deaf': 'c990777c-dce7-4e5b-bb02-54cdd9180314', 'b2862724-1e15-4d32-bd5b-11992d50b4f7': '2716650b-a624-4ddc-8de6-9664b0a43286', '2d336599-7330-4600-95eb-3b84a5276fe7': '3a8628c5-14f9-493f-83fc-5ec0da7827f1', '9383589f-e840-4b67-b2a0-56c8ddc6bdbc': '4e63a095-cf8f-4bfc-922d-5ae7cee288a2', 'b9858923-6720-4415-a97f-908b5f503af9': 'c8cee370-e834-4710-af6e-1c4d640d1d22', '8a037895-5207-4bfc-a218-4686c6572581': '28df59df-30a7-4aee-90b7-cb990c758c92', '8d0b0051-1b7f-4ed8-951c-f4fcd00755af': '7e6bcfe0-e8f2-47bc-975f-c4e0a1ec6170', 'a85b9a85-1bb3-4a38-bcfd-07da5bc554f0': 'c7312d12-c832-4281-a316-83f147e4a5b0', '8e89f7d7-9a58-4ca0-b468-42d0d14c0287': '8e3da68c-661c-4d88-80dd-4a6b639985f2', 'd44d1b66-a6d3-4de4-97e6-449624b3fce1': 'd713bde2-c216-45ca-a50c-4d82447ddcc9', '8ba07468-3aef-4f59-b2e4-a4fc9643f4d0': 'ed5e1673-d674-4279-8727-32d03c128bf7', '07e7f65a-092e-4a2f-8f4a-db3039b3e8de': 'd49bc2cf-8eb4-4a55-8753-f055713a20c0', '79bd7357-de68-4075-b944-67130bc2e1c3': 'd3bea69b-d7cf-4192-b5f1-bda08ed5f075', '512f2072-c2a8-4b01-844c-5a4905be82a4': 'dca7137f-1b4b-49cf-b8e1-365b6ee4f349', '56225273-6ced-4d10-a708-beb42b52bc19': '8bf758c5-7993-4480-86e4-31efc1b5b2e1', '8ab1d3a1-cacc-48e3-afd0-efeed2a51579': '7aeff5aa-425a-4a5d-b684-c669ed5b53ad', '886b75ed-9414-4389-9e46-fed3f2f5e0ac': '68cacd2a-53b3-4748-87b4-3daca98a318b', '89666c95-e8ad-4519-81cd-3bac4c737a3b': '907c913e-6863-4e67-ba21-99654c410ecd', '9b3d12de-a059-49a6-875c-0b6d7afdd4c6': '2e713d08-09cb-465a-84ad-f47c210ab63d', '44d7b787-127b-4136-8076-08c9bc871bd5': '9a277129-75eb-4cf1-8762-14f409a7daba', '781d1d55-0b3b-450b-a735-1f91508a309d': 'bb7b2a61-3cdd-4d17-adcf-7f7dee63829f', '29e5f7c9-ebbf-4ae8-a2e8-3e2dd022921c': '0a2f8bfb-56cc-4800-b16e-bddb54595e21', 'a7eb7f5e-5364-48ce-aa1f-77e9aa159c2c': 'b6de8c2f-dc98-46a4-be20-8f3960df6968', '5612d787-8f42-4b63-90d7-ab5d6e37df5c': '9c957df3-76e6-4ecd-9cb6-7c86f1819cdc', 'fbb41713-78d4-4c48-87be-05927fc3dba6': '5d4d5ede-c2ae-41d9-b9a9-8b0394f363af'}, doc_id_to_summary_id={'/workspace/projects/LlamindexHelper/data/a-cheat-sheet-and-some-recipes-for-building-advanced-rag-803a9d94c41b.html': '83001b14-fb2d-400e-b31b-3a48501408ce', '/workspace/projects/LlamindexHelper/data/a-new-document-summary-index-for-llm-powered-qa-systems-9a32ece2f9ec.html': '90d0dad3-83e4-48ff-969a-41a450639f14', '/workspace/projects/LlamindexHelper/data/agentic-rag-with-llamaindex-2721b8a49ff6.html': '8459bd37-a59b-4eb1-b346-49c451ffd64b', '/workspace/projects/LlamindexHelper/data/ai-voice-assistant-enhancing-accessibility-in-ai-with-llamaindex-and-gpt3-5-f5509d296f4a.html': '78e2927e-d1d5-46d0-9f7d-a83732e7369b', '/workspace/projects/LlamindexHelper/data/announcing-llamaindex-0-9-719f03282945.html': '77ba3a80-549e-47e9-bbf3-f70fbaa39686', '/workspace/projects/LlamindexHelper/data/arize-ai-and-llamaindex-roll-out-joint-platform-for-evaluating-llm-applications.html': 'c07eb866-c51d-4e7a-b9af-1df89655b2d6', '/workspace/projects/LlamindexHelper/data/automate-online-tasks-with-multion-and-llamaindex.html': '6c94c9c1-8eaa-45d4-befa-54e84f2ecebe', '/workspace/projects/LlamindexHelper/data/batch-inference-with-mymagic-ai-and-llamaindex.html': 'f32cd777-600a-4a8e-91f1-c5340cfd85ea', '/workspace/projects/LlamindexHelper/data/becoming-proficient-in-document-extraction-32aa13046ed5.html': '51cf26f6-53c6-47e1-8ff7-3b845c7744cc', '/workspace/projects/LlamindexHelper/data/boosting-rag-picking-the-best-embedding-reranker-models-42d079022e83.html': '2e1d8446-49c6-4183-ad1a-6f5dfc6bc6da', '/workspace/projects/LlamindexHelper/data/bridging-the-gap-in-crisis-counseling-introducing-counselor-copilot-db42e26ab4f3.html': '71360fb6-350f-4905-aef8-19f79ee01ff5', '/workspace/projects/LlamindexHelper/data/bridging-the-language-gap-in-programming-introducing-autotranslatedoc-ccc93fbcd3a8.html': 'd1003737-974b-4885-96e1-a46fd31a3e22', '/workspace/projects/LlamindexHelper/data/build-a-chatgpt-with-your-private-data-using-llamaindex-and-mongodb-b09850eb154c.html': '4d6dc69f-9dae-4907-a8c0-14331d223732', '/workspace/projects/LlamindexHelper/data/build-and-evaluate-llm-apps-with-llamaindex-and-trulens-6749e030d83c.html': 'e5fb4319-54c6-4233-91cc-2367005a7202', '/workspace/projects/LlamindexHelper/data/build-and-scale-a-powerful-query-engine-with-llamaindex-and-ray-bfb456404bc4.html': 'cf82d9b0-25ef-4a65-959c-bc0f5589ced8', '/workspace/projects/LlamindexHelper/data/building-a-fully-open-source-retriever-with-nomic-embed-and-llamaindex-fc3d7f36d3e4.html': '288844f4-181a-4fb5-813b-81b6f7fe1b2f', '/workspace/projects/LlamindexHelper/data/building-a-multi-agent-concierge-system.html': '7c22a9a7-21f8-4e51-9b36-542b2a213711', '/workspace/projects/LlamindexHelper/data/building-a-slack-bot-that-learns-with-llamaindex-qdrant-and-render-c88d4aa72840.html': '650a5a60-f82f-432e-9069-94ced09b1840', '/workspace/projects/LlamindexHelper/data/building-an-intelligent-query-response-system-with-llamaindex-and-openllm-ff253a200bdf.html': '5761f8d9-2484-4561-80f6-fb3eb3b80d7c', '/workspace/projects/LlamindexHelper/data/building-and-evaluating-a-qa-system-with-llamaindex-3f02e9d87ce1.html': '1f12b488-aa4a-44fe-8351-c959e234c53e', '/workspace/projects/LlamindexHelper/data/building-better-tools-for-llm-agents-f8c5a6714f11.html': '7f9f3383-657e-4718-868e-2beea6e45e25', '/workspace/projects/LlamindexHelper/data/building-multi-tenancy-rag-system-with-llamaindex-0d6ab4e0c44b.html': '46aef392-a42f-4159-846f-713d933c31d9', '/workspace/projects/LlamindexHelper/data/building-my-own-chatgpt-vision-with-palm-kosmos-2-and-llamaindex-9f9fdd13e566.html': 'efdb4bc2-a61c-4fa3-9b1f-3ee7a9fd6f02', '/workspace/projects/LlamindexHelper/data/building-scalable-rag-applications-with-llamaindex-and-zilliz-cloud-pipelines-4879e9768baf.html': '29dde6e0-b00a-4ec8-8fc9-91c1a11cced8', '/workspace/projects/LlamindexHelper/data/building-the-data-framework-for-llms-bca068e89e0e.html': 'fc5bc645-280c-44b1-8f55-a923ad5a53b4', '/workspace/projects/LlamindexHelper/data/case-study-how-scaleport-ai-accelerated-development-and-improved-sales-with-llamacloud.html': 'bc255221-4c45-42cd-9448-37ce4bf85975', '/workspace/projects/LlamindexHelper/data/case-study-lyzr-taking-autonomous-ai-agents-to-usd1m-arr-with-llamaindex.html': 'ec2945bc-f663-4011-96cb-9f322642710a', '/workspace/projects/LlamindexHelper/data/chatgpts-knowledge-is-two-year-s-old-what-to-do-if-you-re-building-applications-72ceacde135c.html': 'ad5e5614-fd2d-40b8-b5fd-77e2351f5c1c', '/workspace/projects/LlamindexHelper/data/combining-text-to-sql-with-semantic-search-for-retrieval-augmented-generation-c60af30ec3b.html': '13840a23-c7d3-466a-a5ef-3ca13ad3c289', '/workspace/projects/LlamindexHelper/data/create-llama-a-command-line-tool-to-generate-llamaindex-apps-8f7683021191.html': '4ac9b548-a6ce-44f0-a298-8b1bc6870b58', '/workspace/projects/LlamindexHelper/data/customizing-property-graph-index-in-llamaindex.html': '6f9d733b-3654-42e7-8055-4a5b1cc7929b', '/workspace/projects/LlamindexHelper/data/data-agents-eed797d7972f.html': 'c0c3b479-4e27-488f-96bb-2f7958531f88', '/workspace/projects/LlamindexHelper/data/data-agents-zapier-nla-67146395ce1.html': 'b89fc93f-8fe1-455b-b2e2-3f039fc4c821', '/workspace/projects/LlamindexHelper/data/dumber-llm-agents-need-more-constraints-and-better-tools-17a524c59e12.html': 'dc3aae11-61f2-45bc-97a1-6485c18dcfbe', '/workspace/projects/LlamindexHelper/data/easily-finetune-llama-2-for-your-text-to-sql-applications-ecd53640e10d.html': '8d53a5a5-a61b-48d1-9726-c37659c594b0', '/workspace/projects/LlamindexHelper/data/enriching-llamaindex-models-from-graphql-and-graph-databases-bcaecec262d7.html': '3a4b10b9-3792-4e0b-9b47-a409b6735b7f', '/workspace/projects/LlamindexHelper/data/evaluating-multi-modal-retrieval-augmented-generation-db3ca824d428.html': 'c239bd6c-3955-4c0a-a528-3ec9f4e865bf', '/workspace/projects/LlamindexHelper/data/evaluating-the-ideal-chunk-size-for-a-rag-system-using-llamaindex-6207e5d3fec5.html': '5c6a1117-be96-4783-aa30-8d8d0f1f0fc7', '/workspace/projects/LlamindexHelper/data/fine-tuning-a-linear-adapter-for-any-embedding-model-8dd0a142d383.html': '492d2827-5f2e-4694-b90e-02beba3aab66', '/workspace/projects/LlamindexHelper/data/fine-tuning-embeddings-for-rag-with-synthetic-data-e534409a3971.html': '5c818674-12f6-4454-98fd-f5ca4e575a4a', '/workspace/projects/LlamindexHelper/data/gpt4-v-experiments-with-general-specific-questions-and-chain-of-thought-prompting-cot-techniques-49d82e6ddcc9.html': 'e24625a9-19a9-4658-aead-0413b1fa8d86', '/workspace/projects/LlamindexHelper/data/how-i-built-the-streamlit-llm-hackathon-winning-app-finsight-using-llamaindex-9dcf6c46d7a0.html': 'b12f7641-553c-46e2-b38a-96edbfdf383e', '/workspace/projects/LlamindexHelper/data/how-to-build-llm-agents-in-typescript-with-llamaindex-ts-a88ed364a7aa.html': '4d400bfc-be64-4be7-91c4-cee2a8590dfc', '/workspace/projects/LlamindexHelper/data/how-to-train-a-custom-gpt-on-your-data-with-embedai-llamaindex-8a701d141070.html': 'a0e32d09-7d5e-4924-a122-f574b006ce43', '/workspace/projects/LlamindexHelper/data/improving-rag-effectiveness-with-retrieval-augmented-dual-instruction-tuning-ra-dit-01e73116655d.html': '3f3c8fa1-e2ab-4f59-84db-9579abf12516', '/workspace/projects/LlamindexHelper/data/improving-retrieval-performance-by-fine-tuning-cohere-reranker-with-llamaindex-16c0c1f9b33b.html': '076ff5b2-eeac-4b00-a2d3-a69736af563f', '/workspace/projects/LlamindexHelper/data/improving-vector-search-reranking-with-postgresml-and-llamaindex.html': '7182dfc4-59d1-40bb-a441-0eaae03678b7', '/workspace/projects/LlamindexHelper/data/introducing-airbyte-sources-within-llamaindex-42209071722f.html': 'e6c2f380-dae5-46d1-b859-51ecf810ab63', '/workspace/projects/LlamindexHelper/data/introducing-llama-agents-a-powerful-framework-for-building-production-multi-agent-ai-systems.html': '60ff6c04-bd0a-4e31-926c-93f341377cab', '/workspace/projects/LlamindexHelper/data/introducing-llama-datasets-aadb9994ad9e.html': 'abfec326-12d7-4050-8535-fb19b5e8d1ec', '/workspace/projects/LlamindexHelper/data/introducing-llama-packs-e14f453b913a.html': '123f9c77-f764-495f-b50a-463c23d9ef6d', '/workspace/projects/LlamindexHelper/data/introducing-llamacloud-and-llamaparse-af8cedf9006b.html': '1d700344-f592-4c7e-ad65-58c9a2b23dae', '/workspace/projects/LlamindexHelper/data/introducing-llamaindex-ts-89f41a1f24ab.html': '93df4a84-3e21-488e-be5c-574732ab057f', '/workspace/projects/LlamindexHelper/data/introducing-query-pipelines-025dc2bb0537.html': '23c0c342-b5ff-4097-9372-42a689349c3d', '/workspace/projects/LlamindexHelper/data/introducing-rags-your-personalized-chatgpt-experience-over-your-data-2b9d140769b1.html': 'f6dc427b-b915-4647-a282-6d68bc6fc466', '/workspace/projects/LlamindexHelper/data/introducing-the-llamaindex-retrieval-augmented-generation-command-line-tool-a973fa519a41.html': '3f8bbe65-f50d-4736-91b8-f2c2d95f664c', '/workspace/projects/LlamindexHelper/data/introducing-the-property-graph-index-a-powerful-new-way-to-build-knowledge-graphs-with-llms.html': 'b34bddd8-397b-49b8-aee0-35fa2312c3c7', '/workspace/projects/LlamindexHelper/data/join-thousands-in-our-free-advanced-rag-certification-created-with-activeloop-ad63f24f27bb.html': '88fb8b71-9417-463e-9594-a800a6bd7002', '/workspace/projects/LlamindexHelper/data/launching-the-first-genai-native-document-parsing-platform.html': 'edde25d6-2068-483d-9f6c-d1efc27c2289', '/workspace/projects/LlamindexHelper/data/llama-index-prem-ai-join-forces-51702fecedec.html': '0a331bec-d6d4-44e9-b437-bc33c4cbcdf0', '/workspace/projects/LlamindexHelper/data/llamacloud-built-for-enterprise-llm-app-builders.html': '01310167-4545-4da6-832e-2377043f67a9', '/workspace/projects/LlamindexHelper/data/llamaindex-0-7-0-better-enabling-bottoms-up-llm-application-development-959db8f75024.html': '871bde9f-8afd-44ee-9e8a-778424484ad6', '/workspace/projects/LlamindexHelper/data/llamaindex-accelerates-enterprise-generative-ai-with-nvidia-nim.html': '0413acd1-7b0e-4b3d-bd40-f5b40cc74b56', '/workspace/projects/LlamindexHelper/data/llamaindex-and-transformers-agents-67042ee1d8d6.html': '1fc794d0-dd4b-4232-ac2d-bcfdd2f737c9', '/workspace/projects/LlamindexHelper/data/llamaindex-and-weaviate-ba3ff1cbf5f4.html': '1e80d500-411f-412e-8c7d-0ba3aabb3930', '/workspace/projects/LlamindexHelper/data/llamaindex-automatic-knowledge-transfer-kt-generation-for-code-bases-f3d91f21b7af.html': '90128250-545b-4fcd-92b9-504e7d59be68', '/workspace/projects/LlamindexHelper/data/llamaindex-enhancing-retrieval-performance-with-alpha-tuning-in-hybrid-search-in-rag-135d0c9b8a00.html': 'e2a7e039-d3fb-49dc-a063-62b9bcf32e48', '/workspace/projects/LlamindexHelper/data/llamaindex-gemini-8d7c3b9ea97e.html': 'bd573d2c-d04b-4397-9d42-579528d43f12', '/workspace/projects/LlamindexHelper/data/llamaindex-harnessing-the-power-of-text2sql-and-rag-to-analyze-product-reviews-204feabdf25b.html': 'f2a9fcbf-4e45-4a09-9280-2ab03dbd2b91', '/workspace/projects/LlamindexHelper/data/llamaindex-laurie-voss-an-alpaca-joins-the-llamas-9cae1081adff.html': 'd0855239-4e1a-41e7-8feb-593b16c4512d', '/workspace/projects/LlamindexHelper/data/llamaindex-metaphor-towards-automating-knowledge-work-with-llms-5520a32efa2f.html': '155d642c-6e3b-4c3b-9178-080677b69062', '/workspace/projects/LlamindexHelper/data/llamaindex-news-special-edition-openai-developer-day-e955f16db4e2.html': 'b94ada67-94c1-4eb7-a4dd-6f203bb98d8c', '/workspace/projects/LlamindexHelper/data/llamaindex-newsletter-2023-02-13-26fa79601ba5.html': '49f1def6-1d5e-41b6-9a7a-8bcb23d9a250', '/workspace/projects/LlamindexHelper/data/llamaindex-newsletter-2023-10-17-33514cbc04a2.html': 'db379d9e-d881-4f08-bb6a-bf7ea6c03076', '/workspace/projects/LlamindexHelper/data/llamaindex-newsletter-2023-10-24-4a76204eeaa3.html': 'ae3fa659-adca-476a-a932-11719039fdc4', '/workspace/projects/LlamindexHelper/data/llamaindex-newsletter-2023-10-31-36244e2b3f0c.html': '8eb79a05-ff5d-4057-86bf-9f1bbd6bc8b3', '/workspace/projects/LlamindexHelper/data/llamaindex-newsletter-2023-11-07-cf20b9a833aa.html': '369ac48f-7909-45e3-b24d-7c27e92212db', '/workspace/projects/LlamindexHelper/data/llamaindex-newsletter-2023-11-14-dad06ae4284a.html': '91d0debf-63e5-4b72-b5de-658f6d9bbcdf', '/workspace/projects/LlamindexHelper/data/llamaindex-newsletter-2023-11-21-aa3a71e339f8.html': 'e56ce492-07a5-4612-a6fe-5677c2b2ecf0', '/workspace/projects/LlamindexHelper/data/llamaindex-newsletter-2023-11-28-a31be430a786.html': '0f199c3b-e433-46ed-b4ec-67d697c45bb8', '/workspace/projects/LlamindexHelper/data/llamaindex-newsletter-2023-12-05-faf5ab930264.html': 'ace7cd41-9c8e-45ae-a906-cbd7bdea2de3', '/workspace/projects/LlamindexHelper/data/llamaindex-newsletter-2023-12-12-4a5d542fbb1e.html': '393e9985-d181-4b5c-b17a-e2641a6d865d', '/workspace/projects/LlamindexHelper/data/llamaindex-newsletter-2023-12-19-2965a2d03726.html': 'eec58ba9-7ab0-455a-9b62-b68a9faf700d', '/workspace/projects/LlamindexHelper/data/llamaindex-newsletter-2024-01-02-f349db8c1842.html': 'f2b6eec6-c895-492e-8b70-45b0c98b4436', '/workspace/projects/LlamindexHelper/data/llamaindex-newsletter-2024-01-09-6209000da2e6.html': 'ab81fa3d-da8f-42cf-8b30-fa58fab75ffb', '/workspace/projects/LlamindexHelper/data/llamaindex-newsletter-2024-01-16-752195bed96d.html': 'b4f4106f-d3e0-42c8-97a3-3014f377c37e', '/workspace/projects/LlamindexHelper/data/llamaindex-newsletter-2024-01-23-11ee2c211bab.html': '5eabadc2-9f73-4400-81df-e9167e1c1595', '/workspace/projects/LlamindexHelper/data/llamaindex-newsletter-2024-01-30-0d01eb0d8cef.html': '6916b918-0b45-4117-bab9-1c322353fb32', '/workspace/projects/LlamindexHelper/data/llamaindex-newsletter-2024-02-06-9a303130ad9f.html': 'df738da3-01fa-4c8f-accf-3057e7d28913', '/workspace/projects/LlamindexHelper/data/llamaindex-newsletter-2024-02-20-introducing-llamacloud-30511f4662f4.html': '3bdedc09-2d20-4d3c-b0e7-5048dc2d3a23', '/workspace/projects/LlamindexHelper/data/llamaindex-newsletter-2024-02-27-4b9102a0f824.html': 'a921b43b-bc2d-4860-9b27-e223b02236fe', '/workspace/projects/LlamindexHelper/data/llamaindex-newsletter-2024-03-05.html': '7a547101-75f8-4471-92bf-c1b454ce94fb', '/workspace/projects/LlamindexHelper/data/llamaindex-newsletter-2024-03-12.html': '57234cb7-d09a-4463-bbcc-fa30974cfa17', '/workspace/projects/LlamindexHelper/data/llamaindex-newsletter-2024-03-19.html': '6678a088-8c15-4de7-bc3a-1644f9402804', '/workspace/projects/LlamindexHelper/data/llamaindex-newsletter-2024-03-26.html': '8d67b4d2-3a1f-44eb-8833-57deaecf65db', '/workspace/projects/LlamindexHelper/data/llamaindex-newsletter-2024-04-02.html': '75952d41-8f05-41a6-9a17-8a13e46d162e', '/workspace/projects/LlamindexHelper/data/llamaindex-newsletter-2024-04-09.html': '3d1d146f-234d-4722-9a44-7cae1d22ebeb', '/workspace/projects/LlamindexHelper/data/llamaindex-newsletter-2024-04-16.html': 'da7a008c-194b-4127-8013-c0b28d2ac838', '/workspace/projects/LlamindexHelper/data/llamaindex-newsletter-2024-04-23.html': '969e0723-8b7a-400b-85b0-14e539747a3f', '/workspace/projects/LlamindexHelper/data/llamaindex-newsletter-2024-04-30.html': 'f10e29e1-4b5a-4907-b71e-704f75f98031', '/workspace/projects/LlamindexHelper/data/llamaindex-newsletter-2024-05-07.html': 'c0a1109d-4e46-4423-b755-80a3bb4af515', '/workspace/projects/LlamindexHelper/data/llamaindex-newsletter-2024-05-14.html': '3f1ff09e-313f-4b07-9807-32dc5a2b9fc2', '/workspace/projects/LlamindexHelper/data/llamaindex-newsletter-2024-05-21.html': 'b086fcf1-f08b-4afc-8097-9471a965c1ce', '/workspace/projects/LlamindexHelper/data/llamaindex-newsletter-2024-05-28.html': '097d486c-14e7-46cd-819f-029c8fdedf6f', '/workspace/projects/LlamindexHelper/data/llamaindex-newsletter-2024-06-04.html': '124f07cf-be0c-49f5-bd03-4d3dc22ff9eb', '/workspace/projects/LlamindexHelper/data/llamaindex-newsletter-2024-06-11.html': 'afd66fa0-1373-44e1-af17-88f0aeb7d1c6', '/workspace/projects/LlamindexHelper/data/llamaindex-newsletter-2024-06-18.html': 'aad60b80-c0fb-4533-a3d9-887157de0f0a', '/workspace/projects/LlamindexHelper/data/llamaindex-newsletter-2024-06-25.html': 'c70e20ef-07ef-40b0-b508-debf9e34f01c', '/workspace/projects/LlamindexHelper/data/llamaindex-newsletter-2024-07-02.html': '07f91239-eab0-4b77-9d44-83bbfed20201', '/workspace/projects/LlamindexHelper/data/llamaindex-newsletter-2024-07-09.html': '87813008-0ec9-4f71-b345-d58f4909ecd6', '/workspace/projects/LlamindexHelper/data/llamaindex-newsletter-2024-07-16.html': '442318f5-bd6e-4b42-8c8d-905dde904aca', '/workspace/projects/LlamindexHelper/data/llamaindex-on-twiml-ai-a-distilled-summary-using-llamaindex-de2a88551595.html': '54c4d011-d894-42de-8b06-3f68bfdfae0a', '/workspace/projects/LlamindexHelper/data/llamaindex-rag-evaluation-showdown-with-gpt-4-vs-open-source-prometheus-model-14cdca608277.html': 'e550df24-500a-47da-871e-45c9c237c6c5', '/workspace/projects/LlamindexHelper/data/llamaindex-turns-1-f69dcdd45fe3.html': '7122d6bc-8686-4963-8965-c45b7dcc93da', '/workspace/projects/LlamindexHelper/data/llamaindex-update-07-10-2023-4ceebdab96cb.html': '4f20eb78-358b-4525-950a-d014c9b5a4e4', '/workspace/projects/LlamindexHelper/data/llamaindex-update-08-01-2023-185514d9b897.html': '7a7ff547-14ef-496b-a8e6-4ed239047a07', '/workspace/projects/LlamindexHelper/data/llamaindex-update-09-03-2023-4a7c21c0f60b.html': '5e35d539-6390-48bb-9205-e3b17e1cd9e0', '/workspace/projects/LlamindexHelper/data/llamaindex-update-20-09-2023-86ed66f78bac.html': '3285e0fd-d0b5-48f4-b79e-57eb2c3e4b26', '/workspace/projects/LlamindexHelper/data/llamaindex-update-2023-10-10-3718a3d19fb9.html': '9bb11259-1760-43ad-b6f5-00a7d237f2fb', '/workspace/projects/LlamindexHelper/data/llamaindex-update-6-26-2023-ed30a9d45f84.html': 'e10a12c9-04f9-4687-8409-d2b28ecf0a17', '/workspace/projects/LlamindexHelper/data/llamaindex-v0-10-838e735948f8.html': '081baa8f-e7a1-4804-b75e-e6c7702709b3', '/workspace/projects/LlamindexHelper/data/llamaindex-vectara-7a3889cd34cb.html': 'a382cabf-7150-4c27-8e29-9158df4d8cd8', '/workspace/projects/LlamindexHelper/data/llamaindex-waii-combining-structured-data-from-your-database-with-pdfs-for-enhanced-data-647a9e66be82.html': 'dd19d281-9b4e-442f-8f4f-c9a6007f3ff6', '/workspace/projects/LlamindexHelper/data/longllmlingua-bye-bye-to-middle-loss-and-save-on-your-rag-costs-via-prompt-compression-54b559b9ddf7.html': '6530c364-f6dc-4b04-9631-9c18b4241caf', '/workspace/projects/LlamindexHelper/data/mastering-pdfs-extracting-sections-headings-paragraphs-and-tables-with-cutting-edge-parser-faea18870125.html': '9260d03a-a64d-44d8-837a-371c97930488', '/workspace/projects/LlamindexHelper/data/multi-modal-rag-621de7525fea.html': 'ec91c3cb-204a-4184-b27c-60145bb5ea4c', '/workspace/projects/LlamindexHelper/data/multimodal-rag-building-ainimal-go-fecf8404ed97.html': '713febfb-2255-496c-9648-087c01d69fcf', '/workspace/projects/LlamindexHelper/data/multimodal-rag-for-advanced-video-processing-with-llamaindex-lancedb-33be4804822e.html': '1b398c01-24b6-4aa4-afda-d1b0fab6dd83', '/workspace/projects/LlamindexHelper/data/multimodal-rag-pipeline-with-llamaindex-and-neo4j-a2c542eb0206.html': '7516225c-ac9f-4846-b9df-7b9fd66a796e', '/workspace/projects/LlamindexHelper/data/newsgpt-neotice-summarize-news-articles-with-llamaindex-hackathon-winning-app-9d7c8bcf9f11.html': 'bdb955cb-3791-4a33-bb8b-9b49ae4dc880', '/workspace/projects/LlamindexHelper/data/nvidia-research-rag-with-long-context-llms-7d94d40090c4.html': '003fa2ae-c366-4f7e-b6d1-2b03b19a8c23', '/workspace/projects/LlamindexHelper/data/one-click-open-source-rag-observability-with-langfuse.html': '097b6b16-d85c-42fc-863c-cf2d6a082ee2', '/workspace/projects/LlamindexHelper/data/openai-cookbook-evaluating-rag-systems-fe393c61fb93.html': '79033d51-6e72-4407-bcd3-8a1c1ea243f3', '/workspace/projects/LlamindexHelper/data/pii-detector-hacking-privacy-in-rag.html': '4c78b9be-10aa-4203-b3a5-95c6452201a0', '/workspace/projects/LlamindexHelper/data/pioneering-the-future-of-housing-introducing-genai-driven-adu-planning-ea950be71e2f.html': 'c990777c-dce7-4e5b-bb02-54cdd9180314', '/workspace/projects/LlamindexHelper/data/querying-a-network-of-knowledge-with-llama-index-networks-d784b4c3006f.html': '2716650b-a624-4ddc-8de6-9664b0a43286', '/workspace/projects/LlamindexHelper/data/ragarch-building-a-no-code-rag-pipeline-configuration-one-click-rag-code-generation-tool-powered-b6e8eeb70089.html': '3a8628c5-14f9-493f-83fc-5ec0da7827f1', '/workspace/projects/LlamindexHelper/data/retrieving-privacy-safe-documents-over-a-network.html': '4e63a095-cf8f-4bfc-922d-5ae7cee288a2', '/workspace/projects/LlamindexHelper/data/running-mixtral-8x7-locally-with-llamaindex-e6cebeabe0ab.html': 'c8cee370-e834-4710-af6e-1c4d640d1d22', '/workspace/projects/LlamindexHelper/data/scaling-llamaindex-with-aws-and-hugging-face-e2c71aa64716.html': '28df59df-30a7-4aee-90b7-cb990c758c92', '/workspace/projects/LlamindexHelper/data/secure-code-execution-in-llamaindex-with-azure-container-apps-dynamic-sessions.html': '7e6bcfe0-e8f2-47bc-975f-c4e0a1ec6170', '/workspace/projects/LlamindexHelper/data/secure-rag-with-llamaindex-and-llm-guard-by-protect-ai.html': 'c7312d12-c832-4281-a316-83f147e4a5b0', '/workspace/projects/LlamindexHelper/data/shipping-your-retrieval-augmented-generation-app-to-production-with-create-llama-7bbe43b6287d.html': '8e3da68c-661c-4d88-80dd-4a6b639985f2', '/workspace/projects/LlamindexHelper/data/simplify-your-rag-application-architecture-with-llamaindex-postgresml.html': 'd713bde2-c216-45ca-a50c-4d82447ddcc9', '/workspace/projects/LlamindexHelper/data/special-feature-berkeley-hackathon-projects-llamaindex-prize-winners-c135681bb6f0.html': 'ed5e1673-d674-4279-8727-32d03c128bf7', '/workspace/projects/LlamindexHelper/data/streamlining-knowledge-work-with-llamaindex-fireworks-and-mongodb.html': 'd49bc2cf-8eb4-4a55-8753-f055713a20c0', '/workspace/projects/LlamindexHelper/data/supercharge-your-llamaindex-rag-pipeline-with-uptrain-evaluations.html': 'd3bea69b-d7cf-4192-b5f1-bda08ed5f075', '/workspace/projects/LlamindexHelper/data/testing-anthropic-claudes-100k-token-window-on-sec-10-k-filings-473310c20dba.html': 'dca7137f-1b4b-49cf-b8e1-365b6ee4f349', '/workspace/projects/LlamindexHelper/data/the-latest-updates-to-llamacloud.html': '8bf758c5-7993-4480-86e4-31efc1b5b2e1', '/workspace/projects/LlamindexHelper/data/timescale-vector-x-llamaindex-making-postgresql-a-better-vector-database-for-ai-applications-924b0bd29f0.html': '7aeff5aa-425a-4a5d-b684-c669ed5b53ad', '/workspace/projects/LlamindexHelper/data/tonic-validate-x-llamaindex-implementing-integration-tests-for-llamaindex-43db50b76ed9.html': '68cacd2a-53b3-4748-87b4-3daca98a318b', '/workspace/projects/LlamindexHelper/data/towards-long-context-rag.html': '907c913e-6863-4e67-ba21-99654c410ecd', '/workspace/projects/LlamindexHelper/data/transforming-natural-language-to-sql-and-insights-for-e-commerce-with-llamaindex-gpt3-5-e08edefa21f9.html': '2e713d08-09cb-465a-84ad-f47c210ab63d', '/workspace/projects/LlamindexHelper/data/two-new-llama-datasets-and-a-gemini-vs-gpt-showdown-9770302c91a5.html': '9a277129-75eb-4cf1-8762-14f409a7daba', '/workspace/projects/LlamindexHelper/data/unlocking-the-3rd-dimension-for-generative-ai-part-1.html': 'bb7b2a61-3cdd-4d17-adcf-7f7dee63829f', '/workspace/projects/LlamindexHelper/data/using-llamaindex-and-llamafile-to-build-a-local-private-research-assistant.html': '0a2f8bfb-56cc-4800-b16e-bddb54595e21', '/workspace/projects/LlamindexHelper/data/using-llms-for-retrieval-and-reranking-23cf2d3a14b6.html': 'b6de8c2f-dc98-46a4-be20-8f3960df6968', '/workspace/projects/LlamindexHelper/data/vellum-llamaindex-integration-58b476a1e33f.html': '9c957df3-76e6-4ecd-9cb6-7c86f1819cdc', '/workspace/projects/LlamindexHelper/data/zep-and-llamaindex-a-vector-store-walkthrough-564edb8c22dc.html': '5d4d5ede-c2ae-41d9-b9a9-8b0394f363af'})"
      ]
     },
     "execution_count": 44,
     "metadata": {},
     "output_type": "execute_result"
    }
   ],
   "source": [
    "doc_sum_index_struct"
   ]
  },
  {
   "cell_type": "markdown",
   "id": "83d2ec04-be0d-43da-8c94-451f6d97d21a",
   "metadata": {},
   "source": [
    "## Advanced Querying"
   ]
  },
  {
   "cell_type": "code",
   "execution_count": 34,
   "id": "4c2b3add-bc1b-45b9-8853-f70d064d8d7b",
   "metadata": {},
   "outputs": [],
   "source": [
    "question1 = \"What are key features of llama-agents?\"\n",
    "question2 = '''\n",
    "What are the two critical areas of RAG system performance that are assessed in the \"Evaluating RAG with LlamaIndex\" section of the OpenAI Cookbook?\n",
    "'''\n",
    "question3 = '''\n",
    "What are the two main metrics used to evaluate the performance of the different rerankers in the RAG system?\n",
    "'''"
   ]
  },
  {
   "cell_type": "code",
   "execution_count": 23,
   "id": "9878ad79-6471-4ca0-88e3-9bae6b6e9d0f",
   "metadata": {},
   "outputs": [],
   "source": [
    "def print_ref_docs(resp_metadata):\n",
    "    print(\"References:\")\n",
    "    base_url = \"https://www.llamaindex.ai/\"\n",
    "    for idx, (_, doc_metatada) in enumerate(resp_metadata.items()):\n",
    "        ref_url = base_url + doc_metatada[\"file_name\"]\n",
    "        print(f\"{idx+1}.\", ref_url)"
   ]
  },
  {
   "cell_type": "markdown",
   "id": "80060b08-2593-4ab0-98c9-8705aa91c504",
   "metadata": {},
   "source": [
    "### Router Query Engine"
   ]
  },
  {
   "cell_type": "code",
   "execution_count": 31,
   "id": "d33419a7-905b-432f-a229-239141005973",
   "metadata": {},
   "outputs": [],
   "source": [
    "from llama_index.core.tools import QueryEngineTool, ToolMetadata\n",
    "from llama_index.core.query_engine import RouterQueryEngine\n",
    "from llama_index.core.selectors import LLMSingleSelector"
   ]
  },
  {
   "cell_type": "code",
   "execution_count": 27,
   "id": "3d3e20a2-9f26-4b0b-aabe-77412cb7b9ea",
   "metadata": {},
   "outputs": [],
   "source": [
    "Settings.llm = llm_hf\n",
    "Settings.embed_model = embed_model"
   ]
  },
  {
   "cell_type": "code",
   "execution_count": 28,
   "id": "4cdf40ce-8618-40c8-8339-af673f5f8ce3",
   "metadata": {},
   "outputs": [],
   "source": [
    "vector_tool = QueryEngineTool(\n",
    "    vector_index.as_query_engine(use_async=True),\n",
    "    metadata=ToolMetadata(\n",
    "        name=\"vector_search\",\n",
    "        description=\"Useful for searching for specific facts.\"\n",
    "    )\n",
    ")\n",
    "\n",
    "summary_tool = QueryEngineTool(\n",
    "    doc_summary_index.as_query_engine(response_mode=\"tree_summarize\", use_async=True),\n",
    "    metadata=ToolMetadata(\n",
    "        name=\"summary\",\n",
    "        description=\"Useful for summarizing an entire document.\"\n",
    "    )\n",
    ")"
   ]
  },
  {
   "cell_type": "markdown",
   "id": "467dd416-3d56-4e3a-90b4-5603bdacbfbe",
   "metadata": {},
   "source": [
    "### Single selector"
   ]
  },
  {
   "cell_type": "code",
   "execution_count": 38,
   "id": "cdd69932-6246-4a34-80fe-204cf685ac89",
   "metadata": {},
   "outputs": [],
   "source": [
    "query_engine = RouterQueryEngine.from_defaults(\n",
    "    [vector_tool, summary_tool],\n",
    "    # selector=LLMSingleSelector.from_defaults(),\n",
    "    select_multi=False\n",
    ")"
   ]
  },
  {
   "cell_type": "code",
   "execution_count": 39,
   "id": "d3241687-4f71-4f9c-b1e1-9b28d02860da",
   "metadata": {
    "scrolled": true
   },
   "outputs": [
    {
     "name": "stdout",
     "output_type": "stream",
     "text": [
      "INFO:llama_index.core.query_engine.router_query_engine:Selecting query engine 0: Key features of llama-agents can be identified through specific facts that can be searched for using this tool..\n",
      "Selecting query engine 0: Key features of llama-agents can be identified through specific facts that can be searched for using this tool..\n"
     ]
    },
    {
     "data": {
      "application/vnd.jupyter.widget-view+json": {
       "model_id": "8be2dc009da64e709d96a862bb1ec941",
       "version_major": 2,
       "version_minor": 0
      },
      "text/plain": [
       "Batches:   0%|          | 0/1 [00:00<?, ?it/s]"
      ]
     },
     "metadata": {},
     "output_type": "display_data"
    },
    {
     "name": "stdout",
     "output_type": "stream",
     "text": [
      "INFO:llama_index.core.query_engine.router_query_engine:Selecting query engine 1: A summary of an entire document about llama-agents may provide an overview of their key features, but this is less direct than searching for specific facts..\n",
      "Selecting query engine 1: A summary of an entire document about llama-agents may provide an overview of their key features, but this is less direct than searching for specific facts..\n"
     ]
    },
    {
     "ename": "KeyError",
     "evalue": "'9b674962-37bb-43af-8ef0-a1398491ca21'",
     "output_type": "error",
     "traceback": [
      "\u001b[0;31m---------------------------------------------------------------------------\u001b[0m",
      "\u001b[0;31mKeyError\u001b[0m                                  Traceback (most recent call last)",
      "Cell \u001b[0;32mIn[39], line 1\u001b[0m\n\u001b[0;32m----> 1\u001b[0m response \u001b[38;5;241m=\u001b[39m \u001b[43mquery_engine\u001b[49m\u001b[38;5;241;43m.\u001b[39;49m\u001b[43mquery\u001b[49m\u001b[43m(\u001b[49m\u001b[43mquestion1\u001b[49m\u001b[43m)\u001b[49m\n",
      "File \u001b[0;32m/opt/conda/envs/dev/lib/python3.10/site-packages/llama_index/core/instrumentation/dispatcher.py:230\u001b[0m, in \u001b[0;36mDispatcher.span.<locals>.wrapper\u001b[0;34m(func, instance, args, kwargs)\u001b[0m\n\u001b[1;32m    226\u001b[0m \u001b[38;5;28mself\u001b[39m\u001b[38;5;241m.\u001b[39mspan_enter(\n\u001b[1;32m    227\u001b[0m     id_\u001b[38;5;241m=\u001b[39mid_, bound_args\u001b[38;5;241m=\u001b[39mbound_args, instance\u001b[38;5;241m=\u001b[39minstance, parent_id\u001b[38;5;241m=\u001b[39mparent_id\n\u001b[1;32m    228\u001b[0m )\n\u001b[1;32m    229\u001b[0m \u001b[38;5;28;01mtry\u001b[39;00m:\n\u001b[0;32m--> 230\u001b[0m     result \u001b[38;5;241m=\u001b[39m \u001b[43mfunc\u001b[49m\u001b[43m(\u001b[49m\u001b[38;5;241;43m*\u001b[39;49m\u001b[43margs\u001b[49m\u001b[43m,\u001b[49m\u001b[43m \u001b[49m\u001b[38;5;241;43m*\u001b[39;49m\u001b[38;5;241;43m*\u001b[39;49m\u001b[43mkwargs\u001b[49m\u001b[43m)\u001b[49m\n\u001b[1;32m    231\u001b[0m \u001b[38;5;28;01mexcept\u001b[39;00m \u001b[38;5;167;01mBaseException\u001b[39;00m \u001b[38;5;28;01mas\u001b[39;00m e:\n\u001b[1;32m    232\u001b[0m     \u001b[38;5;28mself\u001b[39m\u001b[38;5;241m.\u001b[39mevent(SpanDropEvent(span_id\u001b[38;5;241m=\u001b[39mid_, err_str\u001b[38;5;241m=\u001b[39m\u001b[38;5;28mstr\u001b[39m(e)))\n",
      "File \u001b[0;32m/opt/conda/envs/dev/lib/python3.10/site-packages/llama_index/core/base/base_query_engine.py:52\u001b[0m, in \u001b[0;36mBaseQueryEngine.query\u001b[0;34m(self, str_or_query_bundle)\u001b[0m\n\u001b[1;32m     50\u001b[0m     \u001b[38;5;28;01mif\u001b[39;00m \u001b[38;5;28misinstance\u001b[39m(str_or_query_bundle, \u001b[38;5;28mstr\u001b[39m):\n\u001b[1;32m     51\u001b[0m         str_or_query_bundle \u001b[38;5;241m=\u001b[39m QueryBundle(str_or_query_bundle)\n\u001b[0;32m---> 52\u001b[0m     query_result \u001b[38;5;241m=\u001b[39m \u001b[38;5;28;43mself\u001b[39;49m\u001b[38;5;241;43m.\u001b[39;49m\u001b[43m_query\u001b[49m\u001b[43m(\u001b[49m\u001b[43mstr_or_query_bundle\u001b[49m\u001b[43m)\u001b[49m\n\u001b[1;32m     53\u001b[0m dispatcher\u001b[38;5;241m.\u001b[39mevent(\n\u001b[1;32m     54\u001b[0m     QueryEndEvent(query\u001b[38;5;241m=\u001b[39mstr_or_query_bundle, response\u001b[38;5;241m=\u001b[39mquery_result)\n\u001b[1;32m     55\u001b[0m )\n\u001b[1;32m     56\u001b[0m \u001b[38;5;28;01mreturn\u001b[39;00m query_result\n",
      "File \u001b[0;32m/opt/conda/envs/dev/lib/python3.10/site-packages/llama_index/core/instrumentation/dispatcher.py:230\u001b[0m, in \u001b[0;36mDispatcher.span.<locals>.wrapper\u001b[0;34m(func, instance, args, kwargs)\u001b[0m\n\u001b[1;32m    226\u001b[0m \u001b[38;5;28mself\u001b[39m\u001b[38;5;241m.\u001b[39mspan_enter(\n\u001b[1;32m    227\u001b[0m     id_\u001b[38;5;241m=\u001b[39mid_, bound_args\u001b[38;5;241m=\u001b[39mbound_args, instance\u001b[38;5;241m=\u001b[39minstance, parent_id\u001b[38;5;241m=\u001b[39mparent_id\n\u001b[1;32m    228\u001b[0m )\n\u001b[1;32m    229\u001b[0m \u001b[38;5;28;01mtry\u001b[39;00m:\n\u001b[0;32m--> 230\u001b[0m     result \u001b[38;5;241m=\u001b[39m \u001b[43mfunc\u001b[49m\u001b[43m(\u001b[49m\u001b[38;5;241;43m*\u001b[39;49m\u001b[43margs\u001b[49m\u001b[43m,\u001b[49m\u001b[43m \u001b[49m\u001b[38;5;241;43m*\u001b[39;49m\u001b[38;5;241;43m*\u001b[39;49m\u001b[43mkwargs\u001b[49m\u001b[43m)\u001b[49m\n\u001b[1;32m    231\u001b[0m \u001b[38;5;28;01mexcept\u001b[39;00m \u001b[38;5;167;01mBaseException\u001b[39;00m \u001b[38;5;28;01mas\u001b[39;00m e:\n\u001b[1;32m    232\u001b[0m     \u001b[38;5;28mself\u001b[39m\u001b[38;5;241m.\u001b[39mevent(SpanDropEvent(span_id\u001b[38;5;241m=\u001b[39mid_, err_str\u001b[38;5;241m=\u001b[39m\u001b[38;5;28mstr\u001b[39m(e)))\n",
      "File \u001b[0;32m/opt/conda/envs/dev/lib/python3.10/site-packages/llama_index/core/query_engine/router_query_engine.py:183\u001b[0m, in \u001b[0;36mRouterQueryEngine._query\u001b[0;34m(self, query_bundle)\u001b[0m\n\u001b[1;32m    180\u001b[0m         print_text(log_str \u001b[38;5;241m+\u001b[39m \u001b[38;5;124m\"\u001b[39m\u001b[38;5;130;01m\\n\u001b[39;00m\u001b[38;5;124m\"\u001b[39m, color\u001b[38;5;241m=\u001b[39m\u001b[38;5;124m\"\u001b[39m\u001b[38;5;124mpink\u001b[39m\u001b[38;5;124m\"\u001b[39m)\n\u001b[1;32m    182\u001b[0m     selected_query_engine \u001b[38;5;241m=\u001b[39m \u001b[38;5;28mself\u001b[39m\u001b[38;5;241m.\u001b[39m_query_engines[engine_ind]\n\u001b[0;32m--> 183\u001b[0m     responses\u001b[38;5;241m.\u001b[39mappend(\u001b[43mselected_query_engine\u001b[49m\u001b[38;5;241;43m.\u001b[39;49m\u001b[43mquery\u001b[49m\u001b[43m(\u001b[49m\u001b[43mquery_bundle\u001b[49m\u001b[43m)\u001b[49m)\n\u001b[1;32m    185\u001b[0m \u001b[38;5;28;01mif\u001b[39;00m \u001b[38;5;28mlen\u001b[39m(responses) \u001b[38;5;241m>\u001b[39m \u001b[38;5;241m1\u001b[39m:\n\u001b[1;32m    186\u001b[0m     final_response \u001b[38;5;241m=\u001b[39m combine_responses(\n\u001b[1;32m    187\u001b[0m         \u001b[38;5;28mself\u001b[39m\u001b[38;5;241m.\u001b[39m_summarizer, responses, query_bundle\n\u001b[1;32m    188\u001b[0m     )\n",
      "File \u001b[0;32m/opt/conda/envs/dev/lib/python3.10/site-packages/llama_index/core/instrumentation/dispatcher.py:230\u001b[0m, in \u001b[0;36mDispatcher.span.<locals>.wrapper\u001b[0;34m(func, instance, args, kwargs)\u001b[0m\n\u001b[1;32m    226\u001b[0m \u001b[38;5;28mself\u001b[39m\u001b[38;5;241m.\u001b[39mspan_enter(\n\u001b[1;32m    227\u001b[0m     id_\u001b[38;5;241m=\u001b[39mid_, bound_args\u001b[38;5;241m=\u001b[39mbound_args, instance\u001b[38;5;241m=\u001b[39minstance, parent_id\u001b[38;5;241m=\u001b[39mparent_id\n\u001b[1;32m    228\u001b[0m )\n\u001b[1;32m    229\u001b[0m \u001b[38;5;28;01mtry\u001b[39;00m:\n\u001b[0;32m--> 230\u001b[0m     result \u001b[38;5;241m=\u001b[39m \u001b[43mfunc\u001b[49m\u001b[43m(\u001b[49m\u001b[38;5;241;43m*\u001b[39;49m\u001b[43margs\u001b[49m\u001b[43m,\u001b[49m\u001b[43m \u001b[49m\u001b[38;5;241;43m*\u001b[39;49m\u001b[38;5;241;43m*\u001b[39;49m\u001b[43mkwargs\u001b[49m\u001b[43m)\u001b[49m\n\u001b[1;32m    231\u001b[0m \u001b[38;5;28;01mexcept\u001b[39;00m \u001b[38;5;167;01mBaseException\u001b[39;00m \u001b[38;5;28;01mas\u001b[39;00m e:\n\u001b[1;32m    232\u001b[0m     \u001b[38;5;28mself\u001b[39m\u001b[38;5;241m.\u001b[39mevent(SpanDropEvent(span_id\u001b[38;5;241m=\u001b[39mid_, err_str\u001b[38;5;241m=\u001b[39m\u001b[38;5;28mstr\u001b[39m(e)))\n",
      "File \u001b[0;32m/opt/conda/envs/dev/lib/python3.10/site-packages/llama_index/core/base/base_query_engine.py:52\u001b[0m, in \u001b[0;36mBaseQueryEngine.query\u001b[0;34m(self, str_or_query_bundle)\u001b[0m\n\u001b[1;32m     50\u001b[0m     \u001b[38;5;28;01mif\u001b[39;00m \u001b[38;5;28misinstance\u001b[39m(str_or_query_bundle, \u001b[38;5;28mstr\u001b[39m):\n\u001b[1;32m     51\u001b[0m         str_or_query_bundle \u001b[38;5;241m=\u001b[39m QueryBundle(str_or_query_bundle)\n\u001b[0;32m---> 52\u001b[0m     query_result \u001b[38;5;241m=\u001b[39m \u001b[38;5;28;43mself\u001b[39;49m\u001b[38;5;241;43m.\u001b[39;49m\u001b[43m_query\u001b[49m\u001b[43m(\u001b[49m\u001b[43mstr_or_query_bundle\u001b[49m\u001b[43m)\u001b[49m\n\u001b[1;32m     53\u001b[0m dispatcher\u001b[38;5;241m.\u001b[39mevent(\n\u001b[1;32m     54\u001b[0m     QueryEndEvent(query\u001b[38;5;241m=\u001b[39mstr_or_query_bundle, response\u001b[38;5;241m=\u001b[39mquery_result)\n\u001b[1;32m     55\u001b[0m )\n\u001b[1;32m     56\u001b[0m \u001b[38;5;28;01mreturn\u001b[39;00m query_result\n",
      "File \u001b[0;32m/opt/conda/envs/dev/lib/python3.10/site-packages/llama_index/core/instrumentation/dispatcher.py:230\u001b[0m, in \u001b[0;36mDispatcher.span.<locals>.wrapper\u001b[0;34m(func, instance, args, kwargs)\u001b[0m\n\u001b[1;32m    226\u001b[0m \u001b[38;5;28mself\u001b[39m\u001b[38;5;241m.\u001b[39mspan_enter(\n\u001b[1;32m    227\u001b[0m     id_\u001b[38;5;241m=\u001b[39mid_, bound_args\u001b[38;5;241m=\u001b[39mbound_args, instance\u001b[38;5;241m=\u001b[39minstance, parent_id\u001b[38;5;241m=\u001b[39mparent_id\n\u001b[1;32m    228\u001b[0m )\n\u001b[1;32m    229\u001b[0m \u001b[38;5;28;01mtry\u001b[39;00m:\n\u001b[0;32m--> 230\u001b[0m     result \u001b[38;5;241m=\u001b[39m \u001b[43mfunc\u001b[49m\u001b[43m(\u001b[49m\u001b[38;5;241;43m*\u001b[39;49m\u001b[43margs\u001b[49m\u001b[43m,\u001b[49m\u001b[43m \u001b[49m\u001b[38;5;241;43m*\u001b[39;49m\u001b[38;5;241;43m*\u001b[39;49m\u001b[43mkwargs\u001b[49m\u001b[43m)\u001b[49m\n\u001b[1;32m    231\u001b[0m \u001b[38;5;28;01mexcept\u001b[39;00m \u001b[38;5;167;01mBaseException\u001b[39;00m \u001b[38;5;28;01mas\u001b[39;00m e:\n\u001b[1;32m    232\u001b[0m     \u001b[38;5;28mself\u001b[39m\u001b[38;5;241m.\u001b[39mevent(SpanDropEvent(span_id\u001b[38;5;241m=\u001b[39mid_, err_str\u001b[38;5;241m=\u001b[39m\u001b[38;5;28mstr\u001b[39m(e)))\n",
      "File \u001b[0;32m/opt/conda/envs/dev/lib/python3.10/site-packages/llama_index/core/query_engine/retriever_query_engine.py:189\u001b[0m, in \u001b[0;36mRetrieverQueryEngine._query\u001b[0;34m(self, query_bundle)\u001b[0m\n\u001b[1;32m    185\u001b[0m \u001b[38;5;250m\u001b[39m\u001b[38;5;124;03m\"\"\"Answer a query.\"\"\"\u001b[39;00m\n\u001b[1;32m    186\u001b[0m \u001b[38;5;28;01mwith\u001b[39;00m \u001b[38;5;28mself\u001b[39m\u001b[38;5;241m.\u001b[39mcallback_manager\u001b[38;5;241m.\u001b[39mevent(\n\u001b[1;32m    187\u001b[0m     CBEventType\u001b[38;5;241m.\u001b[39mQUERY, payload\u001b[38;5;241m=\u001b[39m{EventPayload\u001b[38;5;241m.\u001b[39mQUERY_STR: query_bundle\u001b[38;5;241m.\u001b[39mquery_str}\n\u001b[1;32m    188\u001b[0m ) \u001b[38;5;28;01mas\u001b[39;00m query_event:\n\u001b[0;32m--> 189\u001b[0m     nodes \u001b[38;5;241m=\u001b[39m \u001b[38;5;28;43mself\u001b[39;49m\u001b[38;5;241;43m.\u001b[39;49m\u001b[43mretrieve\u001b[49m\u001b[43m(\u001b[49m\u001b[43mquery_bundle\u001b[49m\u001b[43m)\u001b[49m\n\u001b[1;32m    190\u001b[0m     response \u001b[38;5;241m=\u001b[39m \u001b[38;5;28mself\u001b[39m\u001b[38;5;241m.\u001b[39m_response_synthesizer\u001b[38;5;241m.\u001b[39msynthesize(\n\u001b[1;32m    191\u001b[0m         query\u001b[38;5;241m=\u001b[39mquery_bundle,\n\u001b[1;32m    192\u001b[0m         nodes\u001b[38;5;241m=\u001b[39mnodes,\n\u001b[1;32m    193\u001b[0m     )\n\u001b[1;32m    194\u001b[0m     query_event\u001b[38;5;241m.\u001b[39mon_end(payload\u001b[38;5;241m=\u001b[39m{EventPayload\u001b[38;5;241m.\u001b[39mRESPONSE: response})\n",
      "File \u001b[0;32m/opt/conda/envs/dev/lib/python3.10/site-packages/llama_index/core/query_engine/retriever_query_engine.py:144\u001b[0m, in \u001b[0;36mRetrieverQueryEngine.retrieve\u001b[0;34m(self, query_bundle)\u001b[0m\n\u001b[1;32m    143\u001b[0m \u001b[38;5;28;01mdef\u001b[39;00m \u001b[38;5;21mretrieve\u001b[39m(\u001b[38;5;28mself\u001b[39m, query_bundle: QueryBundle) \u001b[38;5;241m-\u001b[39m\u001b[38;5;241m>\u001b[39m List[NodeWithScore]:\n\u001b[0;32m--> 144\u001b[0m     nodes \u001b[38;5;241m=\u001b[39m \u001b[38;5;28;43mself\u001b[39;49m\u001b[38;5;241;43m.\u001b[39;49m\u001b[43m_retriever\u001b[49m\u001b[38;5;241;43m.\u001b[39;49m\u001b[43mretrieve\u001b[49m\u001b[43m(\u001b[49m\u001b[43mquery_bundle\u001b[49m\u001b[43m)\u001b[49m\n\u001b[1;32m    145\u001b[0m     \u001b[38;5;28;01mreturn\u001b[39;00m \u001b[38;5;28mself\u001b[39m\u001b[38;5;241m.\u001b[39m_apply_node_postprocessors(nodes, query_bundle\u001b[38;5;241m=\u001b[39mquery_bundle)\n",
      "File \u001b[0;32m/opt/conda/envs/dev/lib/python3.10/site-packages/llama_index/core/instrumentation/dispatcher.py:230\u001b[0m, in \u001b[0;36mDispatcher.span.<locals>.wrapper\u001b[0;34m(func, instance, args, kwargs)\u001b[0m\n\u001b[1;32m    226\u001b[0m \u001b[38;5;28mself\u001b[39m\u001b[38;5;241m.\u001b[39mspan_enter(\n\u001b[1;32m    227\u001b[0m     id_\u001b[38;5;241m=\u001b[39mid_, bound_args\u001b[38;5;241m=\u001b[39mbound_args, instance\u001b[38;5;241m=\u001b[39minstance, parent_id\u001b[38;5;241m=\u001b[39mparent_id\n\u001b[1;32m    228\u001b[0m )\n\u001b[1;32m    229\u001b[0m \u001b[38;5;28;01mtry\u001b[39;00m:\n\u001b[0;32m--> 230\u001b[0m     result \u001b[38;5;241m=\u001b[39m \u001b[43mfunc\u001b[49m\u001b[43m(\u001b[49m\u001b[38;5;241;43m*\u001b[39;49m\u001b[43margs\u001b[49m\u001b[43m,\u001b[49m\u001b[43m \u001b[49m\u001b[38;5;241;43m*\u001b[39;49m\u001b[38;5;241;43m*\u001b[39;49m\u001b[43mkwargs\u001b[49m\u001b[43m)\u001b[49m\n\u001b[1;32m    231\u001b[0m \u001b[38;5;28;01mexcept\u001b[39;00m \u001b[38;5;167;01mBaseException\u001b[39;00m \u001b[38;5;28;01mas\u001b[39;00m e:\n\u001b[1;32m    232\u001b[0m     \u001b[38;5;28mself\u001b[39m\u001b[38;5;241m.\u001b[39mevent(SpanDropEvent(span_id\u001b[38;5;241m=\u001b[39mid_, err_str\u001b[38;5;241m=\u001b[39m\u001b[38;5;28mstr\u001b[39m(e)))\n",
      "File \u001b[0;32m/opt/conda/envs/dev/lib/python3.10/site-packages/llama_index/core/base/base_retriever.py:243\u001b[0m, in \u001b[0;36mBaseRetriever.retrieve\u001b[0;34m(self, str_or_query_bundle)\u001b[0m\n\u001b[1;32m    238\u001b[0m \u001b[38;5;28;01mwith\u001b[39;00m \u001b[38;5;28mself\u001b[39m\u001b[38;5;241m.\u001b[39mcallback_manager\u001b[38;5;241m.\u001b[39mas_trace(\u001b[38;5;124m\"\u001b[39m\u001b[38;5;124mquery\u001b[39m\u001b[38;5;124m\"\u001b[39m):\n\u001b[1;32m    239\u001b[0m     \u001b[38;5;28;01mwith\u001b[39;00m \u001b[38;5;28mself\u001b[39m\u001b[38;5;241m.\u001b[39mcallback_manager\u001b[38;5;241m.\u001b[39mevent(\n\u001b[1;32m    240\u001b[0m         CBEventType\u001b[38;5;241m.\u001b[39mRETRIEVE,\n\u001b[1;32m    241\u001b[0m         payload\u001b[38;5;241m=\u001b[39m{EventPayload\u001b[38;5;241m.\u001b[39mQUERY_STR: query_bundle\u001b[38;5;241m.\u001b[39mquery_str},\n\u001b[1;32m    242\u001b[0m     ) \u001b[38;5;28;01mas\u001b[39;00m retrieve_event:\n\u001b[0;32m--> 243\u001b[0m         nodes \u001b[38;5;241m=\u001b[39m \u001b[38;5;28;43mself\u001b[39;49m\u001b[38;5;241;43m.\u001b[39;49m\u001b[43m_retrieve\u001b[49m\u001b[43m(\u001b[49m\u001b[43mquery_bundle\u001b[49m\u001b[43m)\u001b[49m\n\u001b[1;32m    244\u001b[0m         nodes \u001b[38;5;241m=\u001b[39m \u001b[38;5;28mself\u001b[39m\u001b[38;5;241m.\u001b[39m_handle_recursive_retrieval(query_bundle, nodes)\n\u001b[1;32m    245\u001b[0m         retrieve_event\u001b[38;5;241m.\u001b[39mon_end(\n\u001b[1;32m    246\u001b[0m             payload\u001b[38;5;241m=\u001b[39m{EventPayload\u001b[38;5;241m.\u001b[39mNODES: nodes},\n\u001b[1;32m    247\u001b[0m         )\n",
      "File \u001b[0;32m/opt/conda/envs/dev/lib/python3.10/site-packages/llama_index/core/instrumentation/dispatcher.py:230\u001b[0m, in \u001b[0;36mDispatcher.span.<locals>.wrapper\u001b[0;34m(func, instance, args, kwargs)\u001b[0m\n\u001b[1;32m    226\u001b[0m \u001b[38;5;28mself\u001b[39m\u001b[38;5;241m.\u001b[39mspan_enter(\n\u001b[1;32m    227\u001b[0m     id_\u001b[38;5;241m=\u001b[39mid_, bound_args\u001b[38;5;241m=\u001b[39mbound_args, instance\u001b[38;5;241m=\u001b[39minstance, parent_id\u001b[38;5;241m=\u001b[39mparent_id\n\u001b[1;32m    228\u001b[0m )\n\u001b[1;32m    229\u001b[0m \u001b[38;5;28;01mtry\u001b[39;00m:\n\u001b[0;32m--> 230\u001b[0m     result \u001b[38;5;241m=\u001b[39m \u001b[43mfunc\u001b[49m\u001b[43m(\u001b[49m\u001b[38;5;241;43m*\u001b[39;49m\u001b[43margs\u001b[49m\u001b[43m,\u001b[49m\u001b[43m \u001b[49m\u001b[38;5;241;43m*\u001b[39;49m\u001b[38;5;241;43m*\u001b[39;49m\u001b[43mkwargs\u001b[49m\u001b[43m)\u001b[49m\n\u001b[1;32m    231\u001b[0m \u001b[38;5;28;01mexcept\u001b[39;00m \u001b[38;5;167;01mBaseException\u001b[39;00m \u001b[38;5;28;01mas\u001b[39;00m e:\n\u001b[1;32m    232\u001b[0m     \u001b[38;5;28mself\u001b[39m\u001b[38;5;241m.\u001b[39mevent(SpanDropEvent(span_id\u001b[38;5;241m=\u001b[39mid_, err_str\u001b[38;5;241m=\u001b[39m\u001b[38;5;28mstr\u001b[39m(e)))\n",
      "File \u001b[0;32m/opt/conda/envs/dev/lib/python3.10/site-packages/llama_index/core/indices/document_summary/retrievers.py:185\u001b[0m, in \u001b[0;36mDocumentSummaryIndexEmbeddingRetriever._retrieve\u001b[0;34m(self, query_bundle)\u001b[0m\n\u001b[1;32m    183\u001b[0m results \u001b[38;5;241m=\u001b[39m []\n\u001b[1;32m    184\u001b[0m \u001b[38;5;28;01mfor\u001b[39;00m summary_id \u001b[38;5;129;01min\u001b[39;00m top_k_summary_ids:\n\u001b[0;32m--> 185\u001b[0m     node_ids \u001b[38;5;241m=\u001b[39m \u001b[38;5;28;43mself\u001b[39;49m\u001b[38;5;241;43m.\u001b[39;49m\u001b[43m_index_struct\u001b[49m\u001b[38;5;241;43m.\u001b[39;49m\u001b[43msummary_id_to_node_ids\u001b[49m\u001b[43m[\u001b[49m\u001b[43msummary_id\u001b[49m\u001b[43m]\u001b[49m\n\u001b[1;32m    186\u001b[0m     nodes \u001b[38;5;241m=\u001b[39m \u001b[38;5;28mself\u001b[39m\u001b[38;5;241m.\u001b[39m_docstore\u001b[38;5;241m.\u001b[39mget_nodes(node_ids)\n\u001b[1;32m    187\u001b[0m     results\u001b[38;5;241m.\u001b[39mextend([NodeWithScore(node\u001b[38;5;241m=\u001b[39mn) \u001b[38;5;28;01mfor\u001b[39;00m n \u001b[38;5;129;01min\u001b[39;00m nodes])\n",
      "\u001b[0;31mKeyError\u001b[0m: '9b674962-37bb-43af-8ef0-a1398491ca21'"
     ]
    }
   ],
   "source": [
    "response = query_engine.query(question1)"
   ]
  },
  {
   "cell_type": "code",
   "execution_count": null,
   "id": "c6133347-cab7-410a-a4b5-a471763079f6",
   "metadata": {},
   "outputs": [],
   "source": [
    "response"
   ]
  }
 ],
 "metadata": {
  "kernelspec": {
   "display_name": "llm_torch230_py310",
   "language": "python",
   "name": "llm_torch230_py310"
  },
  "language_info": {
   "codemirror_mode": {
    "name": "ipython",
    "version": 3
   },
   "file_extension": ".py",
   "mimetype": "text/x-python",
   "name": "python",
   "nbconvert_exporter": "python",
   "pygments_lexer": "ipython3",
   "version": "3.10.14"
  }
 },
 "nbformat": 4,
 "nbformat_minor": 5
}
