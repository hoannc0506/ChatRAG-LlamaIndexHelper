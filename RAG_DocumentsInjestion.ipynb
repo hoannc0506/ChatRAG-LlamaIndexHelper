{
 "cells": [
  {
   "cell_type": "markdown",
   "id": "286022ad-cae2-4777-94c8-1872ae06f77d",
   "metadata": {},
   "source": [
    "## Load documents"
   ]
  },
  {
   "cell_type": "code",
   "execution_count": 1,
   "id": "225e7ebe-4a4c-49e5-b19d-cf1c7e5d5723",
   "metadata": {},
   "outputs": [],
   "source": [
    "import glob\n",
    "import json\n",
    "import os\n",
    "from tqdm import tqdm\n",
    "from llama_index.readers.web import SimpleWebPageReader\n",
    "from llama_index.readers.file import HTMLTagReader\n",
    "from llama_index.core import (\n",
    "    SimpleDirectoryReader,\n",
    "    Document,\n",
    "    Settings,\n",
    "    VectorStoreIndex,\n",
    "    StorageContext,\n",
    "    SummaryIndex\n",
    ")\n",
    "\n",
    "from llama_index.core.node_parser import HTMLNodeParser, MarkdownNodeParser\n",
    "from llama_index.core.storage.docstore import SimpleDocumentStore\n",
    "from crawl_data import html_to_md\n",
    "from IPython.display import display, HTML, Markdown"
   ]
  },
  {
   "cell_type": "markdown",
   "id": "6df52367-e4fb-4a40-8b47-7421ba15c8e8",
   "metadata": {},
   "source": [
    "### Load html documents"
   ]
  },
  {
   "cell_type": "code",
   "execution_count": 2,
   "id": "78f9156d-3774-44c0-a024-7edf3ac13145",
   "metadata": {},
   "outputs": [],
   "source": [
    "html_loader = SimpleDirectoryReader(\n",
    "    input_dir=\"./data/llama-blogs-html/\",\n",
    "    filename_as_id=True,\n",
    ")"
   ]
  },
  {
   "cell_type": "code",
   "execution_count": 3,
   "id": "3707e0bf-a32e-44fd-ab05-d41d245a4c81",
   "metadata": {},
   "outputs": [],
   "source": [
    "html_documents = html_loader.load_data(show_progress=True, num_workers=8)"
   ]
  },
  {
   "cell_type": "code",
   "execution_count": 4,
   "id": "e5783b64-2efb-4a80-be00-f79d670ec590",
   "metadata": {
    "scrolled": true
   },
   "outputs": [],
   "source": [
    "test_doc = html_documents[10]"
   ]
  },
  {
   "cell_type": "code",
   "execution_count": 5,
   "id": "fd07a31f-6d4d-4110-94d8-964ee8e2ab5b",
   "metadata": {},
   "outputs": [
    {
     "data": {
      "text/plain": [
       "{'file_path': '/workspace/projects/LlamindexHelper/data/llama-blogs-html/bridging-the-gap-in-crisis-counseling-introducing-counselor-copilot-db42e26ab4f3.html',\n",
       " 'file_name': 'bridging-the-gap-in-crisis-counseling-introducing-counselor-copilot-db42e26ab4f3.html',\n",
       " 'file_type': 'text/html',\n",
       " 'file_size': 11333,\n",
       " 'creation_date': '2024-08-08',\n",
       " 'last_modified_date': '2024-08-08'}"
      ]
     },
     "execution_count": 5,
     "metadata": {},
     "output_type": "execute_result"
    }
   ],
   "source": [
    "test_doc.metadata"
   ]
  },
  {
   "cell_type": "code",
   "execution_count": 6,
   "id": "904f4ac8-ba7e-4525-aac8-01a621167809",
   "metadata": {
    "scrolled": true
   },
   "outputs": [
    {
     "data": {
      "text/html": [
       "<div class=\"BlogPost_htmlPost__Z5oDL\">\n",
       " <p class=\"Text_text__zPO0D Text_text-size-16__PkjFu\">\n",
       "  <em>\n",
       "   Co-authored by:\n",
       "   <a class=\"SanityPortableText_link__QA4Ze\" href=\"https://medium.com/u/e84f937083e3?source=post_page-----db42e26ab4f3--------------------------------\" rel=\"noreferrer noopener\">\n",
       "    Riya Jagetia\n",
       "   </a>\n",
       "   ,\n",
       "  </em>\n",
       "  <em>\n",
       "   <a class=\"SanityPortableText_link__QA4Ze\" href=\"https://medium.com/u/7d279643046e?source=post_page-----db42e26ab4f3--------------------------------\" rel=\"noreferrer noopener\">\n",
       "    Tarun Malik\n",
       "   </a>\n",
       "   ,\n",
       "  </em>\n",
       "  <em>\n",
       "   <a class=\"SanityPortableText_link__QA4Ze\" href=\"https://medium.com/u/6fe4060f2a53?source=post_page-----db42e26ab4f3--------------------------------\" rel=\"noreferrer noopener\">\n",
       "    Divija N\n",
       "   </a>\n",
       "   ,\n",
       "  </em>\n",
       "  <em>\n",
       "   <a class=\"SanityPortableText_link__QA4Ze\" href=\"https://medium.com/u/361137e928c3?source=post_page-----db42e26ab4f3--------------------------------\" rel=\"noreferrer noopener\">\n",
       "    Sharon Tan\n",
       "   </a>\n",
       "   ,\n",
       "  </em>\n",
       "  <a class=\"SanityPortableText_link__QA4Ze\" href=\"https://medium.com/u/7bdf7b817eec?source=post_page-----db42e26ab4f3--------------------------------\" rel=\"noreferrer noopener\">\n",
       "   <em>\n",
       "    Zehra Rizvi\n",
       "   </em>\n",
       "  </a>\n",
       "  ,\n",
       "  <a class=\"SanityPortableText_link__QA4Ze\" href=\"https://medium.com/u/b75312a598d6?source=post_page-----db42e26ab4f3--------------------------------\" rel=\"noreferrer noopener\">\n",
       "   <em>\n",
       "    Amanda Piyapanee\n",
       "   </em>\n",
       "  </a>\n",
       " </p>\n",
       " <p class=\"Text_text__zPO0D Text_text-size-16__PkjFu\">\n",
       "  At the recent LlamaIndex RAG-a-thon [1], our team’s\n",
       "  <strong>\n",
       "   “Counselor Copilot”\n",
       "  </strong>\n",
       "  won 2nd prize in the Traditional track and 1st prize in the Datastax/AstraDB category. More details can be found on our\n",
       "  <a class=\"SanityPortableText_link__QA4Ze\" href=\"https://devpost.com/software/counselor-copilot\" rel=\"noreferrer noopener\">\n",
       "   DevPost\n",
       "  </a>\n",
       "  [2] writeup.\n",
       " </p>\n",
       " <h2 class=\"Text_text__zPO0D Text_text-size-48__A2f8Q\">\n",
       "  Introduction\n",
       " </h2>\n",
       " <p class=\"Text_text__zPO0D Text_text-size-16__PkjFu\">\n",
       "  Against the backdrop of growing strain on mental health services [3, 4], non-profit organizations like The Trevor Project [5] are a critical part of the care ecosystem. Focusing on helping LGBTQ+ youth who are contemplating suicide, The Trevor Project provides accessible crisis services including via TrevorText, an online chat service with trained volunteer counselors.\n",
       " </p>\n",
       " <h2 class=\"Text_text__zPO0D Text_text-size-48__A2f8Q\">\n",
       "  Problem: The Dual Challenge Faced by Crisis Counselors\n",
       " </h2>\n",
       " <p class=\"Text_text__zPO0D Text_text-size-16__PkjFu\">\n",
       "  However, TrevorText counselors face significant challenges. Not only is there high demand for counselors during busy times like holidays and night shifts, but also, counselors have to juggle a number of administrative tasks such as sifting through forms, responding to messages across multiple chats, and locating relevant local resources. This not only increases the risk of counselors burning out but also hampers their ability to provide timely and effective care.\n",
       " </p>\n",
       " <p class=\"Text_text__zPO0D Text_text-size-16__PkjFu\">\n",
       "  In light of these challenges, there’s a pressing need for innovative solutions to bridge the gap between the demand and supply of crisis services.\n",
       " </p>\n",
       " <p class=\"Text_text__zPO0D Text_text-size-16__PkjFu\">\n",
       "  While our hackathon project focused on augmenting TrevorText, our product can be easily extended to general crisis chat alternatives as well.\n",
       " </p>\n",
       " <h2 class=\"Text_text__zPO0D Text_text-size-48__A2f8Q\">\n",
       "  The Winning Solution: An AI Copilot for Crisis Counselors\n",
       " </h2>\n",
       " <p class=\"Text_text__zPO0D Text_text-size-16__PkjFu\">\n",
       "  Counselor Copilot is a real-time assistant for crisis counselors that takes into account contact context and chat history to suggest replies so that counselors can focus on what they do best: providing care.\n",
       "  <strong>\n",
       "   There is no prompting that is needed from counselors; the copilot works seamlessly in the background.\n",
       "  </strong>\n",
       " </p>\n",
       " <p class=\"Text_text__zPO0D Text_text-size-16__PkjFu\">\n",
       "  Further, the copilot never directly replies to contacts; instead, replies are suggested and can be edited.\n",
       " </p>\n",
       " <figure>\n",
       "  <figcaption>\n",
       "   Counselor copilot takes into account contact context and chat history to provide real-time reply suggestions to the counselors\n",
       "  </figcaption>\n",
       " </figure>\n",
       " <p class=\"Text_text__zPO0D Text_text-size-16__PkjFu\">\n",
       "  Specifically, the copilot automates counselor tasks that include but are not limited to:\n",
       " </p>\n",
       " <ol>\n",
       "  <li class=\"Text_text__zPO0D Text_text-size-16__PkjFu\">\n",
       "   Retrieving and synthesizing contact data from complex PDFs in real-time. This also provides counselors context on their contacts when conversations are initiated.\n",
       "  </li>\n",
       "  <li class=\"Text_text__zPO0D Text_text-size-16__PkjFu\">\n",
       "   Assessing from the chat context if emergency intervention is required. If so, suggesting escalation to a supervisor.\n",
       "  </li>\n",
       "  <li class=\"Text_text__zPO0D Text_text-size-16__PkjFu\">\n",
       "   Using existing resources and guidelines from the organization to suggest appropriate replies.\n",
       "  </li>\n",
       " </ol>\n",
       " <p class=\"Text_text__zPO0D Text_text-size-16__PkjFu\">\n",
       "  4. Searching for location-specific resources for contacts, and quickly sharing those resources via email.\n",
       " </p>\n",
       " <p class=\"Text_text__zPO0D Text_text-size-16__PkjFu\">\n",
       "  5. Completing case forms in a CRM for contacts, including summarizing the interaction.\n",
       " </p>\n",
       " <p class=\"Text_text__zPO0D Text_text-size-16__PkjFu\">\n",
       "  While these tasks are important and necessary, they pull attention away from conversations with youth in crisis and take up precious time.\n",
       " </p>\n",
       " <p class=\"Text_text__zPO0D Text_text-size-16__PkjFu\">\n",
       "  With Counselor copilot, these tasks are completed when they are required and without any prompting from counselors, providing more bandwidth for counselors and ultimately leading to higher-quality conversations with patients.\n",
       " </p>\n",
       " <p class=\"Text_text__zPO0D Text_text-size-16__PkjFu\">\n",
       "  Below is a demo of our solution:\n",
       " </p>\n",
       " <h2 class=\"Text_text__zPO0D Text_text-size-48__A2f8Q\">\n",
       "  How we built it\n",
       " </h2>\n",
       " <p class=\"Text_text__zPO0D Text_text-size-16__PkjFu\">\n",
       "  When the chat is initiated, the Counselor Copilot gets the contact’s data from the CRM, which is stored in complex PDFs. We used LlamaParse to extract relevant contact data in real-time and then provide a summary of that data to counselors as context at the beginning of each conversation.\n",
       " </p>\n",
       " <p class=\"Text_text__zPO0D Text_text-size-16__PkjFu\">\n",
       "  Further, we used a LlamaIndex ReAct Agent to monitor the conversation and — based on the chat history and contact context — deploy the right tool. Tools at the ReAct Agent’s disposal include:\n",
       " </p>\n",
       " <ol>\n",
       "  <li class=\"Text_text__zPO0D Text_text-size-16__PkjFu\">\n",
       "   Escalating the conversation to a supervisor\n",
       "  </li>\n",
       "  <li class=\"Text_text__zPO0D Text_text-size-16__PkjFu\">\n",
       "   Suggesting a response and related resources based on The Trevor Project’s guidelines\n",
       "  </li>\n",
       "  <li class=\"Text_text__zPO0D Text_text-size-16__PkjFu\">\n",
       "   Searching the web for location-specific resources and sending the resources to the contact\n",
       "  </li>\n",
       " </ol>\n",
       " <p class=\"Text_text__zPO0D Text_text-size-16__PkjFu\">\n",
       "  For tool #2, we created a vector database that contains The Trevor Project’s documents, which highlight key guidelines for counselors based on different scenarios and situations that they may face. We used RAG to retrieve resources relevant to the conversation, and GPT4 to draft a response for the counselor based on those resources, both of which are essential due to the sensitive nature of the conversation.\n",
       " </p>\n",
       " <p class=\"Text_text__zPO0D Text_text-size-16__PkjFu\">\n",
       "  Lastly, we used the conversation content to fill out a form with key Salesforce fields (e.g. name, age, city, state), as well as to summarize the conversation.\n",
       " </p>\n",
       " <h2 class=\"Text_text__zPO0D Text_text-size-48__A2f8Q\">\n",
       "  Possible Extensions\n",
       " </h2>\n",
       " <p class=\"Text_text__zPO0D Text_text-size-16__PkjFu\">\n",
       "  We’re excited by the potential for others to build on our work [6] and extend Counselor Copilot further. Some ideas include:\n",
       " </p>\n",
       " <ol>\n",
       "  <li class=\"Text_text__zPO0D Text_text-size-16__PkjFu\">\n",
       "   Reduce costs and improve quality of suggested responses: Fine-tune a state-of-the-art open-source LLM on extracts of chat conversations conducted by counselors\n",
       "  </li>\n",
       "  <li class=\"Text_text__zPO0D Text_text-size-16__PkjFu\">\n",
       "   More targeted conversation management: Add a tool for the agent to assess the stage of the conversation, given that there are recommended styles and questions for each stage (e.g. establishing rapport, risk assessment)\n",
       "  </li>\n",
       "  <li class=\"Text_text__zPO0D Text_text-size-16__PkjFu\">\n",
       "   Closed-loop feedback cycle: Allow counselors to thumbs-up or thumbs-down selected responses, as a natural way to collect human feedback which can be used for further model or agent training\n",
       "  </li>\n",
       " </ol>\n",
       " <h2 class=\"Text_text__zPO0D Text_text-size-48__A2f8Q\">\n",
       "  Conclusion: A Step Toward Efficient and Effective Crisis Care\n",
       " </h2>\n",
       " <p class=\"Text_text__zPO0D Text_text-size-16__PkjFu\">\n",
       "  Our AI copilot for crisis counselors represents a significant step toward more efficient and effective crisis care. By automating administrative tasks, it frees up counselors to focus on their core mission of providing youth in crisis a safe place to talk. This not only enhances the quality of care provided but also addresses the pressing issue of counselor shortage by maximizing the impact of existing resources. As we continue to refine and expand this technology, we envision a future where crisis counseling is more accessible, responsive, and impactful for all those in need​​.\n",
       " </p>\n",
       " <h2 class=\"Text_text__zPO0D Text_text-size-48__A2f8Q\">\n",
       "  References\n",
       " </h2>\n",
       " <ol>\n",
       "  <li class=\"Text_text__zPO0D Text_text-size-16__PkjFu\">\n",
       "   <a class=\"SanityPortableText_link__QA4Ze\" href=\"https://rag-a-thon.devpost.com/\" rel=\"noreferrer noopener\">\n",
       "    https://rag-a-thon.devpost.com/\n",
       "   </a>\n",
       "  </li>\n",
       "  <li class=\"Text_text__zPO0D Text_text-size-16__PkjFu\">\n",
       "   <a class=\"SanityPortableText_link__QA4Ze\" href=\"https://devpost.com/software/counselor-copilot\" rel=\"noreferrer noopener\">\n",
       "    https://devpost.com/software/counselor-copilot\n",
       "   </a>\n",
       "  </li>\n",
       "  <li class=\"Text_text__zPO0D Text_text-size-16__PkjFu\">\n",
       "   <a class=\"SanityPortableText_link__QA4Ze\" href=\"https://www.mhanational.org/issues/state-mental-health-america\" rel=\"noreferrer noopener\">\n",
       "    https://www.mhanational.org/issues/state-mental-health-america\n",
       "   </a>\n",
       "  </li>\n",
       "  <li class=\"Text_text__zPO0D Text_text-size-16__PkjFu\">\n",
       "   <a class=\"SanityPortableText_link__QA4Ze\" href=\"https://www.aamc.org/news/growing-psychiatrist-shortage-enormous-demand-mental-health-services\" rel=\"noreferrer noopener\">\n",
       "    https://www.aamc.org/news/growing-psychiatrist-shortage-enormous-demand-mental-health-services\n",
       "   </a>\n",
       "  </li>\n",
       "  <li class=\"Text_text__zPO0D Text_text-size-16__PkjFu\">\n",
       "   <a class=\"SanityPortableText_link__QA4Ze\" href=\"https://www.thetrevorproject.org/\" rel=\"noreferrer noopener\">\n",
       "    https://www.thetrevorproject.org/\n",
       "   </a>\n",
       "  </li>\n",
       "  <li class=\"Text_text__zPO0D Text_text-size-16__PkjFu\">\n",
       "   <a class=\"SanityPortableText_link__QA4Ze\" href=\"https://github.com/zrizvi93/trevorhack\" rel=\"noreferrer noopener\">\n",
       "    https://github.com/zrizvi93/trevorhack\n",
       "   </a>\n",
       "  </li>\n",
       " </ol>\n",
       "</div>\n"
      ],
      "text/plain": [
       "<IPython.core.display.HTML object>"
      ]
     },
     "metadata": {},
     "output_type": "display_data"
    }
   ],
   "source": [
    "display(HTML(test_doc.text))"
   ]
  },
  {
   "cell_type": "markdown",
   "id": "cb6ca086-5bfc-4400-a5c4-05f8f2b36d2c",
   "metadata": {},
   "source": [
    "### Load md documents"
   ]
  },
  {
   "cell_type": "code",
   "execution_count": 7,
   "id": "33f6ba0a-9a30-4772-9dd2-8ccaa4428758",
   "metadata": {},
   "outputs": [],
   "source": [
    "md_loader = SimpleDirectoryReader(\n",
    "    input_dir=\"./data/llama-blogs-md/\",\n",
    "    filename_as_id=True,\n",
    ")"
   ]
  },
  {
   "cell_type": "code",
   "execution_count": 8,
   "id": "c6e9d595-0d29-4e25-ab35-f1eb5c952bbf",
   "metadata": {},
   "outputs": [],
   "source": [
    "md_documents = md_loader.load_data(show_progress=True, num_workers=8)"
   ]
  },
  {
   "cell_type": "code",
   "execution_count": 9,
   "id": "3342ff02-84cc-495d-ae72-653e07a1a13f",
   "metadata": {},
   "outputs": [
    {
     "data": {
      "text/plain": [
       "{'file_path': '/workspace/projects/LlamindexHelper/data/llama-blogs-md/a-new-document-summary-index-for-llm-powered-qa-systems-9a32ece2f9ec.md',\n",
       " 'file_name': 'a-new-document-summary-index-for-llm-powered-qa-systems-9a32ece2f9ec.md',\n",
       " 'file_type': 'text/markdown',\n",
       " 'file_size': 8526,\n",
       " 'creation_date': '2024-08-08',\n",
       " 'last_modified_date': '2024-08-08'}"
      ]
     },
     "execution_count": 9,
     "metadata": {},
     "output_type": "execute_result"
    }
   ],
   "source": [
    "md_documents[10].metadata"
   ]
  },
  {
   "cell_type": "code",
   "execution_count": 11,
   "id": "4e5b2680-e7b8-4604-93ed-dd4bb4755093",
   "metadata": {},
   "outputs": [
    {
     "data": {
      "text/plain": [
       "Document(id_='/workspace/projects/LlamindexHelper/data/llama-blogs-md/a-new-document-summary-index-for-llm-powered-qa-systems-9a32ece2f9ec.md_part_1', embedding=None, metadata={'file_path': '/workspace/projects/LlamindexHelper/data/llama-blogs-md/a-new-document-summary-index-for-llm-powered-qa-systems-9a32ece2f9ec.md', 'file_name': 'a-new-document-summary-index-for-llm-powered-qa-systems-9a32ece2f9ec.md', 'file_type': 'text/markdown', 'file_size': 8526, 'creation_date': '2024-08-08', 'last_modified_date': '2024-08-08'}, excluded_embed_metadata_keys=['file_name', 'file_type', 'file_size', 'creation_date', 'last_modified_date', 'last_accessed_date'], excluded_llm_metadata_keys=['file_name', 'file_type', 'file_size', 'creation_date', 'last_modified_date', 'last_accessed_date'], relationships={}, text='\\n\\nBackground\\nOne of the core use cases of Large Language Models (LLMs) is question\\\\-answering over your own data. To do this, we pair the LLM with a “retrieval” model that can perform information retrieval over a knowledge corpus, and perform response synthesis over the retrieved texts using the LLM. This overall framework is called Retrieval\\\\-Augmented Generation.\\nMost users building LLM\\\\-powered QA systems today tend to do some form of the following:\\n1. Take source documents, split each one into text chunks\\n2. Store text chunks in a vector db\\n3. During query\\\\-time, retrieve text chunks by embedding similarity and/or keyword filters.\\n4. Perform response synthesis\\nFor a variety of reasons, this approach provides limited retrieval performance.', mimetype='text/plain', start_char_idx=None, end_char_idx=None, text_template='{metadata_str}\\n\\n{content}', metadata_template='{key}: {value}', metadata_seperator='\\n')"
      ]
     },
     "execution_count": 11,
     "metadata": {},
     "output_type": "execute_result"
    }
   ],
   "source": [
    "md_documents[10]"
   ]
  },
  {
   "cell_type": "code",
   "execution_count": 10,
   "id": "d18e1f12-4c21-4e48-a151-7683612277fe",
   "metadata": {},
   "outputs": [
    {
     "data": {
      "text/markdown": [
       "\n",
       "\n",
       "Background\n",
       "One of the core use cases of Large Language Models (LLMs) is question\\-answering over your own data. To do this, we pair the LLM with a “retrieval” model that can perform information retrieval over a knowledge corpus, and perform response synthesis over the retrieved texts using the LLM. This overall framework is called Retrieval\\-Augmented Generation.\n",
       "Most users building LLM\\-powered QA systems today tend to do some form of the following:\n",
       "1. Take source documents, split each one into text chunks\n",
       "2. Store text chunks in a vector db\n",
       "3. During query\\-time, retrieve text chunks by embedding similarity and/or keyword filters.\n",
       "4. Perform response synthesis\n",
       "For a variety of reasons, this approach provides limited retrieval performance."
      ],
      "text/plain": [
       "<IPython.core.display.Markdown object>"
      ]
     },
     "metadata": {},
     "output_type": "display_data"
    }
   ],
   "source": [
    "display(Markdown(md_documents[10].text))"
   ]
  },
  {
   "cell_type": "code",
   "execution_count": null,
   "id": "c4d2c0de-ea9a-4db0-8491-0fbe4ed9b210",
   "metadata": {},
   "outputs": [],
   "source": []
  },
  {
   "cell_type": "markdown",
   "id": "df8d0faa-0c08-40ca-b795-59d584edcdc1",
   "metadata": {},
   "source": [
    "## Loading and Injestion"
   ]
  },
  {
   "cell_type": "markdown",
   "id": "f93fb95c-56f2-471a-8970-8da382572965",
   "metadata": {},
   "source": [
    "### Load documents"
   ]
  },
  {
   "cell_type": "code",
   "execution_count": 1,
   "id": "601295ac-1023-460f-8a55-fad27c3f5cc5",
   "metadata": {},
   "outputs": [],
   "source": [
    "from llama_index.core import SimpleDirectoryReader\n",
    "from llama_index.core.node_parser import SentenceSplitter\n",
    "from llama_index.core import Settings"
   ]
  },
  {
   "cell_type": "code",
   "execution_count": 2,
   "id": "855a3fa1-1d14-4e2f-9935-2ed5b63a5182",
   "metadata": {},
   "outputs": [],
   "source": [
    "documents = SimpleDirectoryReader(\n",
    "    input_dir=\"./data/llama-blogs\",\n",
    ").load_data()"
   ]
  },
  {
   "cell_type": "code",
   "execution_count": 3,
   "id": "ef332e3c-6e8c-4f92-b6c8-3e6b145a2a37",
   "metadata": {},
   "outputs": [
    {
     "data": {
      "text/plain": [
       "(24684, 159)"
      ]
     },
     "execution_count": 3,
     "metadata": {},
     "output_type": "execute_result"
    }
   ],
   "source": [
    "len(documents[0].text), len(documents)"
   ]
  },
  {
   "cell_type": "code",
   "execution_count": 12,
   "id": "a0738c95-3527-4952-99b1-649016aa3a53",
   "metadata": {},
   "outputs": [
    {
     "data": {
      "text/plain": [
       "{'file_path': '/workspace/projects/LlamaRAG/data/a-cheat-sheet-and-some-recipes-for-building-advanced-rag-803a9d94c41b.html',\n",
       " 'file_name': 'a-cheat-sheet-and-some-recipes-for-building-advanced-rag-803a9d94c41b.html',\n",
       " 'file_type': 'text/html',\n",
       " 'file_size': 24708,\n",
       " 'creation_date': '2024-07-21',\n",
       " 'last_modified_date': '2024-07-21'}"
      ]
     },
     "execution_count": 12,
     "metadata": {},
     "output_type": "execute_result"
    }
   ],
   "source": [
    "documents[0].metadata"
   ]
  }
 ],
 "metadata": {
  "kernelspec": {
   "display_name": "llm-py310",
   "language": "python",
   "name": "llm-py310"
  },
  "language_info": {
   "codemirror_mode": {
    "name": "ipython",
    "version": 3
   },
   "file_extension": ".py",
   "mimetype": "text/x-python",
   "name": "python",
   "nbconvert_exporter": "python",
   "pygments_lexer": "ipython3",
   "version": "3.10.14"
  }
 },
 "nbformat": 4,
 "nbformat_minor": 5
}
