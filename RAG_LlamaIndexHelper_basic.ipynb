{
 "cells": [
  {
   "cell_type": "markdown",
   "id": "3d5dd759-0768-4504-ab8d-35bb3b4f2797",
   "metadata": {},
   "source": [
    "## Crawl Data"
   ]
  },
  {
   "cell_type": "code",
   "execution_count": 1,
   "id": "67086be6-b182-47e3-a2d8-a578078d2e4a",
   "metadata": {},
   "outputs": [],
   "source": [
    "from bs4 import BeautifulSoup\n",
    "import requests\n",
    "import os\n",
    "from tqdm import tqdm"
   ]
  },
  {
   "cell_type": "code",
   "execution_count": 2,
   "id": "3aa24fa6-93f5-4b90-964a-dd275277d113",
   "metadata": {
    "scrolled": true
   },
   "outputs": [],
   "source": [
    "# Extract and print the main text from each card\n",
    "def get_blog_urls():\n",
    "    # get all blog\n",
    "    base_url = \"https://www.llamaindex.ai\"\n",
    "    response = requests.get(f\"{base_url}/blog\")\n",
    "    html = response.text\n",
    "    \n",
    "    soup = BeautifulSoup(html, 'html.parser')\n",
    "    # Find all blog post cards\n",
    "    blog_cards = soup.find_all('div', class_='CardBlog_card__mm0Zw')\n",
    "    blog_data = []\n",
    "    for card in blog_cards:\n",
    "        # Extract title\n",
    "        title_element = card.find('p', class_='CardBlog_title__qC51U').find('a')\n",
    "        title = title_element.text.strip()\n",
    "        url = base_url + title_element['href']\n",
    "    \n",
    "        # Extract publication date\n",
    "        date = card.find('p', class_='Text_text__zPO0D Text_text-size-16__PkjFu').text.strip()\n",
    "    \n",
    "        # Print the extracted information\n",
    "        print(f\"Title: {title}\")\n",
    "        print(f\"Date: {date}\")\n",
    "        print(f\"URL: {url}\")\n",
    "        print(\"---\")\n",
    "\n",
    "        blog_data.append({\n",
    "            \"title\": title,\n",
    "            \"date\": date,\n",
    "            \"url\": url\n",
    "        })\n",
    "        \n",
    "    return blog_data"
   ]
  },
  {
   "cell_type": "code",
   "execution_count": 3,
   "id": "8101d264-9f6b-4624-b526-0a91e6dab9cb",
   "metadata": {},
   "outputs": [],
   "source": [
    "def extract_page(page_url):\n",
    "    response = requests.get(page_url)\n",
    "    soup = BeautifulSoup(response.text, 'html.parser')\n",
    "    \n",
    "    # Remove script and style tags\n",
    "    for script in soup(['script', 'style']):\n",
    "        script.extract()\n",
    "\n",
    "    # Get rid of empty tags\n",
    "    for tag in soup.find_all():\n",
    "        if not tag.text.strip():\n",
    "            tag.extract()\n",
    "\n",
    "    # only get main blog content, ignore related blogs\n",
    "    blog_content = soup.find(\"main\").find(\"div\", class_=\"BlogPost_htmlPost__Z5oDL\")\n",
    "\n",
    "    return blog_content.prettify()"
   ]
  },
  {
   "cell_type": "code",
   "execution_count": 4,
   "id": "f5da889f-8a95-4bb2-9210-f0df7404d1be",
   "metadata": {
    "scrolled": true
   },
   "outputs": [
    {
     "name": "stdout",
     "output_type": "stream",
     "text": [
      "Title: Introducing LlamaExtract Beta: structured data extraction in just a few clicks\n",
      "Date: Jul 25, 2024\n",
      "URL: https://www.llamaindex.ai/blog/introducing-llamaextract-beta-structured-data-extraction-in-just-a-few-clicks\n",
      "---\n",
      "Title: LlamaIndex Newsletter 2024-07-23\n",
      "Date: Jul 23, 2024\n",
      "URL: https://www.llamaindex.ai/blog/llamaindex-newsletter-2024-07-23\n",
      "---\n",
      "Title: Improving Vector Search - Reranking with PostgresML and LlamaIndex\n",
      "Date: Jul 19, 2024\n",
      "URL: https://www.llamaindex.ai/blog/improving-vector-search-reranking-with-postgresml-and-llamaindex\n",
      "---\n",
      "Title: The latest updates to LlamaCloud\n",
      "Date: Jul 19, 2024\n",
      "URL: https://www.llamaindex.ai/blog/the-latest-updates-to-llamacloud\n",
      "---\n",
      "Title: Case Study: How Scaleport.ai Accelerated Development and Improved Sales with LlamaCloud\n",
      "Date: Jul 17, 2024\n",
      "URL: https://www.llamaindex.ai/blog/case-study-how-scaleport-ai-accelerated-development-and-improved-sales-with-llamacloud\n",
      "---\n",
      "Title: Building a multi-agent concierge system\n",
      "Date: Jul 17, 2024\n",
      "URL: https://www.llamaindex.ai/blog/building-a-multi-agent-concierge-system\n",
      "---\n",
      "Title: LlamaIndex Newsletter 2024-07-16\n",
      "Date: Jul 16, 2024\n",
      "URL: https://www.llamaindex.ai/blog/llamaindex-newsletter-2024-07-16\n",
      "---\n",
      "Title: Arize AI and LlamaIndex Roll Out Joint Platform for Evaluating LLM Applications\n",
      "Date: Jul 11, 2024\n",
      "URL: https://www.llamaindex.ai/blog/arize-ai-and-llamaindex-roll-out-joint-platform-for-evaluating-llm-applications\n",
      "---\n",
      "Title: Case study: Lyzr: Taking autonomous AI agents to $1M+ ARR with LlamaIndex\n",
      "Date: Jul 10, 2024\n",
      "URL: https://www.llamaindex.ai/blog/case-study-lyzr-taking-autonomous-ai-agents-to-usd1m-arr-with-llamaindex\n",
      "---\n",
      "Title: LlamaIndex Newsletter 2024-07-09\n",
      "Date: Jul 9, 2024\n",
      "URL: https://www.llamaindex.ai/blog/llamaindex-newsletter-2024-07-09\n",
      "---\n",
      "Title: LlamaCloud - Built for Enterprise LLM App Builders\n",
      "Date: Jul 9, 2024\n",
      "URL: https://www.llamaindex.ai/blog/llamacloud-built-for-enterprise-llm-app-builders\n",
      "---\n",
      "Title: LlamaIndex Newsletter 2024-07-02\n",
      "Date: Jul 2, 2024\n",
      "URL: https://www.llamaindex.ai/blog/llamaindex-newsletter-2024-07-02\n",
      "---\n",
      "Title: Introducing llama-agents: A Powerful Framework for Building Production Multi-Agent AI Systems\n",
      "Date: Jun 26, 2024\n",
      "URL: https://www.llamaindex.ai/blog/introducing-llama-agents-a-powerful-framework-for-building-production-multi-agent-ai-systems\n",
      "---\n",
      "Title: LlamaIndex Newsletter 2024-06-25\n",
      "Date: Jun 25, 2024\n",
      "URL: https://www.llamaindex.ai/blog/llamaindex-newsletter-2024-06-25\n",
      "---\n",
      "Title: LlamaIndex Newsletter 2024-06-18\n",
      "Date: Jun 18, 2024\n",
      "URL: https://www.llamaindex.ai/blog/llamaindex-newsletter-2024-06-18\n",
      "---\n",
      "Title: Customizing property graph index in LlamaIndex\n",
      "Date: Jun 11, 2024\n",
      "URL: https://www.llamaindex.ai/blog/customizing-property-graph-index-in-llamaindex\n",
      "---\n",
      "Title: LlamaIndex Newsletter 2024-06-11\n",
      "Date: Jun 11, 2024\n",
      "URL: https://www.llamaindex.ai/blog/llamaindex-newsletter-2024-06-11\n",
      "---\n",
      "Title: LlamaIndex Newsletter 2024-06-04\n",
      "Date: Jun 4, 2024\n",
      "URL: https://www.llamaindex.ai/blog/llamaindex-newsletter-2024-06-04\n",
      "---\n",
      "Title: Introducing the Property Graph Index: A Powerful New Way to Build Knowledge Graphs with LLMs\n",
      "Date: May 29, 2024\n",
      "URL: https://www.llamaindex.ai/blog/introducing-the-property-graph-index-a-powerful-new-way-to-build-knowledge-graphs-with-llms\n",
      "---\n",
      "Title: Simplify your RAG application architecture with LlamaIndex + PostgresML\n",
      "Date: May 28, 2024\n",
      "URL: https://www.llamaindex.ai/blog/simplify-your-rag-application-architecture-with-llamaindex-postgresml\n",
      "---\n",
      "Title: LlamaIndex Newsletter 2024-05-28\n",
      "Date: May 28, 2024\n",
      "URL: https://www.llamaindex.ai/blog/llamaindex-newsletter-2024-05-28\n",
      "---\n",
      "Title: Automate online tasks with MultiOn and LlamaIndex\n",
      "Date: May 23, 2024\n",
      "URL: https://www.llamaindex.ai/blog/automate-online-tasks-with-multion-and-llamaindex\n",
      "---\n",
      "Title: Batch inference with MyMagic AI and LlamaIndex\n",
      "Date: May 22, 2024\n",
      "URL: https://www.llamaindex.ai/blog/batch-inference-with-mymagic-ai-and-llamaindex\n",
      "---\n",
      "Title: LlamaIndex Newsletter 2024-05-21\n",
      "Date: May 21, 2024\n",
      "URL: https://www.llamaindex.ai/blog/llamaindex-newsletter-2024-05-21\n",
      "---\n",
      "Title: Secure code execution in LlamaIndex with Azure Container Apps dynamic sessions\n",
      "Date: May 21, 2024\n",
      "URL: https://www.llamaindex.ai/blog/secure-code-execution-in-llamaindex-with-azure-container-apps-dynamic-sessions\n",
      "---\n",
      "Title: Using LlamaIndex and llamafile to build a local, private research assistant\n",
      "Date: May 14, 2024\n",
      "URL: https://www.llamaindex.ai/blog/using-llamaindex-and-llamafile-to-build-a-local-private-research-assistant\n",
      "---\n",
      "Title: LlamaIndex Newsletter 2024-05-14\n",
      "Date: May 14, 2024\n",
      "URL: https://www.llamaindex.ai/blog/llamaindex-newsletter-2024-05-14\n",
      "---\n",
      "Title: LlamaIndex Newsletter 2024-05-07\n",
      "Date: May 7, 2024\n",
      "URL: https://www.llamaindex.ai/blog/llamaindex-newsletter-2024-05-07\n",
      "---\n",
      "Title: LlamaIndex Newsletter 2024-04-30\n",
      "Date: Apr 30, 2024\n",
      "URL: https://www.llamaindex.ai/blog/llamaindex-newsletter-2024-04-30\n",
      "---\n",
      "Title: Streamlining knowledge work with LlamaIndex, Fireworks and MongoDB\n",
      "Date: Apr 29, 2024\n",
      "URL: https://www.llamaindex.ai/blog/streamlining-knowledge-work-with-llamaindex-fireworks-and-mongodb\n",
      "---\n",
      "Title: LlamaIndex Newsletter 2024-04-23\n",
      "Date: Apr 23, 2024\n",
      "URL: https://www.llamaindex.ai/blog/llamaindex-newsletter-2024-04-23\n",
      "---\n",
      "Title: LlamaIndex Newsletter 2024-04-16\n",
      "Date: Apr 16, 2024\n",
      "URL: https://www.llamaindex.ai/blog/llamaindex-newsletter-2024-04-16\n",
      "---\n",
      "Title: LlamaIndex Newsletter 2024-04-09\n",
      "Date: Apr 9, 2024\n",
      "URL: https://www.llamaindex.ai/blog/llamaindex-newsletter-2024-04-09\n",
      "---\n",
      "Title: LlamaIndex Newsletter 2024-04-02\n",
      "Date: Apr 2, 2024\n",
      "URL: https://www.llamaindex.ai/blog/llamaindex-newsletter-2024-04-02\n",
      "---\n",
      "Title: LlamaIndex Newsletter 2024-03-26\n",
      "Date: Mar 26, 2024\n",
      "URL: https://www.llamaindex.ai/blog/llamaindex-newsletter-2024-03-26\n",
      "---\n",
      "Title: Secure RAG with LlamaIndex and LLM Guard by Protect AI\n",
      "Date: Mar 20, 2024\n",
      "URL: https://www.llamaindex.ai/blog/secure-rag-with-llamaindex-and-llm-guard-by-protect-ai\n",
      "---\n",
      "Title: Retrieving Privacy-Safe Documents Over A Network\n",
      "Date: Mar 20, 2024\n",
      "URL: https://www.llamaindex.ai/blog/retrieving-privacy-safe-documents-over-a-network\n",
      "---\n",
      "Title: Supercharge your LlamaIndex RAG Pipeline with UpTrain Evaluations\n",
      "Date: Mar 19, 2024\n",
      "URL: https://www.llamaindex.ai/blog/supercharge-your-llamaindex-rag-pipeline-with-uptrain-evaluations\n",
      "---\n",
      "Title: LlamaIndex Newsletter 2024-03-19\n",
      "Date: Mar 19, 2024\n",
      "URL: https://www.llamaindex.ai/blog/llamaindex-newsletter-2024-03-19\n",
      "---\n",
      "Title: One-click Open Source RAG Observability with Langfuse\n",
      "Date: Mar 18, 2024\n",
      "URL: https://www.llamaindex.ai/blog/one-click-open-source-rag-observability-with-langfuse\n",
      "---\n",
      "Title: LlamaIndex Accelerates Enterprise Generative AI with NVIDIA NIM\n",
      "Date: Mar 18, 2024\n",
      "URL: https://www.llamaindex.ai/blog/llamaindex-accelerates-enterprise-generative-ai-with-nvidia-nim\n",
      "---\n",
      "Title: PII Detector: hacking privacy in RAG\n",
      "Date: Mar 13, 2024\n",
      "URL: https://www.llamaindex.ai/blog/pii-detector-hacking-privacy-in-rag\n",
      "---\n",
      "Title: Launching the first GenAI-native document parsing platform\n",
      "Date: Mar 13, 2024\n",
      "URL: https://www.llamaindex.ai/blog/launching-the-first-genai-native-document-parsing-platform\n",
      "---\n",
      "Title: LlamaIndex Newsletter 2024-03-12\n",
      "Date: Mar 12, 2024\n",
      "URL: https://www.llamaindex.ai/blog/llamaindex-newsletter-2024-03-12\n",
      "---\n",
      "Title: LlamaIndex Newsletter 2024-03-05\n",
      "Date: Mar 5, 2024\n",
      "URL: https://www.llamaindex.ai/blog/llamaindex-newsletter-2024-03-05\n",
      "---\n",
      "Title: Towards Long Context RAG\n",
      "Date: Mar 1, 2024\n",
      "URL: https://www.llamaindex.ai/blog/towards-long-context-rag\n",
      "---\n",
      "Title: Unlocking the 3rd Dimension for Generative AI (Part 1)\n",
      "Date: Feb 29, 2024\n",
      "URL: https://www.llamaindex.ai/blog/unlocking-the-3rd-dimension-for-generative-ai-part-1\n",
      "---\n",
      "Title: Querying a network of knowledge with llama-index-networks\n",
      "Date: Feb 27, 2024\n",
      "URL: https://www.llamaindex.ai/blog/querying-a-network-of-knowledge-with-llama-index-networks-d784b4c3006f\n",
      "---\n",
      "Title: LlamaIndex Newsletter 2024–02–27\n",
      "Date: Feb 27, 2024\n",
      "URL: https://www.llamaindex.ai/blog/llamaindex-newsletter-2024-02-27-4b9102a0f824\n",
      "---\n",
      "Title: Bridging the Gap in Crisis Counseling: Introducing Counselor Copilot\n",
      "Date: Feb 24, 2024\n",
      "URL: https://www.llamaindex.ai/blog/bridging-the-gap-in-crisis-counseling-introducing-counselor-copilot-db42e26ab4f3\n",
      "---\n",
      "Title: Introducing LlamaCloud and LlamaParse\n",
      "Date: Feb 20, 2024\n",
      "URL: https://www.llamaindex.ai/blog/introducing-llamacloud-and-llamaparse-af8cedf9006b\n",
      "---\n",
      "Title: LlamaIndex Newsletter 2024–02–20: introducing LlamaCloud\n",
      "Date: Feb 20, 2024\n",
      "URL: https://www.llamaindex.ai/blog/llamaindex-newsletter-2024-02-20-introducing-llamacloud-30511f4662f4\n",
      "---\n",
      "Title: MultiModal RAG for Advanced Video Processing with LlamaIndex & LanceDB\n",
      "Date: Feb 17, 2024\n",
      "URL: https://www.llamaindex.ai/blog/multimodal-rag-for-advanced-video-processing-with-llamaindex-lancedb-33be4804822e\n",
      "---\n",
      "Title: LlamaIndex Newsletter 2023–02–13\n",
      "Date: Feb 13, 2024\n",
      "URL: https://www.llamaindex.ai/blog/llamaindex-newsletter-2023-02-13-26fa79601ba5\n",
      "---\n",
      "Title: Pioneering the Future of Housing: Introducing GenAI-Driven ADU Planning\n",
      "Date: Feb 12, 2024\n",
      "URL: https://www.llamaindex.ai/blog/pioneering-the-future-of-housing-introducing-genai-driven-adu-planning-ea950be71e2f\n",
      "---\n",
      "Title: LlamaIndex v0.10\n",
      "Date: Feb 12, 2024\n",
      "URL: https://www.llamaindex.ai/blog/llamaindex-v0-10-838e735948f8\n",
      "---\n",
      "Title: How to build LLM Agents in TypeScript with LlamaIndex.TS\n",
      "Date: Feb 8, 2024\n",
      "URL: https://www.llamaindex.ai/blog/how-to-build-llm-agents-in-typescript-with-llamaindex-ts-a88ed364a7aa\n",
      "---\n",
      "Title: LlamaIndex Newsletter 2024–02–06\n",
      "Date: Feb 6, 2024\n",
      "URL: https://www.llamaindex.ai/blog/llamaindex-newsletter-2024-02-06-9a303130ad9f\n",
      "---\n",
      "Title: RAGArch: Building a No-Code RAG Pipeline Configuration & One-Click RAG Code Generation Tool Powered by LlamaIndex\n",
      "Date: Feb 2, 2024\n",
      "URL: https://www.llamaindex.ai/blog/ragarch-building-a-no-code-rag-pipeline-configuration-one-click-rag-code-generation-tool-powered-b6e8eeb70089\n",
      "---\n",
      "Title: LlamaIndex: Enhancing Retrieval Performance with Alpha Tuning in Hybrid Search in RAG\n",
      "Date: Jan 31, 2024\n",
      "URL: https://www.llamaindex.ai/blog/llamaindex-enhancing-retrieval-performance-with-alpha-tuning-in-hybrid-search-in-rag-135d0c9b8a00\n",
      "---\n",
      "Title: Building a Fully Open Source Retriever with Nomic Embed and LlamaIndex\n",
      "Date: Jan 30, 2024\n",
      "URL: https://www.llamaindex.ai/blog/building-a-fully-open-source-retriever-with-nomic-embed-and-llamaindex-fc3d7f36d3e4\n",
      "---\n",
      "Title: Agentic RAG With LlamaIndex\n",
      "Date: Jan 30, 2024\n",
      "URL: https://www.llamaindex.ai/blog/agentic-rag-with-llamaindex-2721b8a49ff6\n",
      "---\n",
      "Title: LlamaIndex Newsletter 2024–01–30\n",
      "Date: Jan 30, 2024\n",
      "URL: https://www.llamaindex.ai/blog/llamaindex-newsletter-2024-01-30-0d01eb0d8cef\n",
      "---\n",
      "Title: Tonic Validate x LlamaIndex: Implementing integration tests for LlamaIndex\n",
      "Date: Jan 26, 2024\n",
      "URL: https://www.llamaindex.ai/blog/tonic-validate-x-llamaindex-implementing-integration-tests-for-llamaindex-43db50b76ed9\n",
      "---\n",
      "Title: Introducing the LlamaIndex retrieval-augmented generation command-line tool\n",
      "Date: Jan 26, 2024\n",
      "URL: https://www.llamaindex.ai/blog/introducing-the-llamaindex-retrieval-augmented-generation-command-line-tool-a973fa519a41\n",
      "---\n",
      "Title: Building Scalable RAG Applications with LlamaIndex and Zilliz Cloud Pipelines\n",
      "Date: Jan 25, 2024\n",
      "URL: https://www.llamaindex.ai/blog/building-scalable-rag-applications-with-llamaindex-and-zilliz-cloud-pipelines-4879e9768baf\n",
      "---\n",
      "Title: Building a Slack bot that learns with LlamaIndex, Qdrant and Render\n",
      "Date: Jan 25, 2024\n",
      "URL: https://www.llamaindex.ai/blog/building-a-slack-bot-that-learns-with-llamaindex-qdrant-and-render-c88d4aa72840\n",
      "---\n",
      "Title: LlamaIndex Newsletter 2024–01–23\n",
      "Date: Jan 23, 2024\n",
      "URL: https://www.llamaindex.ai/blog/llamaindex-newsletter-2024-01-23-11ee2c211bab\n",
      "---\n",
      "Title: LlamaIndex Newsletter 2024–01–16\n",
      "Date: Jan 16, 2024\n",
      "URL: https://www.llamaindex.ai/blog/llamaindex-newsletter-2024-01-16-752195bed96d\n",
      "---\n",
      "Title: Building Multi-Tenancy RAG System with LlamaIndex\n",
      "Date: Jan 15, 2024\n",
      "URL: https://www.llamaindex.ai/blog/building-multi-tenancy-rag-system-with-llamaindex-0d6ab4e0c44b\n",
      "---\n",
      "Title: AI Voice Assistant: Enhancing Accessibility in AI with LlamaIndex and GPT3.5 (Deployed in Prod on Vercel and Render)\n",
      "Date: Jan 14, 2024\n",
      "URL: https://www.llamaindex.ai/blog/ai-voice-assistant-enhancing-accessibility-in-ai-with-llamaindex-and-gpt3-5-f5509d296f4a\n",
      "---\n",
      "Title: Free Advanced RAG Certification course with Activeloop and LlamaIndex\n",
      "Date: Jan 11, 2024\n",
      "URL: https://www.llamaindex.ai/blog/join-thousands-in-our-free-advanced-rag-certification-created-with-activeloop-ad63f24f27bb\n",
      "---\n",
      "Title: LlamaIndex Newsletter 2024–01–09\n",
      "Date: Jan 9, 2024\n",
      "URL: https://www.llamaindex.ai/blog/llamaindex-newsletter-2024-01-09-6209000da2e6\n",
      "---\n",
      "Title: Introducing Query Pipelines\n",
      "Date: Jan 8, 2024\n",
      "URL: https://www.llamaindex.ai/blog/introducing-query-pipelines-025dc2bb0537\n",
      "---\n",
      "Title: A Cheat Sheet and Some Recipes For Building Advanced RAG\n",
      "Date: Jan 5, 2024\n",
      "URL: https://www.llamaindex.ai/blog/a-cheat-sheet-and-some-recipes-for-building-advanced-rag-803a9d94c41b\n",
      "---\n",
      "Title: Building An Intelligent Query-Response System with LlamaIndex and OpenLLM\n",
      "Date: Jan 3, 2024\n",
      "URL: https://www.llamaindex.ai/blog/building-an-intelligent-query-response-system-with-llamaindex-and-openllm-ff253a200bdf\n",
      "---\n",
      "Title: Scaling LlamaIndex with AWS and Hugging Face\n",
      "Date: Jan 2, 2024\n",
      "URL: https://www.llamaindex.ai/blog/scaling-llamaindex-with-aws-and-hugging-face-e2c71aa64716\n",
      "---\n",
      "Title: LlamaIndex Newsletter 2024–01–02\n",
      "Date: Jan 2, 2024\n",
      "URL: https://www.llamaindex.ai/blog/llamaindex-newsletter-2024-01-02-f349db8c1842\n",
      "---\n",
      "Title: Running Mixtral 8x7 locally with LlamaIndex and Ollama\n",
      "Date: Dec 21, 2023\n",
      "URL: https://www.llamaindex.ai/blog/running-mixtral-8x7-locally-with-llamaindex-e6cebeabe0ab\n",
      "---\n",
      "Title: Two new llama-datasets and a Gemini vs. GPT showdown\n",
      "Date: Dec 20, 2023\n",
      "URL: https://www.llamaindex.ai/blog/two-new-llama-datasets-and-a-gemini-vs-gpt-showdown-9770302c91a5\n",
      "---\n",
      "Title: LlamaIndex Newsletter 2023–12–19\n",
      "Date: Dec 19, 2023\n",
      "URL: https://www.llamaindex.ai/blog/llamaindex-newsletter-2023-12-19-2965a2d03726\n",
      "---\n",
      "Title: Multimodal RAG pipeline with LlamaIndex and Neo4j\n",
      "Date: Dec 18, 2023\n",
      "URL: https://www.llamaindex.ai/blog/multimodal-rag-pipeline-with-llamaindex-and-neo4j-a2c542eb0206\n",
      "---\n",
      "Title: Transforming Natural Language to SQL and Insights for E-commerce with LlamaIndex, GPT3.5, and Streamlit\n",
      "Date: Dec 17, 2023\n",
      "URL: https://www.llamaindex.ai/blog/transforming-natural-language-to-sql-and-insights-for-e-commerce-with-llamaindex-gpt3-5-e08edefa21f9\n",
      "---\n",
      "Title: LlamaIndex: RAG Evaluation Showdown with GPT-4 vs. Open-Source Prometheus Model\n",
      "Date: Dec 15, 2023\n",
      "URL: https://www.llamaindex.ai/blog/llamaindex-rag-evaluation-showdown-with-gpt-4-vs-open-source-prometheus-model-14cdca608277\n",
      "---\n",
      "Title: How to train a custom GPT on your data with EmbedAI + LlamaIndex\n",
      "Date: Dec 14, 2023\n",
      "URL: https://www.llamaindex.ai/blog/how-to-train-a-custom-gpt-on-your-data-with-embedai-llamaindex-8a701d141070\n",
      "---\n",
      "Title: LlamaIndex + Gemini\n",
      "Date: Dec 13, 2023\n",
      "URL: https://www.llamaindex.ai/blog/llamaindex-gemini-8d7c3b9ea97e\n",
      "---\n",
      "Title: LlamaIndex Newsletter 2023–12–12\n",
      "Date: Dec 12, 2023\n",
      "URL: https://www.llamaindex.ai/blog/llamaindex-newsletter-2023-12-12-4a5d542fbb1e\n",
      "---\n",
      "Title: Bridging the Language Gap in Programming: Introducing AutoTranslateDoc\n",
      "Date: Dec 8, 2023\n",
      "URL: https://www.llamaindex.ai/blog/bridging-the-language-gap-in-programming-introducing-autotranslatedoc-ccc93fbcd3a8\n",
      "---\n",
      "Title: LlamaIndex + Waii: Combining Structured Data from your Database with PDFs for Enhanced Data Analysis\n",
      "Date: Dec 6, 2023\n",
      "URL: https://www.llamaindex.ai/blog/llamaindex-waii-combining-structured-data-from-your-database-with-pdfs-for-enhanced-data-647a9e66be82\n",
      "---\n",
      "Title: LlamaIndex Newsletter 2023–12–05\n",
      "Date: Dec 5, 2023\n",
      "URL: https://www.llamaindex.ai/blog/llamaindex-newsletter-2023-12-05-faf5ab930264\n",
      "---\n",
      "Title: Introducing Llama Datasets 🦙📝\n",
      "Date: Dec 4, 2023\n",
      "URL: https://www.llamaindex.ai/blog/introducing-llama-datasets-aadb9994ad9e\n",
      "---\n",
      "Title: OpenAI Cookbook: Evaluating RAG systems\n",
      "Date: Nov 28, 2023\n",
      "URL: https://www.llamaindex.ai/blog/openai-cookbook-evaluating-rag-systems-fe393c61fb93\n",
      "---\n",
      "Title: LlamaIndex Newsletter 2023–11–28\n",
      "Date: Nov 28, 2023\n",
      "URL: https://www.llamaindex.ai/blog/llamaindex-newsletter-2023-11-28-a31be430a786\n",
      "---\n",
      "Title: Multimodal RAG: Building ‘AInimal Go!’, a Pokémon Go-Inspired App with ResNet, Cohere and Llamaindex\n",
      "Date: Nov 27, 2023\n",
      "URL: https://www.llamaindex.ai/blog/multimodal-rag-building-ainimal-go-fecf8404ed97\n",
      "---\n",
      "Title: Introducing Llama Packs\n",
      "Date: Nov 22, 2023\n",
      "URL: https://www.llamaindex.ai/blog/introducing-llama-packs-e14f453b913a\n",
      "---\n",
      "Title: Introducing RAGs: Your Personalized ChatGPT Experience Over Your Data\n",
      "Date: Nov 21, 2023\n",
      "URL: https://www.llamaindex.ai/blog/introducing-rags-your-personalized-chatgpt-experience-over-your-data-2b9d140769b1\n",
      "---\n",
      "Title: LlamaIndex Newsletter 2023–11–21\n",
      "Date: Nov 21, 2023\n",
      "URL: https://www.llamaindex.ai/blog/llamaindex-newsletter-2023-11-21-aa3a71e339f8\n",
      "---\n",
      "Title: Becoming Proficient in Document Extraction\n",
      "Date: Nov 20, 2023\n",
      "URL: https://www.llamaindex.ai/blog/becoming-proficient-in-document-extraction-32aa13046ed5\n",
      "---\n",
      "Title: Shipping your Retrieval-Augmented Generation app to production with create-llama\n",
      "Date: Nov 20, 2023\n",
      "URL: https://www.llamaindex.ai/blog/shipping-your-retrieval-augmented-generation-app-to-production-with-create-llama-7bbe43b6287d\n",
      "---\n",
      "Title: GPT4-V Experiments with General, Specific questions and Chain Of Thought prompting(COT) techniques.\n",
      "Date: Nov 17, 2023\n",
      "URL: https://www.llamaindex.ai/blog/gpt4-v-experiments-with-general-specific-questions-and-chain-of-thought-prompting-cot-techniques-49d82e6ddcc9\n",
      "---\n",
      "Title: Evaluating Multi-Modal Retrieval-Augmented Generation\n",
      "Date: Nov 16, 2023\n",
      "URL: https://www.llamaindex.ai/blog/evaluating-multi-modal-retrieval-augmented-generation-db3ca824d428\n",
      "---\n",
      "Title: Improving Retrieval Performance by Fine-tuning Cohere Reranker with LlamaIndex\n",
      "Date: Nov 16, 2023\n",
      "URL: https://www.llamaindex.ai/blog/improving-retrieval-performance-by-fine-tuning-cohere-reranker-with-llamaindex-16c0c1f9b33b\n",
      "---\n",
      "Title: Announcing LlamaIndex 0.9\n",
      "Date: Nov 15, 2023\n",
      "URL: https://www.llamaindex.ai/blog/announcing-llamaindex-0-9-719f03282945\n",
      "---\n",
      "Title: create-llama, a command line tool to generate LlamaIndex apps\n",
      "Date: Nov 14, 2023\n",
      "URL: https://www.llamaindex.ai/blog/create-llama-a-command-line-tool-to-generate-llamaindex-apps-8f7683021191\n",
      "---\n",
      "Title: LlamaIndex Newsletter 2023–11–14\n",
      "Date: Nov 14, 2023\n",
      "URL: https://www.llamaindex.ai/blog/llamaindex-newsletter-2023-11-14-dad06ae4284a\n",
      "---\n",
      "Title: LlamaIndex turns 1!\n",
      "Date: Nov 13, 2023\n",
      "URL: https://www.llamaindex.ai/blog/llamaindex-turns-1-f69dcdd45fe3\n",
      "---\n",
      "Title: Multi-Modal RAG\n",
      "Date: Nov 10, 2023\n",
      "URL: https://www.llamaindex.ai/blog/multi-modal-rag-621de7525fea\n",
      "---\n",
      "Title: Building My Own ChatGPT Vision with PaLM, KOSMOS-2 and LlamaIndex\n",
      "Date: Nov 8, 2023\n",
      "URL: https://www.llamaindex.ai/blog/building-my-own-chatgpt-vision-with-palm-kosmos-2-and-llamaindex-9f9fdd13e566\n",
      "---\n",
      "Title: LlamaIndex Newsletter 2023-11–07\n",
      "Date: Nov 8, 2023\n",
      "URL: https://www.llamaindex.ai/blog/llamaindex-newsletter-2023-11-07-cf20b9a833aa\n",
      "---\n",
      "Title: LlamaIndex news special edition: OpenAI developer day!\n",
      "Date: Nov 7, 2023\n",
      "URL: https://www.llamaindex.ai/blog/llamaindex-news-special-edition-openai-developer-day-e955f16db4e2\n",
      "---\n",
      "Title: LongLLMLingua: Bye-bye to Middle Loss and Save on Your RAG Costs via Prompt Compression\n",
      "Date: Nov 6, 2023\n",
      "URL: https://www.llamaindex.ai/blog/longllmlingua-bye-bye-to-middle-loss-and-save-on-your-rag-costs-via-prompt-compression-54b559b9ddf7\n",
      "---\n",
      "Title: Boosting RAG: Picking the Best Embedding & Reranker models\n",
      "Date: Nov 3, 2023\n",
      "URL: https://www.llamaindex.ai/blog/boosting-rag-picking-the-best-embedding-reranker-models-42d079022e83\n",
      "---\n",
      "Title: LlamaIndex Newsletter 2023–10–31\n",
      "Date: Oct 31, 2023\n",
      "URL: https://www.llamaindex.ai/blog/llamaindex-newsletter-2023-10-31-36244e2b3f0c\n",
      "---\n",
      "Title: NewsGPT(Neotice): Summarize news articles with LlamaIndex — Hackathon winning app\n",
      "Date: Oct 27, 2023\n",
      "URL: https://www.llamaindex.ai/blog/newsgpt-neotice-summarize-news-articles-with-llamaindex-hackathon-winning-app-9d7c8bcf9f11\n",
      "---\n",
      "Title: LlamaIndex newsletter 2023–10–24\n",
      "Date: Oct 24, 2023\n",
      "URL: https://www.llamaindex.ai/blog/llamaindex-newsletter-2023-10-24-4a76204eeaa3\n",
      "---\n",
      "Title: NVIDIA Research: RAG with Long Context LLMs\n",
      "Date: Oct 22, 2023\n",
      "URL: https://www.llamaindex.ai/blog/nvidia-research-rag-with-long-context-llms-7d94d40090c4\n",
      "---\n",
      "Title: Mastering PDFs: Extracting Sections, Headings, Paragraphs, and Tables with Cutting-Edge Parser\n",
      "Date: Oct 18, 2023\n",
      "URL: https://www.llamaindex.ai/blog/mastering-pdfs-extracting-sections-headings-paragraphs-and-tables-with-cutting-edge-parser-faea18870125\n",
      "---\n",
      "Title: Improving RAG effectiveness with Retrieval-Augmented Dual Instruction Tuning (RA-DIT)\n",
      "Date: Oct 18, 2023\n",
      "URL: https://www.llamaindex.ai/blog/improving-rag-effectiveness-with-retrieval-augmented-dual-instruction-tuning-ra-dit-01e73116655d\n",
      "---\n",
      "Title: How I built the Streamlit LLM Hackathon winning app — FinSight using LlamaIndex.\n",
      "Date: Oct 17, 2023\n",
      "URL: https://www.llamaindex.ai/blog/how-i-built-the-streamlit-llm-hackathon-winning-app-finsight-using-llamaindex-9dcf6c46d7a0\n",
      "---\n",
      "Title: LlamaIndex Newsletter 2023–10–17\n",
      "Date: Oct 17, 2023\n",
      "URL: https://www.llamaindex.ai/blog/llamaindex-newsletter-2023-10-17-33514cbc04a2\n",
      "---\n",
      "Title: LlamaIndex update 2023–10–10\n",
      "Date: Oct 10, 2023\n",
      "URL: https://www.llamaindex.ai/blog/llamaindex-update-2023-10-10-3718a3d19fb9\n",
      "---\n",
      "Title: Evaluating the Ideal Chunk Size for a RAG System using LlamaIndex\n",
      "Date: Oct 5, 2023\n",
      "URL: https://www.llamaindex.ai/blog/evaluating-the-ideal-chunk-size-for-a-rag-system-using-llamaindex-6207e5d3fec5\n",
      "---\n",
      "Title: LlamaIndex + Laurie Voss: an alpaca joins the llamas\n",
      "Date: Oct 2, 2023\n",
      "URL: https://www.llamaindex.ai/blog/llamaindex-laurie-voss-an-alpaca-joins-the-llamas-9cae1081adff\n",
      "---\n",
      "Title: Timescale Vector x LlamaIndex: Making PostgreSQL a Better Vector Database for AI Applications\n",
      "Date: Sep 27, 2023\n",
      "URL: https://www.llamaindex.ai/blog/timescale-vector-x-llamaindex-making-postgresql-a-better-vector-database-for-ai-applications-924b0bd29f0\n",
      "---\n",
      "Title: LlamaIndex Update — 20/09/2023\n",
      "Date: Sep 21, 2023\n",
      "URL: https://www.llamaindex.ai/blog/llamaindex-update-20-09-2023-86ed66f78bac\n",
      "---\n",
      "Title: LlamaIndex + Vectara\n",
      "Date: Sep 12, 2023\n",
      "URL: https://www.llamaindex.ai/blog/llamaindex-vectara-7a3889cd34cb\n",
      "---\n",
      "Title: LlamaIndex Update — 09/03/2023\n",
      "Date: Sep 6, 2023\n",
      "URL: https://www.llamaindex.ai/blog/llamaindex-update-09-03-2023-4a7c21c0f60b\n",
      "---\n",
      "Title: Fine-Tuning a Linear Adapter for Any Embedding Model\n",
      "Date: Sep 6, 2023\n",
      "URL: https://www.llamaindex.ai/blog/fine-tuning-a-linear-adapter-for-any-embedding-model-8dd0a142d383\n",
      "---\n",
      "Title: ChatGPT’s Knowledge is Two Years Old: What to do if you’re building applications?\n",
      "Date: Sep 1, 2023\n",
      "URL: https://www.llamaindex.ai/blog/chatgpts-knowledge-is-two-year-s-old-what-to-do-if-you-re-building-applications-72ceacde135c\n",
      "---\n",
      "Title: Introducing Airbyte sources within LlamaIndex\n",
      "Date: Aug 29, 2023\n",
      "URL: https://www.llamaindex.ai/blog/introducing-airbyte-sources-within-llamaindex-42209071722f\n",
      "---\n",
      "Title: LlamaIndex: Automatic Knowledge Transfer (KT) Generation for Code Bases\n",
      "Date: Aug 29, 2023\n",
      "URL: https://www.llamaindex.ai/blog/llamaindex-automatic-knowledge-transfer-kt-generation-for-code-bases-f3d91f21b7af\n",
      "---\n",
      "Title: Fine-Tuning Embeddings for RAG with Synthetic Data\n",
      "Date: Aug 25, 2023\n",
      "URL: https://www.llamaindex.ai/blog/fine-tuning-embeddings-for-rag-with-synthetic-data-e534409a3971\n",
      "---\n",
      "Title: LlamaIndex + Metaphor: Towards Automating Knowledge Work with LLMs\n",
      "Date: Aug 21, 2023\n",
      "URL: https://www.llamaindex.ai/blog/llamaindex-metaphor-towards-automating-knowledge-work-with-llms-5520a32efa2f\n",
      "---\n",
      "Title: Easily Finetune Llama 2 for Your Text-to-SQL Applications\n",
      "Date: Aug 17, 2023\n",
      "URL: https://www.llamaindex.ai/blog/easily-finetune-llama-2-for-your-text-to-sql-applications-ecd53640e10d\n",
      "---\n",
      "Title: LlamaIndex: Harnessing the Power of Text2SQL and RAG to Analyze Product Reviews\n",
      "Date: Aug 12, 2023\n",
      "URL: https://www.llamaindex.ai/blog/llamaindex-harnessing-the-power-of-text2sql-and-rag-to-analyze-product-reviews-204feabdf25b\n",
      "---\n",
      "Title: Zep and LlamaIndex: A Vector Store Walkthrough\n",
      "Date: Aug 11, 2023\n",
      "URL: https://www.llamaindex.ai/blog/zep-and-llamaindex-a-vector-store-walkthrough-564edb8c22dc\n",
      "---\n",
      "Title: LlamaIndex Update — 08/01/2023\n",
      "Date: Aug 1, 2023\n",
      "URL: https://www.llamaindex.ai/blog/llamaindex-update-08-01-2023-185514d9b897\n",
      "---\n",
      "Title: Data Agents + Zapier NLA\n",
      "Date: Jul 25, 2023\n",
      "URL: https://www.llamaindex.ai/blog/data-agents-zapier-nla-67146395ce1\n",
      "---\n",
      "Title: Introducing LlamaIndex.TS\n",
      "Date: Jul 24, 2023\n",
      "URL: https://www.llamaindex.ai/blog/introducing-llamaindex-ts-89f41a1f24ab\n",
      "---\n",
      "Title: Building Better Tools for LLM Agents\n",
      "Date: Jul 17, 2023\n",
      "URL: https://www.llamaindex.ai/blog/building-better-tools-for-llm-agents-f8c5a6714f11\n",
      "---\n",
      "Title: Data Agents\n",
      "Date: Jul 12, 2023\n",
      "URL: https://www.llamaindex.ai/blog/data-agents-eed797d7972f\n",
      "---\n",
      "Title: LlamaIndex Update — 07/11/2023\n",
      "Date: Jul 10, 2023\n",
      "URL: https://www.llamaindex.ai/blog/llamaindex-update-07-10-2023-4ceebdab96cb\n",
      "---\n",
      "Title: LlamaIndex 0.7.0: Better Enabling Bottoms-Up LLM Application Development\n",
      "Date: Jul 4, 2023\n",
      "URL: https://www.llamaindex.ai/blog/llamaindex-0-7-0-better-enabling-bottoms-up-llm-application-development-959db8f75024\n",
      "---\n",
      "Title: Special Feature: Berkeley Hackathon Projects (LlamaIndex Prize Winners)\n",
      "Date: Jun 30, 2023\n",
      "URL: https://www.llamaindex.ai/blog/special-feature-berkeley-hackathon-projects-llamaindex-prize-winners-c135681bb6f0\n",
      "---\n",
      "Title: Enriching LlamaIndex Models with GraphQL and Graph Databases\n",
      "Date: Jun 30, 2023\n",
      "URL: https://www.llamaindex.ai/blog/enriching-llamaindex-models-from-graphql-and-graph-databases-bcaecec262d7\n",
      "---\n",
      "Title: Build and Scale a Powerful Query Engine with LlamaIndex and Ray\n",
      "Date: Jun 27, 2023\n",
      "URL: https://www.llamaindex.ai/blog/build-and-scale-a-powerful-query-engine-with-llamaindex-and-ray-bfb456404bc4\n",
      "---\n",
      "Title: LlamaIndex Update — 06/26/2023\n",
      "Date: Jun 26, 2023\n",
      "URL: https://www.llamaindex.ai/blog/llamaindex-update-6-26-2023-ed30a9d45f84\n",
      "---\n",
      "Title: Build and Evaluate LLM Apps with LlamaIndex and TruLens\n",
      "Date: Jun 23, 2023\n",
      "URL: https://www.llamaindex.ai/blog/build-and-evaluate-llm-apps-with-llamaindex-and-trulens-6749e030d83c\n",
      "---\n",
      "Title: Llama Index & Prem AI Join Forces\n",
      "Date: Jun 23, 2023\n",
      "URL: https://www.llamaindex.ai/blog/llama-index-prem-ai-join-forces-51702fecedec\n",
      "---\n",
      "Title: LlamaIndex and Weaviate\n",
      "Date: Jun 22, 2023\n",
      "URL: https://www.llamaindex.ai/blog/llamaindex-and-weaviate-ba3ff1cbf5f4\n",
      "---\n",
      "Title: LlamaIndex and Transformers Agents\n",
      "Date: Jun 8, 2023\n",
      "URL: https://www.llamaindex.ai/blog/llamaindex-and-transformers-agents-67042ee1d8d6\n",
      "---\n",
      "Title: Building the data framework for LLMs\n",
      "Date: Jun 6, 2023\n",
      "URL: https://www.llamaindex.ai/blog/building-the-data-framework-for-llms-bca068e89e0e\n",
      "---\n",
      "Title: Vellum <> LlamaIndex Integration\n",
      "Date: Jun 5, 2023\n",
      "URL: https://www.llamaindex.ai/blog/vellum-llamaindex-integration-58b476a1e33f\n",
      "---\n",
      "Title: Combining Text-to-SQL with Semantic Search for Retrieval Augmented Generation\n",
      "Date: May 28, 2023\n",
      "URL: https://www.llamaindex.ai/blog/combining-text-to-sql-with-semantic-search-for-retrieval-augmented-generation-c60af30ec3b\n",
      "---\n",
      "Title: Dumber LLM Agents Need More Constraints and Better Tools\n",
      "Date: May 23, 2023\n",
      "URL: https://www.llamaindex.ai/blog/dumber-llm-agents-need-more-constraints-and-better-tools-17a524c59e12\n",
      "---\n",
      "Title: Build a ChatGPT with your Private Data using LlamaIndex and MongoDB\n",
      "Date: May 18, 2023\n",
      "URL: https://www.llamaindex.ai/blog/build-a-chatgpt-with-your-private-data-using-llamaindex-and-mongodb-b09850eb154c\n",
      "---\n",
      "Title: Using LLM’s for Retrieval and Reranking\n",
      "Date: May 17, 2023\n",
      "URL: https://www.llamaindex.ai/blog/using-llms-for-retrieval-and-reranking-23cf2d3a14b6\n",
      "---\n",
      "Title: Testing Anthropic Claude’s 100k-token window on SEC 10-K Filings\n",
      "Date: May 12, 2023\n",
      "URL: https://www.llamaindex.ai/blog/testing-anthropic-claudes-100k-token-window-on-sec-10-k-filings-473310c20dba\n",
      "---\n",
      "Title: LlamaIndex on TWIML AI: A Distilled Summary (using LlamaIndex)\n",
      "Date: May 10, 2023\n",
      "URL: https://www.llamaindex.ai/blog/llamaindex-on-twiml-ai-a-distilled-summary-using-llamaindex-de2a88551595\n",
      "---\n",
      "Title: A New Document Summary Index for LLM-powered QA Systems\n",
      "Date: May 8, 2023\n",
      "URL: https://www.llamaindex.ai/blog/a-new-document-summary-index-for-llm-powered-qa-systems-9a32ece2f9ec\n",
      "---\n",
      "Title: Building and Evaluating a QA System with LlamaIndex\n",
      "Date: May 7, 2023\n",
      "URL: https://www.llamaindex.ai/blog/building-and-evaluating-a-qa-system-with-llamaindex-3f02e9d87ce1\n",
      "---\n"
     ]
    }
   ],
   "source": [
    "blogs_data = get_blog_urls()"
   ]
  },
  {
   "cell_type": "code",
   "execution_count": 10,
   "id": "e405ac09-809d-4737-b73a-75b89eb75775",
   "metadata": {},
   "outputs": [
    {
     "data": {
      "text/plain": [
       "{'title': 'Introducing LlamaExtract Beta: structured data extraction in just a few clicks',\n",
       " 'date': 'Jul 25, 2024',\n",
       " 'url': 'https://www.llamaindex.ai/blog/introducing-llamaextract-beta-structured-data-extraction-in-just-a-few-clicks'}"
      ]
     },
     "execution_count": 10,
     "metadata": {},
     "output_type": "execute_result"
    }
   ],
   "source": [
    "blogs_data[0]"
   ]
  },
  {
   "cell_type": "code",
   "execution_count": 7,
   "id": "19055589-036d-4020-a47b-64b34e6e35b0",
   "metadata": {},
   "outputs": [],
   "source": [
    "# raw blog \n",
    "response = requests.get(blogs_data[0][\"url\"])\n",
    "raw_blog = BeautifulSoup(response.text, 'html.parser')\n",
    "with open(f'raw_page.html', 'w', encoding='utf-8') as f:\n",
    "    f.write(raw_blog.prettify())"
   ]
  },
  {
   "cell_type": "code",
   "execution_count": 12,
   "id": "4a6c7757-4161-4d54-999a-61b0d04e9f02",
   "metadata": {},
   "outputs": [],
   "source": [
    "# clean blog\n",
    "cleaned_html = extract_page(blogs_data[0][\"url\"])\n",
    "with open(f'sample_clean.html', 'w', encoding='utf-8') as f:\n",
    "    f.write(cleaned_html)"
   ]
  },
  {
   "cell_type": "code",
   "execution_count": 38,
   "id": "ba49869a-9ad0-421a-bdcb-cb8f1a129952",
   "metadata": {},
   "outputs": [
    {
     "name": "stderr",
     "output_type": "stream",
     "text": [
      "Crawling data: 100%|██████████| 159/159 [01:03<00:00,  2.51it/s]\n"
     ]
    }
   ],
   "source": [
    "# # extract all blog page and save to folder data\n",
    "# save_folder = \"./data\"\n",
    "# for blog_data in tqdm(blogs_data,desc=\"Crawling data\"):\n",
    "#     cleaned_html = extract_page(blog_data[\"url\"])\n",
    "#     save_name =  blog_data[\"url\"].split(\"/\")[-1]\n",
    "#     with open(f'{save_folder}/{save_name}.html', 'w', encoding='utf-8') as f:\n",
    "#         f.write(cleaned_html)"
   ]
  },
  {
   "cell_type": "markdown",
   "id": "df8d0faa-0c08-40ca-b795-59d584edcdc1",
   "metadata": {},
   "source": [
    "## Loading and Injestion"
   ]
  },
  {
   "cell_type": "markdown",
   "id": "f93fb95c-56f2-471a-8970-8da382572965",
   "metadata": {},
   "source": [
    "### Load documents"
   ]
  },
  {
   "cell_type": "code",
   "execution_count": 1,
   "id": "601295ac-1023-460f-8a55-fad27c3f5cc5",
   "metadata": {},
   "outputs": [],
   "source": [
    "from llama_index.core import SimpleDirectoryReader\n",
    "from llama_index.core.node_parser import SentenceSplitter\n",
    "from llama_index.core import Settings"
   ]
  },
  {
   "cell_type": "code",
   "execution_count": 2,
   "id": "855a3fa1-1d14-4e2f-9935-2ed5b63a5182",
   "metadata": {},
   "outputs": [],
   "source": [
    "documents = SimpleDirectoryReader(\n",
    "    input_dir=\"./data\",\n",
    ").load_data()"
   ]
  },
  {
   "cell_type": "code",
   "execution_count": 3,
   "id": "ef332e3c-6e8c-4f92-b6c8-3e6b145a2a37",
   "metadata": {},
   "outputs": [
    {
     "data": {
      "text/plain": [
       "(24684, 159)"
      ]
     },
     "execution_count": 3,
     "metadata": {},
     "output_type": "execute_result"
    }
   ],
   "source": [
    "len(documents[0].text), len(documents)"
   ]
  },
  {
   "cell_type": "code",
   "execution_count": 12,
   "id": "a0738c95-3527-4952-99b1-649016aa3a53",
   "metadata": {},
   "outputs": [
    {
     "data": {
      "text/plain": [
       "{'file_path': '/workspace/projects/LlamaRAG/data/a-cheat-sheet-and-some-recipes-for-building-advanced-rag-803a9d94c41b.html',\n",
       " 'file_name': 'a-cheat-sheet-and-some-recipes-for-building-advanced-rag-803a9d94c41b.html',\n",
       " 'file_type': 'text/html',\n",
       " 'file_size': 24708,\n",
       " 'creation_date': '2024-07-21',\n",
       " 'last_modified_date': '2024-07-21'}"
      ]
     },
     "execution_count": 12,
     "metadata": {},
     "output_type": "execute_result"
    }
   ],
   "source": [
    "documents[0].metadata"
   ]
  },
  {
   "cell_type": "markdown",
   "id": "9b6886fc-e311-4f3c-9e1b-ef9bc93a4f2b",
   "metadata": {},
   "source": [
    "### Split documents"
   ]
  },
  {
   "cell_type": "code",
   "execution_count": 4,
   "id": "0395fabd-8de9-45a9-8e9d-84dd2432537f",
   "metadata": {},
   "outputs": [],
   "source": [
    "splitter = SentenceSplitter(\n",
    "    chunk_size=2048,\n",
    "    chunk_overlap=200\n",
    ")"
   ]
  },
  {
   "cell_type": "code",
   "execution_count": 5,
   "id": "87914dc6-e2b0-48d1-bf8a-5a0836a0b712",
   "metadata": {},
   "outputs": [
    {
     "name": "stdout",
     "output_type": "stream",
     "text": [
      "Created 427 nodes.\n"
     ]
    }
   ],
   "source": [
    "nodes = splitter.get_nodes_from_documents(documents)\n",
    "print(f\"Created {len(nodes)} nodes.\")"
   ]
  },
  {
   "cell_type": "code",
   "execution_count": 12,
   "id": "e0e33421-7748-4320-929d-fd69aab4d0b2",
   "metadata": {
    "scrolled": true
   },
   "outputs": [
    {
     "data": {
      "text/plain": [
       "TextNode(id_='9c7d28fb-4c73-4b47-afb7-e1626ddc3d06', embedding=None, metadata={'file_path': '/workspace/projects/LlamindexHelper/data/a-cheat-sheet-and-some-recipes-for-building-advanced-rag-803a9d94c41b.html', 'file_name': 'a-cheat-sheet-and-some-recipes-for-building-advanced-rag-803a9d94c41b.html', 'file_type': 'text/html', 'file_size': 24708, 'creation_date': '2024-07-21', 'last_modified_date': '2024-07-21'}, excluded_embed_metadata_keys=['file_name', 'file_type', 'file_size', 'creation_date', 'last_modified_date', 'last_accessed_date'], excluded_llm_metadata_keys=['file_name', 'file_type', 'file_size', 'creation_date', 'last_modified_date', 'last_accessed_date'], relationships={<NodeRelationship.SOURCE: '1'>: RelatedNodeInfo(node_id='86c99a39-954b-4648-afc3-d83765458f82', node_type=<ObjectType.DOCUMENT: '4'>, metadata={'file_path': '/workspace/projects/LlamindexHelper/data/a-cheat-sheet-and-some-recipes-for-building-advanced-rag-803a9d94c41b.html', 'file_name': 'a-cheat-sheet-and-some-recipes-for-building-advanced-rag-803a9d94c41b.html', 'file_type': 'text/html', 'file_size': 24708, 'creation_date': '2024-07-21', 'last_modified_date': '2024-07-21'}, hash='e622a0a8d1532d5ca3d35838e53ef4c193b6d4170eba7de5c72e033171779acc'), <NodeRelationship.NEXT: '3'>: RelatedNodeInfo(node_id='07090e0f-75bd-428f-9915-f2103f5c19a5', node_type=<ObjectType.TEXT: '1'>, metadata={}, hash='54693d2a96f688d2a7b8e26b657b67063e091de2db106ca8110aa730c61d7999')}, text='<div class=\"BlogPost_htmlPost__Z5oDL\">\\n <p>\\n  It’s the start of a new year and perhaps you’re looking to break into the RAG scene by building your very first RAG system. Or, maybe you’ve built Basic RAG systems and are now looking to enhance them to something more advanced in order to better handle your user’s queries and data structures.\\n </p>\\n <p>\\n  In either case, knowing where or how to begin may be a challenge in and of itself! If that’s true, then hopefully this blog post points you in the right direction for your next steps, and moreover, provides for you a mental model for you to anchor your decisions when building advanced RAG systems.\\n </p>\\n <p>\\n  The RAG cheat sheet shared above was greatly inspired by a recent RAG survey paper (\\n  <a href=\"https://arxiv.org/pdf/2312.10997.pdf\" rel=\"noopener ugc nofollow\" target=\"_blank\">\\n   “Retrieval-Augmented Generation for Large Language Models: A Survey” Gao, Yunfan, et al. 2023\\n  </a>\\n  ).\\n </p>\\n <h1>\\n  Basic RAG\\n </h1>\\n <p>\\n  Mainstream RAG as defined today involves retrieving documents from an external knowledge database and passing these along with the user’s query to an LLM for response generation. In other words, RAG involves a Retrieval component, an External Knowledge database and a Generation component.\\n </p>\\n <p>\\n  <strong>\\n   LlamaIndex Basic RAG Recipe:\\n  </strong>\\n </p>\\n <pre><span class=\"qd os gt qa b bf qe qf l qg qh\" id=\"503a\"><span class=\"hljs-keyword\">from</span> llama_index <span class=\"hljs-keyword\">import</span> SimpleDirectoryReader, VectorStoreIndex\\n\\n<span class=\"hljs-comment\"># load data</span>\\ndocuments = SimpleDirectoryReader(input_dir=<span class=\"hljs-string\">\"...\"</span>).load_data()\\n\\n<span class=\"hljs-comment\"># build VectorStoreIndex that takes care of chunking documents</span>\\n<span class=\"hljs-comment\"># and encoding chunks to embeddings for future retrieval</span>\\nindex = VectorStoreIndex.from_documents(documents=documents)\\n\\n<span class=\"hljs-comment\"># The QueryEngine class is equipped with the generator</span>\\n<span class=\"hljs-comment\"># and facilitates the retrieval and generation steps</span>\\nquery_engine = index.as_query_engine()\\n\\n<span class=\"hljs-comment\"># Use your Default RAG</span>\\nresponse = query_engine.query(<span class=\"hljs-string\">\"A user\\'s query\"</span>)</span></pre>\\n <h1>\\n  Success Requirements for RAG\\n </h1>\\n <p>\\n  In order for a RAG system to be deemed as a success (in the sense of providing useful and relevant answers to user questions), there are really only two high level requirements:\\n </p>\\n <ol>\\n  <li>\\n   Retrieval must be able to find the most relevant documents to a user query.\\n  </li>\\n  <li>\\n   Generation must be able to make good use of the retrieved documents to sufficiently answer the user query.\\n  </li>\\n </ol>\\n <h1>\\n  Advanced RAG\\n </h1>\\n <p>\\n  With the success requirements defined, we can then say that building advanced RAG is really about the application of more sophisticated techniques and strategies (to the Retrieval or Generation components) to ensure that they are ultimately met. Furthermore, we can categorize a sophisticated technique as either one that addresses one of the two high-level success requirements independent (more or less) of the other, or one that addresses both of these requirements simultaneously.\\n </p>\\n <h1>\\n  Advanced techniques for Retrieval must be able to find the most relevant documents to a user query\\n </h1>\\n <p>\\n  Below we briefly describe a couple of the more sophisticated techniques to help achieve the first success requirement.\\n </p>\\n <ol>\\n  <li>\\n   <strong>\\n    Chunk-Size Optimization:\\n   </strong>\\n   Since LLMs are restricted by context length, it is necessary to chunk documents when building the External Knowledge database. Chunks that are too big or too small can pose problems for the Generation component leading to in accurate responses.\\n  </li>\\n </ol>\\n <p>\\n  <strong>\\n   LlamaIndex Chunk Size Optimization Recipe\\n  </strong>\\n  (\\n  <a href=\"https://github.com/run-llama/llama_index/blob/main/docs/examples/param_optimizer/param_optimizer.ipynb\" rel=\"noopener ugc nofollow\" target=\"_blank\">\\n   notebook guide\\n  </a>\\n  )\\n  <strong>\\n   :\\n  </strong>\\n </p>\\n <pre><span class=\"qd os gt qa b bf qe qf l qg qh\" id=\"0631\"><span class=\"hljs-keyword\">from</span> llama_index <span class=\"hljs-keyword\">import</span> ServiceContext\\n<span class=\"hljs-keyword\">from</span> llama_index.param_tuner.base <span class=\"hljs-keyword\">import</span> ParamTuner, RunResult\\n<span class=\"hljs-keyword\">from</span> llama_index.evaluation <span class=\"hljs-keyword\">import</span> SemanticSimilarityEvaluator, BatchEvalRunner\\n\\n<span class=\"hljs-comment\">### Recipe</span>\\n<span class=\"hljs-comment\">### Perform hyperparameter tuning as in traditional ML via grid-search</span>\\n<span class=\"hljs-comment\">### 1. Define an objective function that ranks different parameter combos</span>\\n<span class=\"hljs-comment\">### 2. Build ParamTuner object</span>\\n<span class=\"hljs-comment\">### 3. Execute hyperparameter tuning with ParamTuner.tune()</span>\\n\\n<span class=\"hljs-comment\"># 1. Define objective function</span>\\n<span class=\"hljs-keyword\">def</span> <span class=\"hljs-title function_\">objective_function</span>(<span class=\"hljs-params\">params_dict</span>):\\n    chunk_size = params_dict[<span class=\"hljs-string\">\"chunk_size\"</span>]\\n    docs = params_dict[<span class=\"hljs-string\">\"docs\"</span>]\\n    top_k = params_dict[<span class=\"hljs-string\">\"top_k\"</span>]\\n    eval_qs = params_dict[<span class=\"hljs-string\">\"eval_qs\"</span>]\\n    ref_response_strs = params_dict[<span class=\"hljs-string\">\"ref_response_strs\"</span>]\\n\\n    <span class=\"hljs-comment\"># build RAG pipeline</span>\\n    index = _build_index(chunk_size, docs)  <span class=\"hljs-comment\"># helper function not shown here</span>\\n    query_engine = index.as_query_engine(similarity_top_k=top_k)\\n  \\n    <span class=\"hljs-comment\"># perform inference with RAG pipeline on a provided questions `eval_qs`</span>\\n    pred_response_objs = get_responses(\\n        eval_qs, query_engine, show_progress=<span class=\"hljs-literal\">True</span>\\n    )\\n\\n    <span class=\"hljs-comment\"># perform evaluations of predictions by comparing them to reference</span>\\n    <span class=\"hljs-comment\"># responses `ref_response_strs`</span>\\n    evaluator = SemanticSimilarityEvaluator(...)\\n    eval_batch_runner = BatchEvalRunner(\\n        {<span class=\"hljs-string\">\"semantic_similarity\"</span>: evaluator}, workers=<span class=\"hljs-number\">2</span>, show_progress=<span class=\"hljs-literal\">True</span>\\n    )\\n    eval_results = eval_batch_runner.evaluate_responses(\\n        eval_qs, responses=pred_response_objs, reference=ref_response_strs\\n    )\\n\\n    <span class=\"hljs-comment\"># get semantic similarity metric</span>\\n    mean_score = np.array(\\n        [r.score <span class=\"hljs-keyword\">for</span> r <span class=\"hljs-keyword\">in</span> eval_results[<span class=\"hljs-string\">\"semantic_similarity\"</span>]]\\n    ).mean()\\n\\n    <span class=\"hljs-keyword\">return</span> RunResult(score=mean_score, params=params_dict)\\n\\n<span class=\"hljs-comment\"># 2.', mimetype='text/plain', start_char_idx=0, end_char_idx=7086, text_template='{metadata_str}\\n\\n{content}', metadata_template='{key}: {value}', metadata_seperator='\\n')"
      ]
     },
     "execution_count": 12,
     "metadata": {},
     "output_type": "execute_result"
    }
   ],
   "source": [
    "nodes[0]"
   ]
  },
  {
   "cell_type": "markdown",
   "id": "7825543b-34a1-408f-9882-1be8273c896a",
   "metadata": {},
   "source": [
    "## Indexing and Embedding"
   ]
  },
  {
   "cell_type": "code",
   "execution_count": 5,
   "id": "a7fc44da-6bad-4b6f-abbb-a65345430d86",
   "metadata": {},
   "outputs": [],
   "source": [
    "from llama_index.llms.huggingface import HuggingFaceLLM\n",
    "from llama_index.embeddings.huggingface import HuggingFaceEmbedding\n",
    "from llama_index.vector_stores.chroma import ChromaVectorStore\n",
    "from llama_index.core import StorageContext, Settings\n",
    "from llama_index.core import load_index_from_storage\n",
    "from llama_index.core import VectorStoreIndex\n",
    "from llama_index.core.indices import SummaryIndex\n",
    "from llama_index.core import DocumentSummaryIndex\n",
    "from llama_index.core.prompts import PromptTemplate\n",
    "import chromadb\n",
    "import torch\n",
    "import model_utils"
   ]
  },
  {
   "cell_type": "code",
   "execution_count": 6,
   "id": "54b8a6c3-87f0-47e5-8325-378e231f38c9",
   "metadata": {},
   "outputs": [],
   "source": [
    "import nest_asyncio\n",
    "nest_asyncio.apply()"
   ]
  },
  {
   "cell_type": "code",
   "execution_count": 7,
   "id": "2ddd85ac-c6f8-495f-b296-0b31b7d1f64e",
   "metadata": {},
   "outputs": [
    {
     "name": "stdout",
     "output_type": "stream",
     "text": [
      "Loading tokenizer and model with quantization config from: models/Llama-2-7b-chat-hf\n"
     ]
    },
    {
     "data": {
      "application/vnd.jupyter.widget-view+json": {
       "model_id": "4011437d29cb455f9f76d7bcf3d0e8cc",
       "version_major": 2,
       "version_minor": 0
      },
      "text/plain": [
       "Loading checkpoint shards:   0%|          | 0/2 [00:00<?, ?it/s]"
      ]
     },
     "metadata": {},
     "output_type": "display_data"
    }
   ],
   "source": [
    "model, tokenizer = model_utils.load_quantized_model(\n",
    "    model_name_or_path=\"models/Llama-2-7b-chat-hf\",\n",
    "    device=\"cuda\"\n",
    ")"
   ]
  },
  {
   "cell_type": "code",
   "execution_count": 8,
   "id": "0d03316b-2def-4137-af00-282781a70f91",
   "metadata": {},
   "outputs": [],
   "source": [
    "# loads BAAI/bge-small-en-v1.5\n",
    "embed_model = HuggingFaceEmbedding(model_name=\"models/bge-small-en-v1.5\", device=\"cuda\")"
   ]
  },
  {
   "cell_type": "code",
   "execution_count": 9,
   "id": "e3cdc895-d167-4947-8697-e7911643bc79",
   "metadata": {},
   "outputs": [],
   "source": [
    "# config llm and embed_model to llamaindex\n",
    "llm_hf = HuggingFaceLLM(\n",
    "    context_window=4096,\n",
    "    max_new_tokens=512,\n",
    "    query_wrapper_prompt=PromptTemplate(\"<s> [INST] {query_str} [/INST] \"),\n",
    "    generate_kwargs={\n",
    "        \"temperature\": 0.7,\n",
    "        \"do_sample\": True\n",
    "    },\n",
    "    device_map=\"cuda\",\n",
    "    model_name=\"models/Llama-2-7b-chat-hf\",\n",
    "    model=model,\n",
    "    tokenizer=tokenizer\n",
    ")"
   ]
  },
  {
   "cell_type": "code",
   "execution_count": 10,
   "id": "450ad4cb-2a72-4bc5-8204-1b25ae0cc76f",
   "metadata": {},
   "outputs": [],
   "source": [
    "Settings.embed_model = embed_model\n",
    "Settings.llm = llm_hf"
   ]
  },
  {
   "cell_type": "markdown",
   "id": "afdc0b8d-26ee-4262-92bc-da0d337258b7",
   "metadata": {},
   "source": [
    "### Init chromadb "
   ]
  },
  {
   "cell_type": "code",
   "execution_count": 11,
   "id": "cd102e94-0885-4f51-9f13-e54578b29fde",
   "metadata": {},
   "outputs": [
    {
     "data": {
      "text/plain": [
       "(Collection(id=3186f0ec-26e5-46fa-b687-281a3a26066f, name=llama_index_blogs),\n",
       " 427)"
      ]
     },
     "execution_count": 11,
     "metadata": {},
     "output_type": "execute_result"
    }
   ],
   "source": [
    "# Creates a persistent instance of Chroma that saves to disk\n",
    "chroma_client = chromadb.PersistentClient(path=\"./chroma_db\")\n",
    "# Get or create a collection with the given name and metadata.\n",
    "vector_collection = chroma_client.get_or_create_collection(\"llama_index_blogs\")\n",
    "vector_collection, vector_collection.count()"
   ]
  },
  {
   "cell_type": "markdown",
   "id": "51f2f600-f9ba-4a7f-9f9a-a507b4211873",
   "metadata": {},
   "source": [
    "### Create vetor store"
   ]
  },
  {
   "cell_type": "code",
   "execution_count": 12,
   "id": "1f2ba770-0961-445e-aa50-1ed6f04d6a99",
   "metadata": {},
   "outputs": [],
   "source": [
    "# Init chromadb storage\n",
    "vector_store = ChromaVectorStore(chroma_collection=vector_collection)\n",
    "vector_storage_context = StorageContext.from_defaults(vector_store=vector_store)"
   ]
  },
  {
   "cell_type": "code",
   "execution_count": 14,
   "id": "246943c5-ec79-4fbb-8ee7-a096660880bc",
   "metadata": {
    "scrolled": true
   },
   "outputs": [],
   "source": [
    "# # First run: Create vector index from documents.\n",
    "# vector_index = VectorStoreIndex(\n",
    "#     nodes, storage_context=storage_context, show_progress=True\n",
    "# )"
   ]
  },
  {
   "cell_type": "code",
   "execution_count": 13,
   "id": "e6032ce6-a3d7-4d2e-914c-7f685ab2564b",
   "metadata": {
    "scrolled": true
   },
   "outputs": [],
   "source": [
    "# load your index from stored vectors\n",
    "vector_index = VectorStoreIndex.from_vector_store(\n",
    "    vector_store=vector_store, storage_context=vector_storage_context\n",
    ")"
   ]
  },
  {
   "cell_type": "markdown",
   "id": "f7ebf49c-fdd9-4aa9-b87b-0fd2c17a9383",
   "metadata": {},
   "source": [
    "## Querying"
   ]
  },
  {
   "cell_type": "markdown",
   "id": "7d8d46be-de18-4f9c-949a-5940816fcb9d",
   "metadata": {},
   "source": [
    "#### Logging setup"
   ]
  },
  {
   "cell_type": "code",
   "execution_count": 14,
   "id": "3a6062d9-5c07-4348-9d78-b6de71890257",
   "metadata": {},
   "outputs": [],
   "source": [
    "from llama_index.core.response.notebook_utils import display_response\n",
    "import logging\n",
    "import sys\n",
    "\n",
    "logging.basicConfig(stream=sys.stdout, level=logging.INFO)\n",
    "logging.getLogger().addHandler(logging.StreamHandler(stream=sys.stdout))"
   ]
  },
  {
   "cell_type": "markdown",
   "id": "3132c1d8-01a0-4614-9e7d-1451bd467903",
   "metadata": {},
   "source": [
    "#### Questions"
   ]
  },
  {
   "cell_type": "code",
   "execution_count": 15,
   "id": "b2c356c6-37b1-4626-a2ac-6d6db04eaa5a",
   "metadata": {},
   "outputs": [],
   "source": [
    "question1 = \"What are key features of llama-agents?\"\n",
    "question2 = '''\n",
    "What are the two critical areas of RAG system performance that are assessed in the \"Evaluating RAG with LlamaIndex\" section of the OpenAI Cookbook?\n",
    "'''\n",
    "question3 = '''\n",
    "What are the two main metrics used to evaluate the performance of the different rerankers in the RAG system?\n",
    "'''"
   ]
  },
  {
   "cell_type": "code",
   "execution_count": 31,
   "id": "1e924384-b9f4-4b39-9bb0-cf7ad75d8c36",
   "metadata": {},
   "outputs": [],
   "source": [
    "def print_ref_docs(resp_metadata):\n",
    "    print(\"References:\")\n",
    "    base_url = \"https://www.llamaindex.ai/\"\n",
    "    for idx, (_, doc_metatada) in enumerate(resp_metadata.items()):\n",
    "        ref_url = base_url + doc_metatada[\"file_name\"]\n",
    "        print(f\"{idx+1}.\", ref_url)"
   ]
  },
  {
   "cell_type": "markdown",
   "id": "6f1da464-bd8b-4f35-a79b-0c19576b5518",
   "metadata": {},
   "source": [
    "#### Compact query"
   ]
  },
  {
   "cell_type": "code",
   "execution_count": 39,
   "id": "510e0f90-8d34-40e2-b1ff-6b0c3f923e4d",
   "metadata": {},
   "outputs": [],
   "source": [
    "# compact query\n",
    "query_engine = vector_index.as_query_engine(response_mode=\"compact\")"
   ]
  },
  {
   "cell_type": "code",
   "execution_count": 40,
   "id": "272336a0-1f07-47db-bbe4-158d4731b41a",
   "metadata": {
    "scrolled": true
   },
   "outputs": [
    {
     "name": "stdout",
     "output_type": "stream",
     "text": [
      "Question: What are key features of llama-agents?\n",
      "Answer:\n"
     ]
    },
    {
     "data": {
      "application/vnd.jupyter.widget-view+json": {
       "model_id": "8b4954f4bdb245e78bd937669e4d640e",
       "version_major": 2,
       "version_minor": 0
      },
      "text/plain": [
       "Batches:   0%|          | 0/1 [00:00<?, ?it/s]"
      ]
     },
     "metadata": {},
     "output_type": "display_data"
    },
    {
     "data": {
      "text/markdown": [
       "**`Final Response:`** Based on the provided context information, the key features of llama-agents are:\n",
       "\n",
       "1. Distributed Service Oriented Architecture: llama-agents allow each agent to be its own independently running microservice, orchestrated by a fully customizable LLM-powered control plane that routes and distributes tasks.\n",
       "2. Standardized API Interfaces: llama-agents provide a standardized API interface for communication between agents, making it easy to define and implement complex distributed systems.\n",
       "3. Explicit Orchestration Flows: Developers have the flexibility to directly define the sequence of interactions between agents or leave it up to an \"agentic orchestrator\" that decides which agents are relevant to the task.\n",
       "4. Ease of Deployment: llama-agents provide a simple and easy-to-use interface for deploying and scaling agents and the control plane independently.\n",
       "5. Scalability and Resource Management: llama-agents provide built-in observability tools to monitor the quality and performance of the system and each individual agent service.\n",
       "6. Build Your Own Multi-Agent Systems: llama-agents provide a simple example of how to set up a basic multi-agent system using LLMs, including how to create tools, define agents, and launch and control the system."
      ],
      "text/plain": [
       "<IPython.core.display.Markdown object>"
      ]
     },
     "metadata": {},
     "output_type": "display_data"
    },
    {
     "name": "stdout",
     "output_type": "stream",
     "text": [
      "References:\n",
      "1. https://www.llamaindex.ai/introducing-llama-agents-a-powerful-framework-for-building-production-multi-agent-ai-systems.html\n",
      "2. https://www.llamaindex.ai/how-to-build-llm-agents-in-typescript-with-llamaindex-ts-a88ed364a7aa.html\n"
     ]
    }
   ],
   "source": [
    "print(\"Question:\", question1)\n",
    "response1 = query_engine.query(question1)\n",
    "display_response(response1)\n",
    "print_ref_docs(response1.metadata)"
   ]
  },
  {
   "cell_type": "code",
   "execution_count": 41,
   "id": "21541a8c-9780-49db-b0be-24aa35863d66",
   "metadata": {},
   "outputs": [
    {
     "name": "stdout",
     "output_type": "stream",
     "text": [
      "Question: \n",
      "What are the two critical areas of RAG system performance that are assessed in the \"Evaluating RAG with LlamaIndex\" section of the OpenAI Cookbook?\n",
      "\n"
     ]
    },
    {
     "data": {
      "application/vnd.jupyter.widget-view+json": {
       "model_id": "a7c80d2cb6be4de5bdf8b0cdd101eb0f",
       "version_major": 2,
       "version_minor": 0
      },
      "text/plain": [
       "Batches:   0%|          | 0/1 [00:00<?, ?it/s]"
      ]
     },
     "metadata": {},
     "output_type": "display_data"
    },
    {
     "data": {
      "text/markdown": [
       "**`Final Response:`** Based on the context information provided, the two critical areas of RAG system performance that are assessed in the \"Evaluating RAG with LlamaIndex\" section of the OpenAI Cookbook are:\n",
       "\n",
       "1. Retrieval System: This area assesses the quality of the retrieved context, which is an essential component of the RAG system. It evaluates how well the system can retrieve relevant and accurate context information to augment the response generation process.\n",
       "2. Response Generation: This area assesses the quality of the generated responses, which is the final output of the RAG system. It evaluates how well the system can generate coherent and accurate responses to the input prompt, taking into account the retrieved context."
      ],
      "text/plain": [
       "<IPython.core.display.Markdown object>"
      ]
     },
     "metadata": {},
     "output_type": "display_data"
    },
    {
     "name": "stdout",
     "output_type": "stream",
     "text": [
      "References:\n",
      "1. https://www.llamaindex.ai/openai-cookbook-evaluating-rag-systems-fe393c61fb93.html\n",
      "2. https://www.llamaindex.ai/supercharge-your-llamaindex-rag-pipeline-with-uptrain-evaluations.html\n"
     ]
    }
   ],
   "source": [
    "print(\"Question:\", question2)\n",
    "response2 = query_engine.query(question2)\n",
    "display_response(response2)\n",
    "print_ref_docs(response2.metadata)"
   ]
  },
  {
   "cell_type": "code",
   "execution_count": 42,
   "id": "6fd35a2a-eb00-49c1-bd28-6d9c4990bca9",
   "metadata": {},
   "outputs": [
    {
     "name": "stdout",
     "output_type": "stream",
     "text": [
      "Question: \n",
      "What are the two main metrics used to evaluate the performance of the different rerankers in the RAG system?\n",
      "\n"
     ]
    },
    {
     "data": {
      "application/vnd.jupyter.widget-view+json": {
       "model_id": "5fe401d001924913a74670f3dd511e00",
       "version_major": 2,
       "version_minor": 0
      },
      "text/plain": [
       "Batches:   0%|          | 0/1 [00:00<?, ?it/s]"
      ]
     },
     "metadata": {},
     "output_type": "display_data"
    },
    {
     "data": {
      "text/markdown": [
       "**`Final Response:`** The two main metrics used to evaluate the performance of the different rerankers in the RAG system are:\n",
       "\n",
       "1. Hit Rate: It measures the fraction of queries where the correct answer is found within the top-k retrieved documents.\n",
       "2. Mean Reciprocal Rank (MRR): It evaluates the system’s accuracy by looking at the rank of the highest-placed relevant document.\n",
       "\n",
       "In the context of the RAG system, these metrics are used to assess the performance of the embedding model and the reranker in retrieving relevant information from the corpus."
      ],
      "text/plain": [
       "<IPython.core.display.Markdown object>"
      ]
     },
     "metadata": {},
     "output_type": "display_data"
    },
    {
     "name": "stdout",
     "output_type": "stream",
     "text": [
      "References:\n",
      "1. https://www.llamaindex.ai/boosting-rag-picking-the-best-embedding-reranker-models-42d079022e83.html\n",
      "2. https://www.llamaindex.ai/openai-cookbook-evaluating-rag-systems-fe393c61fb93.html\n"
     ]
    }
   ],
   "source": [
    "print(\"Question:\", question3)\n",
    "response3 = query_engine.query(question3)\n",
    "display_response(response3)\n",
    "print_ref_docs(response3.metadata)"
   ]
  }
 ],
 "metadata": {
  "kernelspec": {
   "display_name": "llm_torch230_py310",
   "language": "python",
   "name": "llm_torch230_py310"
  },
  "language_info": {
   "codemirror_mode": {
    "name": "ipython",
    "version": 3
   },
   "file_extension": ".py",
   "mimetype": "text/x-python",
   "name": "python",
   "nbconvert_exporter": "python",
   "pygments_lexer": "ipython3",
   "version": "3.10.14"
  }
 },
 "nbformat": 4,
 "nbformat_minor": 5
}
