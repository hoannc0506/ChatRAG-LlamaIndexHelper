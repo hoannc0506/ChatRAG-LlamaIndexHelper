{
 "cells": [
  {
   "cell_type": "code",
   "execution_count": 1,
   "id": "bd79c4ed-67e7-4214-8a70-8d8a37375410",
   "metadata": {},
   "outputs": [
    {
     "name": "stderr",
     "output_type": "stream",
     "text": [
      "/opt/conda/envs/llm/lib/python3.10/site-packages/tqdm/auto.py:21: TqdmWarning: IProgress not found. Please update jupyter and ipywidgets. See https://ipywidgets.readthedocs.io/en/stable/user_install.html\n",
      "  from .autonotebook import tqdm as notebook_tqdm\n"
     ]
    },
    {
     "name": "stdout",
     "output_type": "stream",
     "text": [
      "INFO:datasets:PyTorch version 2.3.0+cu118 available.\n",
      "PyTorch version 2.3.0+cu118 available.\n"
     ]
    }
   ],
   "source": [
    "# logging setup\n",
    "import logging\n",
    "import sys\n",
    "import os\n",
    "\n",
    "logging.basicConfig(stream=sys.stdout, level=logging.INFO)\n",
    "logging.getLogger().addHandler(logging.StreamHandler(stream=sys.stdout))\n",
    "\n",
    "# llama index ascyncio config\n",
    "import nest_asyncio\n",
    "nest_asyncio.apply()\n",
    "\n",
    "from llama_index.core import SimpleDirectoryReader\n",
    "from llama_index.core.node_parser import SentenceSplitter\n",
    "from llama_index.core import Settings, StorageContext, VectorStoreIndex\n",
    "from llama_index.embeddings.huggingface import HuggingFaceEmbedding\n",
    "from llama_index.vector_stores.chroma import ChromaVectorStore\n",
    "from llama_index.vector_stores.qdrant import QdrantVectorStore\n",
    "import chromadb\n",
    "import qdrant_client\n",
    "import torch\n",
    "import data_utils"
   ]
  },
  {
   "cell_type": "code",
   "execution_count": 2,
   "id": "73f6d7a2-fdcb-45f6-8e7e-882cda361784",
   "metadata": {},
   "outputs": [],
   "source": [
    "qdrant_dir=\"./qdrant_db/\"\n",
    "col_name=\"md-llama-blogs\"\n",
    "embed_model=\"models/bge-base-en-v1.5\"\n",
    "device_map=\"cuda:0\"\n",
    "docs_dir=\"data/llama-blogs-md\"\n",
    "docs_metadata=\"data/llama_blogs_metadata.json\""
   ]
  },
  {
   "cell_type": "code",
   "execution_count": 3,
   "id": "4e6207a6-4d4c-4225-ac0a-b7d7e31b99ae",
   "metadata": {},
   "outputs": [
    {
     "data": {
      "text/plain": [
       "_Settings(_llm=None, _embed_model=None, _callback_manager=None, _tokenizer=None, _node_parser=None, _prompt_helper=None, _transformations=None)"
      ]
     },
     "execution_count": 3,
     "metadata": {},
     "output_type": "execute_result"
    }
   ],
   "source": [
    "Settings"
   ]
  },
  {
   "cell_type": "code",
   "execution_count": 3,
   "id": "1f948289-c1dd-467e-a54a-8a33e73a426b",
   "metadata": {},
   "outputs": [
    {
     "name": "stdout",
     "output_type": "stream",
     "text": [
      "INFO:sentence_transformers.SentenceTransformer:Load pretrained SentenceTransformer: models/bge-base-en-v1.5\n",
      "Load pretrained SentenceTransformer: models/bge-base-en-v1.5\n",
      "INFO:sentence_transformers.SentenceTransformer:2 prompts are loaded, with the keys: ['query', 'text']\n",
      "2 prompts are loaded, with the keys: ['query', 'text']\n",
      "LLM is explicitly disabled. Using MockLLM.\n"
     ]
    }
   ],
   "source": [
    "# load embeddings\n",
    "Settings.embed_model = HuggingFaceEmbedding(model_name=embed_model, device=device_map)\n",
    "Settings.llm = None"
   ]
  },
  {
   "cell_type": "code",
   "execution_count": 4,
   "id": "88d31d5d-6ca0-42be-848a-7b1e9813764c",
   "metadata": {},
   "outputs": [],
   "source": [
    "client = qdrant_client.QdrantClient(\n",
    "    path=qdrant_dir\n",
    ")"
   ]
  },
  {
   "cell_type": "code",
   "execution_count": 5,
   "id": "f6dd6c9d-4d09-4986-b6cc-aa6e3d4e50ea",
   "metadata": {},
   "outputs": [],
   "source": [
    "vector_store = QdrantVectorStore(\n",
    "    client=client,\n",
    "    collection_name=col_name,\n",
    "    # enable_hybrid=True,\n",
    "    # fastembed_sparse_model=\"Qdrant/bm42-all-minilm-l6-v2-attentions\"\n",
    ")\n",
    "storage_context = StorageContext.from_defaults(vector_store=vector_store)"
   ]
  },
  {
   "cell_type": "code",
   "execution_count": 6,
   "id": "1bde976b-0ca0-4722-b41b-9f5e888d8606",
   "metadata": {},
   "outputs": [
    {
     "data": {
      "text/plain": [
       "StorageContext(docstore=<llama_index.core.storage.docstore.simple_docstore.SimpleDocumentStore object at 0x7f65aa711450>, index_store=<llama_index.core.storage.index_store.simple_index_store.SimpleIndexStore object at 0x7f65aa711bd0>, vector_stores={'default': QdrantVectorStore(stores_text=True, is_embedding_query=True, flat_metadata=False, collection_name='md-llama-blogs', url=None, api_key=None, batch_size=64, parallel=1, max_retries=3, client_kwargs={}, enable_hybrid=False, index_doc_id=True, fastembed_sparse_model=None), 'image': SimpleVectorStore(stores_text=False, is_embedding_query=True, data=SimpleVectorStoreData(embedding_dict={}, text_id_to_ref_doc_id={}, metadata_dict={}))}, graph_store=<llama_index.core.graph_stores.simple.SimpleGraphStore object at 0x7f65aa711600>, property_graph_store=None)"
      ]
     },
     "execution_count": 6,
     "metadata": {},
     "output_type": "execute_result"
    }
   ],
   "source": [
    "storage_context"
   ]
  },
  {
   "cell_type": "code",
   "execution_count": 9,
   "id": "f704cd1d-5c3a-40df-8703-a4466e81fe15",
   "metadata": {},
   "outputs": [
    {
     "name": "stdout",
     "output_type": "stream",
     "text": [
      "Num documents: 166\n"
     ]
    },
    {
     "name": "stderr",
     "output_type": "stream",
     "text": [
      "Parsing documents: 100%|██████████| 166/166 [00:00<00:00, 8623.31it/s]\n",
      "Parsing nodes: 100%|██████████| 166/166 [00:00<00:00, 637.88it/s]\n"
     ]
    },
    {
     "name": "stdout",
     "output_type": "stream",
     "text": [
      "Loaded 1221 documents\n"
     ]
    }
   ],
   "source": [
    "# if not client.collection_exists(col_name):\n",
    "#     # load documents\n",
    "#     nodes = data_utils.load_md_documents(\n",
    "#         docs_dir=docs_dir, docs_metadata=docs_metadata, return_nodes=True\n",
    "#     )\n",
    "    \n",
    "#     print(f\"Loaded {len(nodes)} documents\")"
   ]
  },
  {
   "cell_type": "code",
   "execution_count": 7,
   "id": "c4c4b1cf-1909-493c-afbd-d504e8406da4",
   "metadata": {},
   "outputs": [
    {
     "data": {
      "text/plain": [
       "<llama_index.core.indices.vector_store.base.VectorStoreIndex at 0x7f65a3cecbe0>"
      ]
     },
     "execution_count": 7,
     "metadata": {},
     "output_type": "execute_result"
    }
   ],
   "source": [
    "index = VectorStoreIndex.from_vector_store(\n",
    "    vector_store=vector_store,\n",
    "    storage_context=storage_context,\n",
    "    show_progress=True,\n",
    ")\n",
    "index"
   ]
  },
  {
   "cell_type": "code",
   "execution_count": 10,
   "id": "ca90ef32-c395-4da0-9062-6eb1c2a8fc4d",
   "metadata": {},
   "outputs": [],
   "source": [
    "from llama_index.core import QueryBundle\n",
    "from llama_index.core.retrievers import VectorIndexRetriever"
   ]
  },
  {
   "cell_type": "code",
   "execution_count": 12,
   "id": "89457d62-c619-4096-8496-68855503560e",
   "metadata": {},
   "outputs": [],
   "source": [
    "retriever = VectorIndexRetriever(\n",
    "    index=index,\n",
    "    similarity_top_k=5,\n",
    ")"
   ]
  },
  {
   "cell_type": "code",
   "execution_count": 13,
   "id": "04105180-6c76-4007-9ef3-08e4745c44ee",
   "metadata": {},
   "outputs": [
    {
     "data": {
      "text/plain": [
       "QueryBundle(query_str='What are the two critical areas of RAG system performance that are assessed in the \"Evaluating RAG with LlamaIndex\" section of the OpenAI Cookbook?', image_path=None, custom_embedding_strs=None, embedding=None)"
      ]
     },
     "execution_count": 13,
     "metadata": {},
     "output_type": "execute_result"
    }
   ],
   "source": [
    "query_bundle = QueryBundle('''What are the two critical areas of RAG system performance that are assessed \\\n",
    "in the \"Evaluating RAG with LlamaIndex\" section of the OpenAI Cookbook?''')\n",
    "query_bundle"
   ]
  },
  {
   "cell_type": "code",
   "execution_count": 14,
   "id": "a52dc3ac-76e8-43e4-be22-02cf8147c4f6",
   "metadata": {},
   "outputs": [
    {
     "name": "stderr",
     "output_type": "stream",
     "text": [
      "Batches: 100%|██████████| 1/1 [00:00<00:00,  5.89it/s]\n"
     ]
    }
   ],
   "source": [
    "retrieved_nodes = retriever.retrieve(query_bundle)"
   ]
  },
  {
   "cell_type": "code",
   "execution_count": 24,
   "id": "7cc7cdb1-87b1-4392-b42a-fb84770c460a",
   "metadata": {
    "scrolled": true
   },
   "outputs": [
    {
     "name": "stdout",
     "output_type": "stream",
     "text": [
      "Node 0\n",
      " {\n",
      "  \"filename\": \"openai-cookbook-evaluating-rag-systems-fe393c61fb93.md\",\n",
      "  \"extension\": \".md\",\n",
      "  \"title\": \"OpenAI Cookbook: Evaluating RAG systems\",\n",
      "  \"date\": \"Nov 28, 2023\",\n",
      "  \"url\": \"https://www.llamaindex.ai/blog/openai-cookbook-evaluating-rag-systems-fe393c61fb93\"\n",
      "}\n",
      "================================================================================\n",
      "Node 1\n",
      " {\n",
      "  \"Header_1\": \" Introduction\",\n",
      "  \"filename\": \"evaluating-the-ideal-chunk-size-for-a-rag-system-using-llamaindex-6207e5d3fec5.md\",\n",
      "  \"extension\": \".md\",\n",
      "  \"title\": \"Evaluating the Ideal Chunk Size for a RAG System using LlamaIndex\",\n",
      "  \"date\": \"Oct 5, 2023\",\n",
      "  \"url\": \"https://www.llamaindex.ai/blog/evaluating-the-ideal-chunk-size-for-a-rag-system-using-llamaindex-6207e5d3fec5\"\n",
      "}\n",
      "================================================================================\n",
      "Node 2\n",
      " {\n",
      "  \"Header_1\": \" Results\",\n",
      "  \"Header_2\": \" Comparing to OpenAI Models:\",\n",
      "  \"filename\": \"nvidia-research-rag-with-long-context-llms-7d94d40090c4.md\",\n",
      "  \"extension\": \".md\",\n",
      "  \"title\": \"NVIDIA Research: RAG with Long Context LLMs\",\n",
      "  \"date\": \"Oct 22, 2023\",\n",
      "  \"url\": \"https://www.llamaindex.ai/blog/nvidia-research-rag-with-long-context-llms-7d94d40090c4\"\n",
      "}\n",
      "================================================================================\n",
      "Node 3\n",
      " {\n",
      "  \"Header_1\": \" Measurement Aspects of RAG\",\n",
      "  \"filename\": \"a-cheat-sheet-and-some-recipes-for-building-advanced-rag-803a9d94c41b.md\",\n",
      "  \"extension\": \".md\",\n",
      "  \"title\": \"A Cheat Sheet and Some Recipes For Building Advanced RAG\",\n",
      "  \"date\": \"Jan 5, 2024\",\n",
      "  \"url\": \"https://www.llamaindex.ai/blog/a-cheat-sheet-and-some-recipes-for-building-advanced-rag-803a9d94c41b\"\n",
      "}\n",
      "================================================================================\n",
      "Node 4\n",
      " {\n",
      "  \"Header_1\": \" Introduction\",\n",
      "  \"filename\": \"llamaindex-rag-evaluation-showdown-with-gpt-4-vs-open-source-prometheus-model-14cdca608277.md\",\n",
      "  \"extension\": \".md\",\n",
      "  \"title\": \"LlamaIndex: RAG Evaluation Showdown with GPT-4 vs. Open-Source Prometheus Model\",\n",
      "  \"date\": \"Dec 15, 2023\",\n",
      "  \"url\": \"https://www.llamaindex.ai/blog/llamaindex-rag-evaluation-showdown-with-gpt-4-vs-open-source-prometheus-model-14cdca608277\"\n",
      "}\n",
      "================================================================================\n"
     ]
    }
   ],
   "source": [
    "import json\n",
    "for idx, node in enumerate(retrieved_nodes):\n",
    "    print(f\"Node {idx}\\n\", json.dumps(node.metadata, indent=2))\n",
    "    print(\"==\"*40)"
   ]
  },
  {
   "cell_type": "code",
   "execution_count": 18,
   "id": "0292c761-ed91-4889-bd2c-f3ed3419a86b",
   "metadata": {
    "scrolled": true
   },
   "outputs": [
    {
     "name": "stderr",
     "output_type": "stream",
     "text": [
      "Generating embeddings:   0%|          | 0/1221 [00:00<?, ?it/s]\n",
      "Batches:   0%|          | 0/1 [00:00<?, ?it/s]\u001b[A\n",
      "Batches: 100%|██████████| 1/1 [00:00<00:00,  8.58it/s]\u001b[A\n",
      "Generating embeddings:   1%|          | 10/1221 [00:00<00:16, 74.85it/s]\n",
      "Batches:   0%|          | 0/1 [00:00<?, ?it/s]\u001b[A\n",
      "Batches: 100%|██████████| 1/1 [00:00<00:00,  8.44it/s]\u001b[A\n",
      "Generating embeddings:   2%|▏         | 20/1221 [00:00<00:16, 72.75it/s]\n",
      "Batches: 100%|██████████| 1/1 [00:00<00:00, 14.03it/s]\n",
      "\n",
      "Batches: 100%|██████████| 1/1 [00:00<00:00, 13.60it/s]\n",
      "Generating embeddings:   3%|▎         | 40/1221 [00:00<00:12, 92.27it/s]\n",
      "Batches: 100%|██████████| 1/1 [00:00<00:00, 13.68it/s]\n",
      "\n",
      "Batches: 100%|██████████| 1/1 [00:00<00:00, 14.61it/s]\n",
      "Generating embeddings:   5%|▍         | 60/1221 [00:00<00:11, 100.50it/s]\n",
      "Batches: 100%|██████████| 1/1 [00:00<00:00, 15.21it/s]\n",
      "\n",
      "Batches: 100%|██████████| 1/1 [00:00<00:00, 14.83it/s]\n",
      "Generating embeddings:   7%|▋         | 80/1221 [00:00<00:10, 108.25it/s]\n",
      "Batches: 100%|██████████| 1/1 [00:00<00:00, 14.41it/s]\n",
      "\n",
      "Batches: 100%|██████████| 1/1 [00:00<00:00, 14.42it/s]\n",
      "Generating embeddings:   8%|▊         | 100/1221 [00:00<00:10, 111.99it/s]\n",
      "Batches: 100%|██████████| 1/1 [00:00<00:00, 14.73it/s]\n",
      "\n",
      "Batches: 100%|██████████| 1/1 [00:00<00:00, 14.16it/s]\n",
      "Generating embeddings:  10%|▉         | 120/1221 [00:01<00:09, 114.03it/s]\n",
      "Batches: 100%|██████████| 1/1 [00:00<00:00, 14.58it/s]\n",
      "\n",
      "Batches: 100%|██████████| 1/1 [00:00<00:00, 14.69it/s]\n",
      "Generating embeddings:  11%|█▏        | 140/1221 [00:01<00:09, 115.43it/s]\n",
      "Batches: 100%|██████████| 1/1 [00:00<00:00, 14.20it/s]\n",
      "\n",
      "Batches: 100%|██████████| 1/1 [00:00<00:00, 13.73it/s]\n",
      "Generating embeddings:  13%|█▎        | 160/1221 [00:01<00:09, 113.91it/s]\n",
      "Batches: 100%|██████████| 1/1 [00:00<00:00, 14.65it/s]\n",
      "\n",
      "Batches: 100%|██████████| 1/1 [00:00<00:00, 14.07it/s]\n",
      "Generating embeddings:  15%|█▍        | 180/1221 [00:01<00:09, 113.47it/s]\n",
      "Batches: 100%|██████████| 1/1 [00:00<00:00, 12.80it/s]\n",
      "\n",
      "Batches: 100%|██████████| 1/1 [00:00<00:00, 11.01it/s]\n",
      "Generating embeddings:  16%|█▋        | 200/1221 [00:01<00:09, 109.03it/s]\n",
      "Batches: 100%|██████████| 1/1 [00:00<00:00, 14.99it/s]\n",
      "\n",
      "Batches: 100%|██████████| 1/1 [00:00<00:00, 14.50it/s]\n",
      "Generating embeddings:  18%|█▊        | 220/1221 [00:02<00:09, 109.42it/s]\n",
      "Batches: 100%|██████████| 1/1 [00:00<00:00, 14.74it/s]\n",
      "\n",
      "Batches: 100%|██████████| 1/1 [00:00<00:00, 14.62it/s]\n",
      "Generating embeddings:  20%|█▉        | 240/1221 [00:02<00:08, 111.15it/s]\n",
      "Batches: 100%|██████████| 1/1 [00:00<00:00, 14.55it/s]\n",
      "\n",
      "Batches: 100%|██████████| 1/1 [00:00<00:00, 14.29it/s]\n",
      "Generating embeddings:  21%|██▏       | 260/1221 [00:02<00:08, 112.20it/s]\n",
      "Batches: 100%|██████████| 1/1 [00:00<00:00, 14.98it/s]\n",
      "\n",
      "Batches: 100%|██████████| 1/1 [00:00<00:00, 14.75it/s]\n",
      "Generating embeddings:  23%|██▎       | 280/1221 [00:02<00:08, 114.05it/s]\n",
      "Batches: 100%|██████████| 1/1 [00:00<00:00, 14.01it/s]\n",
      "\n",
      "Batches: 100%|██████████| 1/1 [00:00<00:00, 14.51it/s]\n",
      "Generating embeddings:  25%|██▍       | 300/1221 [00:02<00:08, 114.69it/s]\n",
      "Batches: 100%|██████████| 1/1 [00:00<00:00, 14.58it/s]\n",
      "\n",
      "Batches: 100%|██████████| 1/1 [00:00<00:00, 14.23it/s]\n",
      "Generating embeddings:  26%|██▌       | 320/1221 [00:02<00:07, 115.66it/s]\n",
      "Batches: 100%|██████████| 1/1 [00:00<00:00, 14.41it/s]\n",
      "\n",
      "Batches: 100%|██████████| 1/1 [00:00<00:00, 14.32it/s]\n",
      "Generating embeddings:  28%|██▊       | 340/1221 [00:03<00:07, 116.21it/s]\n",
      "Batches: 100%|██████████| 1/1 [00:00<00:00, 14.32it/s]\n",
      "\n",
      "Batches: 100%|██████████| 1/1 [00:00<00:00, 15.05it/s]\n",
      "Generating embeddings:  29%|██▉       | 360/1221 [00:03<00:07, 115.59it/s]\n",
      "Batches: 100%|██████████| 1/1 [00:00<00:00, 15.00it/s]\n",
      "\n",
      "Batches: 100%|██████████| 1/1 [00:00<00:00, 14.10it/s]\n",
      "Generating embeddings:  31%|███       | 380/1221 [00:03<00:07, 115.49it/s]\n",
      "Batches: 100%|██████████| 1/1 [00:00<00:00, 14.62it/s]\n",
      "\n",
      "Batches: 100%|██████████| 1/1 [00:00<00:00, 13.41it/s]\n",
      "Generating embeddings:  33%|███▎      | 400/1221 [00:03<00:07, 114.07it/s]\n",
      "Batches: 100%|██████████| 1/1 [00:00<00:00, 12.58it/s]\n",
      "\n",
      "Batches: 100%|██████████| 1/1 [00:00<00:00, 14.06it/s]\n",
      "Generating embeddings:  34%|███▍      | 420/1221 [00:03<00:07, 112.09it/s]\n",
      "Batches: 100%|██████████| 1/1 [00:00<00:00, 14.70it/s]\n",
      "\n",
      "Batches: 100%|██████████| 1/1 [00:00<00:00, 13.91it/s]\n",
      "Generating embeddings:  36%|███▌      | 440/1221 [00:03<00:06, 113.35it/s]\n",
      "Batches: 100%|██████████| 1/1 [00:00<00:00, 14.23it/s]\n",
      "\n",
      "Batches: 100%|██████████| 1/1 [00:00<00:00, 15.12it/s]\n",
      "Generating embeddings:  38%|███▊      | 460/1221 [00:04<00:06, 114.10it/s]\n",
      "Batches: 100%|██████████| 1/1 [00:00<00:00, 14.89it/s]\n",
      "\n",
      "Batches: 100%|██████████| 1/1 [00:00<00:00, 14.12it/s]\n",
      "Generating embeddings:  39%|███▉      | 480/1221 [00:04<00:06, 114.28it/s]\n",
      "Batches: 100%|██████████| 1/1 [00:00<00:00, 15.07it/s]\n",
      "\n",
      "Batches: 100%|██████████| 1/1 [00:00<00:00, 13.98it/s]\n",
      "Generating embeddings:  41%|████      | 500/1221 [00:04<00:06, 114.26it/s]\n",
      "Batches: 100%|██████████| 1/1 [00:00<00:00, 14.75it/s]\n",
      "\n",
      "Batches: 100%|██████████| 1/1 [00:00<00:00, 13.96it/s]\n",
      "Generating embeddings:  43%|████▎     | 520/1221 [00:04<00:06, 115.16it/s]\n",
      "Batches: 100%|██████████| 1/1 [00:00<00:00, 14.60it/s]\n",
      "\n",
      "Batches: 100%|██████████| 1/1 [00:00<00:00, 13.88it/s]\n",
      "Generating embeddings:  44%|████▍     | 540/1221 [00:04<00:05, 115.53it/s]\n",
      "Batches: 100%|██████████| 1/1 [00:00<00:00, 17.37it/s]\n",
      "\n",
      "Batches: 100%|██████████| 1/1 [00:00<00:00, 14.63it/s]\n",
      "Generating embeddings:  46%|████▌     | 560/1221 [00:04<00:05, 118.63it/s]\n",
      "Batches: 100%|██████████| 1/1 [00:00<00:00, 14.85it/s]\n",
      "\n",
      "Batches: 100%|██████████| 1/1 [00:00<00:00, 14.38it/s]\n",
      "Generating embeddings:  48%|████▊     | 580/1221 [00:05<00:05, 118.13it/s]\n",
      "Batches: 100%|██████████| 1/1 [00:00<00:00, 14.80it/s]\n",
      "\n",
      "Batches: 100%|██████████| 1/1 [00:00<00:00, 13.95it/s]\n",
      "Generating embeddings:  49%|████▉     | 600/1221 [00:05<00:05, 118.16it/s]\n",
      "Batches: 100%|██████████| 1/1 [00:00<00:00, 14.03it/s]\n",
      "\n",
      "Batches: 100%|██████████| 1/1 [00:00<00:00, 14.16it/s]\n",
      "Generating embeddings:  51%|█████     | 620/1221 [00:05<00:05, 118.08it/s]\n",
      "Batches: 100%|██████████| 1/1 [00:00<00:00, 15.11it/s]\n",
      "\n",
      "Batches: 100%|██████████| 1/1 [00:00<00:00, 14.53it/s]\n",
      "Generating embeddings:  52%|█████▏    | 640/1221 [00:05<00:04, 118.23it/s]\n",
      "Batches: 100%|██████████| 1/1 [00:00<00:00, 23.58it/s]\n",
      "\n",
      "Batches: 100%|██████████| 1/1 [00:00<00:00, 14.17it/s]\n",
      "Generating embeddings:  54%|█████▍    | 660/1221 [00:05<00:04, 121.67it/s]\n",
      "Batches: 100%|██████████| 1/1 [00:00<00:00, 27.83it/s]\n",
      "\n",
      "Batches: 100%|██████████| 1/1 [00:00<00:00, 15.04it/s]\n",
      "Generating embeddings:  56%|█████▌    | 680/1221 [00:05<00:04, 128.52it/s]\n",
      "Batches: 100%|██████████| 1/1 [00:00<00:00, 14.59it/s]\n",
      "\n",
      "Batches: 100%|██████████| 1/1 [00:00<00:00, 14.80it/s]\n",
      "Generating embeddings:  57%|█████▋    | 700/1221 [00:06<00:04, 125.38it/s]\n",
      "Batches: 100%|██████████| 1/1 [00:00<00:00, 14.76it/s]\n",
      "\n",
      "Batches: 100%|██████████| 1/1 [00:00<00:00, 14.30it/s]\n",
      "Generating embeddings:  59%|█████▉    | 720/1221 [00:06<00:04, 122.24it/s]\n",
      "Batches: 100%|██████████| 1/1 [00:00<00:00, 14.34it/s]\n",
      "\n",
      "Batches: 100%|██████████| 1/1 [00:00<00:00, 13.89it/s]\n",
      "Generating embeddings:  61%|██████    | 740/1221 [00:06<00:04, 118.31it/s]\n",
      "Batches: 100%|██████████| 1/1 [00:00<00:00, 14.89it/s]\n",
      "\n",
      "Batches: 100%|██████████| 1/1 [00:00<00:00, 13.92it/s]\n",
      "Generating embeddings:  62%|██████▏   | 760/1221 [00:06<00:03, 116.22it/s]\n",
      "Batches: 100%|██████████| 1/1 [00:00<00:00, 14.70it/s]\n",
      "\n",
      "Batches: 100%|██████████| 1/1 [00:00<00:00, 14.91it/s]\n",
      "Generating embeddings:  64%|██████▍   | 780/1221 [00:06<00:03, 115.89it/s]\n",
      "Batches: 100%|██████████| 1/1 [00:00<00:00, 14.34it/s]\n",
      "\n",
      "Batches: 100%|██████████| 1/1 [00:00<00:00, 14.76it/s]\n",
      "Generating embeddings:  66%|██████▌   | 800/1221 [00:07<00:03, 114.63it/s]\n",
      "Batches: 100%|██████████| 1/1 [00:00<00:00, 14.52it/s]\n",
      "\n",
      "Batches: 100%|██████████| 1/1 [00:00<00:00, 17.16it/s]\n",
      "Generating embeddings:  67%|██████▋   | 820/1221 [00:07<00:03, 118.24it/s]\n",
      "Batches: 100%|██████████| 1/1 [00:00<00:00, 14.95it/s]\n",
      "\n",
      "Batches: 100%|██████████| 1/1 [00:00<00:00, 20.22it/s]\n",
      "Generating embeddings:  69%|██████▉   | 840/1221 [00:07<00:03, 119.96it/s]\n",
      "Batches: 100%|██████████| 1/1 [00:00<00:00, 14.16it/s]\n",
      "\n",
      "Batches: 100%|██████████| 1/1 [00:00<00:00, 12.59it/s]\n",
      "Generating embeddings:  70%|███████   | 860/1221 [00:07<00:03, 114.15it/s]\n",
      "Batches: 100%|██████████| 1/1 [00:00<00:00, 14.29it/s]\n",
      "\n",
      "Batches: 100%|██████████| 1/1 [00:00<00:00, 14.17it/s]\n",
      "Generating embeddings:  72%|███████▏  | 880/1221 [00:07<00:03, 113.23it/s]\n",
      "Batches: 100%|██████████| 1/1 [00:00<00:00, 14.49it/s]\n",
      "\n",
      "Batches: 100%|██████████| 1/1 [00:00<00:00, 14.91it/s]\n",
      "Generating embeddings:  74%|███████▎  | 900/1221 [00:07<00:02, 115.54it/s]\n",
      "Batches: 100%|██████████| 1/1 [00:00<00:00, 13.46it/s]\n",
      "\n",
      "Batches: 100%|██████████| 1/1 [00:00<00:00, 15.12it/s]\n",
      "Generating embeddings:  75%|███████▌  | 920/1221 [00:08<00:02, 114.86it/s]\n",
      "Batches: 100%|██████████| 1/1 [00:00<00:00, 15.05it/s]\n",
      "\n",
      "Batches: 100%|██████████| 1/1 [00:00<00:00, 15.06it/s]\n",
      "Generating embeddings:  77%|███████▋  | 940/1221 [00:08<00:02, 117.54it/s]\n",
      "Batches: 100%|██████████| 1/1 [00:00<00:00, 14.98it/s]\n",
      "\n",
      "Batches: 100%|██████████| 1/1 [00:00<00:00, 14.26it/s]\n",
      "Generating embeddings:  79%|███████▊  | 960/1221 [00:08<00:02, 116.78it/s]\n",
      "Batches: 100%|██████████| 1/1 [00:00<00:00, 13.91it/s]\n",
      "Generating embeddings:  80%|███████▉  | 972/1221 [00:08<00:02, 116.48it/s]\n",
      "Batches: 100%|██████████| 1/1 [00:00<00:00, 14.50it/s]\n",
      "\n",
      "Batches: 100%|██████████| 1/1 [00:00<00:00, 14.53it/s]\n",
      "Generating embeddings:  81%|████████  | 990/1221 [00:08<00:02, 110.01it/s]\n",
      "Batches: 100%|██████████| 1/1 [00:00<00:00, 15.25it/s]\n",
      "\n",
      "Batches: 100%|██████████| 1/1 [00:00<00:00, 14.54it/s]\n",
      "Generating embeddings:  83%|████████▎ | 1010/1221 [00:08<00:01, 112.94it/s]\n",
      "Batches: 100%|██████████| 1/1 [00:00<00:00, 14.63it/s]\n",
      "\n",
      "Batches: 100%|██████████| 1/1 [00:00<00:00, 13.69it/s]\n",
      "Generating embeddings:  84%|████████▍ | 1030/1221 [00:09<00:01, 112.00it/s]\n",
      "Batches: 100%|██████████| 1/1 [00:00<00:00, 14.85it/s]\n",
      "\n",
      "Batches: 100%|██████████| 1/1 [00:00<00:00, 14.87it/s]\n",
      "Generating embeddings:  86%|████████▌ | 1050/1221 [00:09<00:01, 113.30it/s]\n",
      "Batches: 100%|██████████| 1/1 [00:00<00:00, 18.55it/s]\n",
      "\n",
      "Batches: 100%|██████████| 1/1 [00:00<00:00, 14.97it/s]\n",
      "Generating embeddings:  88%|████████▊ | 1070/1221 [00:09<00:01, 115.87it/s]\n",
      "Batches: 100%|██████████| 1/1 [00:00<00:00, 13.61it/s]\n",
      "\n",
      "Batches: 100%|██████████| 1/1 [00:00<00:00, 14.47it/s]\n",
      "Generating embeddings:  89%|████████▉ | 1090/1221 [00:09<00:01, 114.82it/s]\n",
      "Batches: 100%|██████████| 1/1 [00:00<00:00, 13.66it/s]\n",
      "\n",
      "Batches: 100%|██████████| 1/1 [00:00<00:00, 14.97it/s]\n",
      "Generating embeddings:  91%|█████████ | 1110/1221 [00:09<00:00, 113.96it/s]\n",
      "Batches: 100%|██████████| 1/1 [00:00<00:00, 14.74it/s]\n",
      "\n",
      "Batches: 100%|██████████| 1/1 [00:00<00:00, 14.79it/s]\n",
      "Generating embeddings:  93%|█████████▎| 1130/1221 [00:09<00:00, 115.22it/s]\n",
      "Batches: 100%|██████████| 1/1 [00:00<00:00, 14.91it/s]\n",
      "\n",
      "Batches: 100%|██████████| 1/1 [00:00<00:00, 14.84it/s]\n",
      "Generating embeddings:  94%|█████████▍| 1150/1221 [00:10<00:00, 117.13it/s]\n",
      "Batches: 100%|██████████| 1/1 [00:00<00:00, 13.22it/s]\n",
      "\n",
      "Batches: 100%|██████████| 1/1 [00:00<00:00, 13.37it/s]\n",
      "Generating embeddings:  96%|█████████▌| 1170/1221 [00:10<00:00, 113.50it/s]\n",
      "Batches: 100%|██████████| 1/1 [00:00<00:00, 15.05it/s]\n",
      "\n",
      "Batches: 100%|██████████| 1/1 [00:00<00:00, 14.61it/s]\n",
      "Generating embeddings:  97%|█████████▋| 1190/1221 [00:10<00:00, 114.50it/s]\n",
      "Batches: 100%|██████████| 1/1 [00:00<00:00, 13.92it/s]\n",
      "\n",
      "Batches: 100%|██████████| 1/1 [00:00<00:00, 14.31it/s]\n",
      "Generating embeddings:  99%|█████████▉| 1210/1221 [00:10<00:00, 114.54it/s]\n",
      "Batches: 100%|██████████| 1/1 [00:00<00:00, 14.81it/s]\n",
      "\n",
      "Batches: 100%|██████████| 1/1 [00:00<00:00, 137.09it/s]\n",
      "Generating embeddings: 100%|██████████| 1221/1221 [00:10<00:00, 114.48it/s]\n"
     ]
    }
   ],
   "source": [
    "index = index.build_index_from_nodes(nodes, show_prpgress=True)"
   ]
  },
  {
   "cell_type": "code",
   "execution_count": 20,
   "id": "0bab62c4-8218-4a23-9573-b75de7d46690",
   "metadata": {},
   "outputs": [
    {
     "data": {
      "text/plain": [
       "dict_keys([])"
      ]
     },
     "execution_count": 20,
     "metadata": {},
     "output_type": "execute_result"
    }
   ],
   "source": [
    "i"
   ]
  },
  {
   "cell_type": "code",
   "execution_count": null,
   "id": "757dda30-448d-4eeb-89d9-a04cd0e35b38",
   "metadata": {},
   "outputs": [],
   "source": []
  },
  {
   "cell_type": "code",
   "execution_count": 1,
   "id": "306b58bd-5c89-4f4e-8b84-799d47b07acf",
   "metadata": {},
   "outputs": [
    {
     "name": "stderr",
     "output_type": "stream",
     "text": [
      "/opt/conda/envs/llm/lib/python3.10/site-packages/tqdm/auto.py:21: TqdmWarning: IProgress not found. Please update jupyter and ipywidgets. See https://ipywidgets.readthedocs.io/en/stable/user_install.html\n",
      "  from .autonotebook import tqdm as notebook_tqdm\n"
     ]
    },
    {
     "name": "stdout",
     "output_type": "stream",
     "text": [
      "INFO:datasets:PyTorch version 2.3.0+cu118 available.\n",
      "PyTorch version 2.3.0+cu118 available.\n"
     ]
    }
   ],
   "source": [
    "import indexing"
   ]
  },
  {
   "cell_type": "code",
   "execution_count": 2,
   "id": "42aac52b-c0cb-4f79-872f-cf1d721c7dd1",
   "metadata": {},
   "outputs": [
    {
     "name": "stdout",
     "output_type": "stream",
     "text": [
      "INFO:sentence_transformers.SentenceTransformer:Load pretrained SentenceTransformer: models/bge-base-en-v1.5\n",
      "Load pretrained SentenceTransformer: models/bge-base-en-v1.5\n",
      "INFO:sentence_transformers.SentenceTransformer:2 prompts are loaded, with the keys: ['query', 'text']\n",
      "2 prompts are loaded, with the keys: ['query', 'text']\n",
      "LLM is explicitly disabled. Using MockLLM.\n",
      "Creating index from documents store\n",
      "Num documents: 166\n"
     ]
    },
    {
     "name": "stderr",
     "output_type": "stream",
     "text": [
      "Parsing documents: 100%|██████████| 166/166 [00:00<00:00, 11274.83it/s]\n",
      "Parsing nodes: 100%|██████████| 166/166 [00:00<00:00, 943.83it/s] \n"
     ]
    },
    {
     "name": "stdout",
     "output_type": "stream",
     "text": [
      "Loaded 1221 documents\n"
     ]
    },
    {
     "name": "stderr",
     "output_type": "stream",
     "text": [
      "Generating embeddings:   0%|          | 0/1221 [00:00<?, ?it/s]\n",
      "Batches:   0%|          | 0/1 [00:00<?, ?it/s]\u001b[A\n",
      "Batches: 100%|██████████| 1/1 [00:00<00:00,  2.27it/s]\u001b[A\n",
      "Generating embeddings:   1%|          | 10/1221 [00:00<00:57, 20.93it/s]\n",
      "Batches: 100%|██████████| 1/1 [00:00<00:00, 10.52it/s]\n",
      "Generating embeddings:   2%|▏         | 20/1221 [00:00<00:31, 37.73it/s]\n",
      "Batches:   0%|          | 0/1 [00:00<?, ?it/s]\u001b[A\n",
      "Batches: 100%|██████████| 1/1 [00:00<00:00,  8.45it/s]\u001b[A\n",
      "Generating embeddings:   2%|▏         | 30/1221 [00:00<00:24, 48.37it/s]\n",
      "Batches: 100%|██████████| 1/1 [00:00<00:00, 11.24it/s]\n",
      "Generating embeddings:   3%|▎         | 40/1221 [00:00<00:20, 58.15it/s]\n",
      "Batches: 100%|██████████| 1/1 [00:00<00:00, 11.32it/s]\n",
      "Generating embeddings:   4%|▍         | 50/1221 [00:00<00:17, 66.69it/s]\n",
      "Batches:   0%|          | 0/1 [00:00<?, ?it/s]\u001b[A\n",
      "Batches: 100%|██████████| 1/1 [00:00<00:00,  8.24it/s]\u001b[A\n",
      "Generating embeddings:   5%|▍         | 60/1221 [00:01<00:17, 67.65it/s]\n",
      "Batches:   0%|          | 0/1 [00:00<?, ?it/s]\u001b[A\n",
      "Batches: 100%|██████████| 1/1 [00:00<00:00,  7.86it/s]\u001b[A\n",
      "Generating embeddings:   6%|▌         | 70/1221 [00:01<00:16, 67.95it/s]\n",
      "Batches: 100%|██████████| 1/1 [00:00<00:00, 12.55it/s]\n",
      "\n",
      "Batches: 100%|██████████| 1/1 [00:00<00:00, 12.03it/s]\n",
      "Generating embeddings:   7%|▋         | 90/1221 [00:01<00:14, 80.07it/s]\n",
      "Batches:   0%|          | 0/1 [00:00<?, ?it/s]\u001b[A\n",
      "Batches: 100%|██████████| 1/1 [00:00<00:00,  7.84it/s]\u001b[A\n",
      "Generating embeddings:   8%|▊         | 100/1221 [00:01<00:14, 75.20it/s]\n",
      "Batches: 100%|██████████| 1/1 [00:00<00:00, 11.53it/s]\n",
      "Generating embeddings:   9%|▉         | 110/1221 [00:01<00:14, 79.32it/s]\n",
      "Batches:   0%|          | 0/1 [00:00<?, ?it/s]\u001b[A\n",
      "Batches: 100%|██████████| 1/1 [00:00<00:00,  7.01it/s]\u001b[A\n",
      "Generating embeddings:  10%|▉         | 120/1221 [00:01<00:14, 73.51it/s]\n",
      "Batches: 100%|██████████| 1/1 [00:00<00:00, 10.18it/s]\n",
      "Generating embeddings:  11%|█         | 130/1221 [00:01<00:14, 76.27it/s]\n",
      "Batches:   0%|          | 0/1 [00:00<?, ?it/s]\u001b[A\n",
      "Batches: 100%|██████████| 1/1 [00:00<00:00,  7.17it/s]\u001b[A\n",
      "Generating embeddings:  11%|█▏        | 140/1221 [00:02<00:15, 71.69it/s]\n",
      "Batches:   0%|          | 0/1 [00:00<?, ?it/s]\u001b[A\n",
      "Batches: 100%|██████████| 1/1 [00:00<00:00,  8.25it/s]\u001b[A\n",
      "Generating embeddings:  12%|█▏        | 150/1221 [00:02<00:15, 70.42it/s]\n",
      "Batches: 100%|██████████| 1/1 [00:00<00:00, 10.59it/s]\n",
      "Generating embeddings:  13%|█▎        | 160/1221 [00:02<00:14, 73.00it/s]\n",
      "Batches:   0%|          | 0/1 [00:00<?, ?it/s]\u001b[A\n",
      "Batches: 100%|██████████| 1/1 [00:00<00:00,  7.41it/s]\u001b[A\n",
      "Generating embeddings:  14%|█▍        | 170/1221 [00:02<00:14, 70.12it/s]\n",
      "Batches:   0%|          | 0/1 [00:00<?, ?it/s]\u001b[A\n",
      "Batches: 100%|██████████| 1/1 [00:00<00:00,  8.17it/s]\u001b[A\n",
      "Generating embeddings:  15%|█▍        | 180/1221 [00:02<00:14, 70.00it/s]\n",
      "Batches:   0%|          | 0/1 [00:00<?, ?it/s]\u001b[A\n",
      "Batches: 100%|██████████| 1/1 [00:00<00:00,  9.40it/s]\u001b[A\n",
      "Generating embeddings:  16%|█▌        | 190/1221 [00:02<00:14, 72.42it/s]\n",
      "Batches:   0%|          | 0/1 [00:00<?, ?it/s]\u001b[A\n",
      "Batches: 100%|██████████| 1/1 [00:00<00:00,  9.26it/s]\u001b[A\n",
      "Generating embeddings:  16%|█▋        | 200/1221 [00:02<00:13, 73.67it/s]\n",
      "Batches:   0%|          | 0/1 [00:00<?, ?it/s]\u001b[A\n",
      "Batches: 100%|██████████| 1/1 [00:00<00:00,  7.97it/s]\u001b[A\n",
      "Generating embeddings:  17%|█▋        | 210/1221 [00:03<00:14, 71.69it/s]\n",
      "Batches: 100%|██████████| 1/1 [00:00<00:00, 11.55it/s]\n",
      "Generating embeddings:  18%|█▊        | 220/1221 [00:03<00:12, 77.09it/s]\n",
      "Batches:   0%|          | 0/1 [00:00<?, ?it/s]\u001b[A\n",
      "Batches: 100%|██████████| 1/1 [00:00<00:00,  8.13it/s]\u001b[A\n",
      "Generating embeddings:  19%|█▉        | 230/1221 [00:03<00:13, 74.83it/s]\n",
      "Batches:   0%|          | 0/1 [00:00<?, ?it/s]\u001b[A\n",
      "Batches: 100%|██████████| 1/1 [00:00<00:00,  6.35it/s]\u001b[A\n",
      "Generating embeddings:  20%|█▉        | 240/1221 [00:03<00:14, 68.40it/s]\n",
      "Batches:   0%|          | 0/1 [00:00<?, ?it/s]\u001b[A\n",
      "Batches: 100%|██████████| 1/1 [00:00<00:00,  9.21it/s]\u001b[A\n",
      "Generating embeddings:  20%|██        | 250/1221 [00:03<00:13, 71.27it/s]\n",
      "Batches: 100%|██████████| 1/1 [00:00<00:00, 11.53it/s]\n",
      "Generating embeddings:  21%|██▏       | 260/1221 [00:03<00:12, 75.86it/s]\n",
      "Batches:   0%|          | 0/1 [00:00<?, ?it/s]\u001b[A\n",
      "Batches: 100%|██████████| 1/1 [00:00<00:00,  7.79it/s]\u001b[A\n",
      "Generating embeddings:  22%|██▏       | 270/1221 [00:03<00:13, 73.02it/s]\n",
      "Batches:   0%|          | 0/1 [00:00<?, ?it/s]\u001b[A\n",
      "Batches: 100%|██████████| 1/1 [00:00<00:00,  7.83it/s]\u001b[A\n",
      "Generating embeddings:  23%|██▎       | 280/1221 [00:04<00:13, 71.64it/s]\n",
      "Batches:   0%|          | 0/1 [00:00<?, ?it/s]\u001b[A\n",
      "Batches: 100%|██████████| 1/1 [00:00<00:00,  7.04it/s]\u001b[A\n",
      "Generating embeddings:  24%|██▍       | 290/1221 [00:04<00:13, 68.41it/s]\n",
      "Batches:   0%|          | 0/1 [00:00<?, ?it/s]\u001b[A\n",
      "Batches: 100%|██████████| 1/1 [00:00<00:00,  7.90it/s]\u001b[A\n",
      "Generating embeddings:  25%|██▍       | 300/1221 [00:04<00:13, 68.77it/s]\n",
      "Batches:   0%|          | 0/1 [00:00<?, ?it/s]\u001b[A\n",
      "Batches: 100%|██████████| 1/1 [00:00<00:00,  9.11it/s]\u001b[A\n",
      "Generating embeddings:  25%|██▌       | 310/1221 [00:04<00:12, 71.57it/s]\n",
      "Batches:   0%|          | 0/1 [00:00<?, ?it/s]\u001b[A\n",
      "Batches: 100%|██████████| 1/1 [00:00<00:00,  9.35it/s]\u001b[A\n",
      "Generating embeddings:  26%|██▌       | 320/1221 [00:04<00:12, 74.01it/s]\n",
      "Batches:   0%|          | 0/1 [00:00<?, ?it/s]\u001b[A\n",
      "Batches: 100%|██████████| 1/1 [00:00<00:00,  8.04it/s]\u001b[A\n",
      "Generating embeddings:  27%|██▋       | 330/1221 [00:04<00:12, 72.57it/s]\n",
      "Batches: 100%|██████████| 1/1 [00:00<00:00, 10.26it/s]\n",
      "Generating embeddings:  28%|██▊       | 340/1221 [00:04<00:11, 76.10it/s]\n",
      "Batches: 100%|██████████| 1/1 [00:00<00:00, 11.47it/s]\n",
      "Generating embeddings:  29%|██▊       | 350/1221 [00:05<00:10, 80.01it/s]\n",
      "Batches:   0%|          | 0/1 [00:00<?, ?it/s]\u001b[A\n",
      "Batches: 100%|██████████| 1/1 [00:00<00:00,  8.32it/s]\u001b[A\n",
      "Generating embeddings:  29%|██▉       | 360/1221 [00:05<00:11, 77.49it/s]\n",
      "Batches:   0%|          | 0/1 [00:00<?, ?it/s]\u001b[A\n",
      "Batches: 100%|██████████| 1/1 [00:00<00:00,  7.94it/s]\u001b[A\n",
      "Generating embeddings:  30%|███       | 370/1221 [00:05<00:11, 74.93it/s]\n",
      "Batches:   0%|          | 0/1 [00:00<?, ?it/s]\u001b[A\n",
      "Batches: 100%|██████████| 1/1 [00:00<00:00,  9.07it/s]\u001b[A\n",
      "Generating embeddings:  31%|███       | 380/1221 [00:05<00:11, 75.84it/s]\n",
      "Batches:   0%|          | 0/1 [00:00<?, ?it/s]\u001b[A\n",
      "Batches: 100%|██████████| 1/1 [00:00<00:00,  6.45it/s]\u001b[A\n",
      "Generating embeddings:  32%|███▏      | 390/1221 [00:05<00:11, 69.26it/s]\n",
      "Batches:   0%|          | 0/1 [00:00<?, ?it/s]\u001b[A\n",
      "Batches: 100%|██████████| 1/1 [00:00<00:00,  8.73it/s]\u001b[A\n",
      "Generating embeddings:  33%|███▎      | 400/1221 [00:05<00:11, 70.84it/s]\n",
      "Batches:   0%|          | 0/1 [00:00<?, ?it/s]\u001b[A\n",
      "Batches: 100%|██████████| 1/1 [00:00<00:00,  8.04it/s]\u001b[A\n",
      "Generating embeddings:  34%|███▎      | 410/1221 [00:05<00:11, 70.82it/s]\n",
      "Batches:   0%|          | 0/1 [00:00<?, ?it/s]\u001b[A\n",
      "Batches: 100%|██████████| 1/1 [00:00<00:00,  7.87it/s]\u001b[A\n",
      "Generating embeddings:  34%|███▍      | 420/1221 [00:06<00:11, 69.21it/s]\n",
      "Batches:   0%|          | 0/1 [00:00<?, ?it/s]\u001b[A\n",
      "Batches: 100%|██████████| 1/1 [00:00<00:00,  8.59it/s]\u001b[A\n",
      "Generating embeddings:  35%|███▌      | 430/1221 [00:06<00:11, 70.69it/s]\n",
      "Batches:   0%|          | 0/1 [00:00<?, ?it/s]\u001b[A\n",
      "Batches: 100%|██████████| 1/1 [00:00<00:00,  6.84it/s]\u001b[A\n",
      "Generating embeddings:  36%|███▌      | 440/1221 [00:06<00:11, 67.25it/s]\n",
      "Batches:   0%|          | 0/1 [00:00<?, ?it/s]\u001b[A\n",
      "Batches: 100%|██████████| 1/1 [00:00<00:00,  7.22it/s]\u001b[A\n",
      "Generating embeddings:  37%|███▋      | 450/1221 [00:06<00:11, 66.22it/s]\n",
      "Batches: 100%|██████████| 1/1 [00:00<00:00, 10.49it/s]\n",
      "Generating embeddings:  38%|███▊      | 460/1221 [00:06<00:10, 71.64it/s]\n",
      "Batches:   0%|          | 0/1 [00:00<?, ?it/s]\u001b[A\n",
      "Batches: 100%|██████████| 1/1 [00:00<00:00,  9.05it/s]\u001b[A\n",
      "Generating embeddings:  38%|███▊      | 470/1221 [00:06<00:10, 73.67it/s]\n",
      "Batches:   0%|          | 0/1 [00:00<?, ?it/s]\u001b[A\n",
      "Batches: 100%|██████████| 1/1 [00:00<00:00,  8.54it/s]\u001b[A\n",
      "Generating embeddings:  39%|███▉      | 480/1221 [00:06<00:10, 72.79it/s]\n",
      "Batches:   0%|          | 0/1 [00:00<?, ?it/s]\u001b[A\n",
      "Batches: 100%|██████████| 1/1 [00:00<00:00,  9.08it/s]\u001b[A\n",
      "Generating embeddings:  40%|████      | 490/1221 [00:06<00:09, 74.33it/s]\n",
      "Batches:   0%|          | 0/1 [00:00<?, ?it/s]\u001b[A\n",
      "Batches: 100%|██████████| 1/1 [00:00<00:00,  7.87it/s]\u001b[A\n",
      "Generating embeddings:  41%|████      | 500/1221 [00:07<00:09, 72.84it/s]\n",
      "Batches:   0%|          | 0/1 [00:00<?, ?it/s]\u001b[A\n",
      "Batches: 100%|██████████| 1/1 [00:00<00:00,  9.40it/s]\u001b[A\n",
      "Generating embeddings:  42%|████▏     | 510/1221 [00:07<00:09, 74.85it/s]\n",
      "Batches:   0%|          | 0/1 [00:00<?, ?it/s]\u001b[A\n",
      "Batches: 100%|██████████| 1/1 [00:00<00:00,  7.83it/s]\u001b[A\n",
      "Generating embeddings:  43%|████▎     | 520/1221 [00:07<00:09, 73.08it/s]\n",
      "Batches: 100%|██████████| 1/1 [00:00<00:00, 10.49it/s]\n",
      "Generating embeddings:  43%|████▎     | 530/1221 [00:07<00:08, 77.02it/s]\n",
      "Batches:   0%|          | 0/1 [00:00<?, ?it/s]\u001b[A\n",
      "Batches: 100%|██████████| 1/1 [00:00<00:00,  6.48it/s]\u001b[A\n",
      "Generating embeddings:  44%|████▍     | 540/1221 [00:07<00:09, 70.35it/s]\n",
      "Batches:   0%|          | 0/1 [00:00<?, ?it/s]\u001b[A\n",
      "Batches: 100%|██████████| 1/1 [00:00<00:00,  9.62it/s]\u001b[A\n",
      "Generating embeddings:  45%|████▌     | 550/1221 [00:07<00:09, 73.71it/s]\n",
      "Batches:   0%|          | 0/1 [00:00<?, ?it/s]\u001b[A\n",
      "Batches: 100%|██████████| 1/1 [00:00<00:00,  8.85it/s]\u001b[A\n",
      "Generating embeddings:  46%|████▌     | 560/1221 [00:07<00:08, 73.54it/s]\n",
      "Batches:   0%|          | 0/1 [00:00<?, ?it/s]\u001b[A\n",
      "Batches: 100%|██████████| 1/1 [00:00<00:00,  6.80it/s]\u001b[A\n",
      "Generating embeddings:  47%|████▋     | 570/1221 [00:08<00:09, 69.02it/s]\n",
      "Batches:   0%|          | 0/1 [00:00<?, ?it/s]\u001b[A\n",
      "Batches: 100%|██████████| 1/1 [00:00<00:00,  9.23it/s]\u001b[A\n",
      "Generating embeddings:  48%|████▊     | 580/1221 [00:08<00:08, 72.07it/s]\n",
      "Batches:   0%|          | 0/1 [00:00<?, ?it/s]\u001b[A\n",
      "Batches: 100%|██████████| 1/1 [00:00<00:00,  9.22it/s]\u001b[A\n",
      "Generating embeddings:  48%|████▊     | 590/1221 [00:08<00:08, 74.25it/s]\n",
      "Batches:   0%|          | 0/1 [00:00<?, ?it/s]\u001b[A\n",
      "Batches: 100%|██████████| 1/1 [00:00<00:00,  6.95it/s]\u001b[A\n",
      "Generating embeddings:  49%|████▉     | 600/1221 [00:08<00:08, 69.92it/s]\n",
      "Batches:   0%|          | 0/1 [00:00<?, ?it/s]\u001b[A\n",
      "Batches: 100%|██████████| 1/1 [00:00<00:00,  9.01it/s]\u001b[A\n",
      "Generating embeddings:  50%|████▉     | 610/1221 [00:08<00:08, 72.47it/s]\n",
      "Batches:   0%|          | 0/1 [00:00<?, ?it/s]\u001b[A\n",
      "Batches: 100%|██████████| 1/1 [00:00<00:00,  6.28it/s]\u001b[A\n",
      "Generating embeddings:  51%|█████     | 620/1221 [00:08<00:09, 66.12it/s]\n",
      "Batches:   0%|          | 0/1 [00:00<?, ?it/s]\u001b[A\n",
      "Batches: 100%|██████████| 1/1 [00:00<00:00,  9.72it/s]\u001b[A\n",
      "Generating embeddings:  52%|█████▏    | 630/1221 [00:08<00:08, 69.31it/s]\n",
      "Batches:   0%|          | 0/1 [00:00<?, ?it/s]\u001b[A\n",
      "Batches: 100%|██████████| 1/1 [00:00<00:00,  7.31it/s]\u001b[A\n",
      "Generating embeddings:  52%|█████▏    | 640/1221 [00:09<00:08, 67.70it/s]\n",
      "Batches: 100%|██████████| 1/1 [00:00<00:00, 13.32it/s]\n",
      "Generating embeddings:  53%|█████▎    | 650/1221 [00:09<00:07, 74.87it/s]\n",
      "Batches: 100%|██████████| 1/1 [00:00<00:00, 10.29it/s]\n",
      "Generating embeddings:  54%|█████▍    | 660/1221 [00:09<00:07, 77.75it/s]\n",
      "Batches: 100%|██████████| 1/1 [00:00<00:00, 11.82it/s]\n",
      "Generating embeddings:  55%|█████▍    | 670/1221 [00:09<00:06, 82.73it/s]\n",
      "Batches:   0%|          | 0/1 [00:00<?, ?it/s]\u001b[A\n",
      "Batches: 100%|██████████| 1/1 [00:00<00:00,  7.22it/s]\u001b[A\n",
      "Generating embeddings:  56%|█████▌    | 680/1221 [00:09<00:07, 76.04it/s]\n",
      "Batches: 100%|██████████| 1/1 [00:00<00:00, 11.78it/s]\n",
      "Generating embeddings:  57%|█████▋    | 690/1221 [00:09<00:06, 80.18it/s]\n",
      "Batches:   0%|          | 0/1 [00:00<?, ?it/s]\u001b[A\n",
      "Batches: 100%|██████████| 1/1 [00:00<00:00,  9.10it/s]\u001b[A\n",
      "Generating embeddings:  57%|█████▋    | 700/1221 [00:09<00:06, 78.14it/s]\n",
      "Batches:   0%|          | 0/1 [00:00<?, ?it/s]\u001b[A\n",
      "Batches: 100%|██████████| 1/1 [00:00<00:00,  8.76it/s]\u001b[A\n",
      "Generating embeddings:  58%|█████▊    | 710/1221 [00:09<00:06, 75.90it/s]\n",
      "Batches:   0%|          | 0/1 [00:00<?, ?it/s]\u001b[A\n",
      "Batches: 100%|██████████| 1/1 [00:00<00:00,  8.64it/s]\u001b[A\n",
      "Generating embeddings:  59%|█████▉    | 720/1221 [00:10<00:06, 74.34it/s]\n",
      "Batches:   0%|          | 0/1 [00:00<?, ?it/s]\u001b[A\n",
      "Batches: 100%|██████████| 1/1 [00:00<00:00,  9.75it/s]\u001b[A\n",
      "Generating embeddings:  60%|█████▉    | 730/1221 [00:10<00:06, 75.90it/s]\n",
      "Batches: 100%|██████████| 1/1 [00:00<00:00,  9.99it/s]\n",
      "Generating embeddings:  61%|██████    | 740/1221 [00:10<00:06, 77.50it/s]\n",
      "Batches:   0%|          | 0/1 [00:00<?, ?it/s]\u001b[A\n",
      "Batches: 100%|██████████| 1/1 [00:00<00:00,  7.43it/s]\u001b[A\n",
      "Generating embeddings:  61%|██████▏   | 750/1221 [00:10<00:06, 73.26it/s]\n",
      "Batches: 100%|██████████| 1/1 [00:00<00:00, 10.11it/s]\n",
      "Generating embeddings:  62%|██████▏   | 760/1221 [00:10<00:06, 76.55it/s]\n",
      "Batches:   0%|          | 0/1 [00:00<?, ?it/s]\u001b[A\n",
      "Batches: 100%|██████████| 1/1 [00:00<00:00,  8.30it/s]\u001b[A\n",
      "Generating embeddings:  63%|██████▎   | 770/1221 [00:10<00:05, 75.34it/s]\n",
      "Batches:   0%|          | 0/1 [00:00<?, ?it/s]\u001b[A\n",
      "Batches: 100%|██████████| 1/1 [00:00<00:00,  9.23it/s]\u001b[A\n",
      "Generating embeddings:  64%|██████▍   | 780/1221 [00:10<00:05, 76.81it/s]\n",
      "Batches:   0%|          | 0/1 [00:00<?, ?it/s]\u001b[A\n",
      "Batches: 100%|██████████| 1/1 [00:00<00:00,  9.02it/s]\u001b[A\n",
      "Generating embeddings:  65%|██████▍   | 790/1221 [00:11<00:05, 76.15it/s]\n",
      "Batches:   0%|          | 0/1 [00:00<?, ?it/s]\u001b[A\n",
      "Batches: 100%|██████████| 1/1 [00:00<00:00,  9.83it/s]\u001b[A\n",
      "Generating embeddings:  66%|██████▌   | 800/1221 [00:11<00:05, 78.30it/s]\n",
      "Batches:   0%|          | 0/1 [00:00<?, ?it/s]\u001b[A\n",
      "Batches: 100%|██████████| 1/1 [00:00<00:00,  9.49it/s]\u001b[A\n",
      "Generating embeddings:  66%|██████▋   | 810/1221 [00:11<00:05, 79.04it/s]\n",
      "Batches: 100%|██████████| 1/1 [00:00<00:00, 10.44it/s]\n",
      "Generating embeddings:  67%|██████▋   | 820/1221 [00:11<00:04, 80.84it/s]\n",
      "Batches:   0%|          | 0/1 [00:00<?, ?it/s]\u001b[A\n",
      "Batches: 100%|██████████| 1/1 [00:00<00:00,  6.37it/s]\u001b[A\n",
      "Generating embeddings:  68%|██████▊   | 830/1221 [00:11<00:05, 71.97it/s]\n",
      "Batches: 100%|██████████| 1/1 [00:00<00:00, 12.18it/s]\n",
      "\n",
      "Batches:   0%|          | 0/1 [00:00<?, ?it/s]\u001b[A\n",
      "Batches: 100%|██████████| 1/1 [00:00<00:00,  7.60it/s]\u001b[A\n",
      "Generating embeddings:  70%|██████▉   | 850/1221 [00:11<00:04, 76.04it/s]\n",
      "Batches:   0%|          | 0/1 [00:00<?, ?it/s]\u001b[A\n",
      "Batches: 100%|██████████| 1/1 [00:00<00:00,  7.96it/s]\u001b[A\n",
      "Generating embeddings:  70%|███████   | 860/1221 [00:11<00:04, 73.65it/s]\n",
      "Batches:   0%|          | 0/1 [00:00<?, ?it/s]\u001b[A\n",
      "Batches: 100%|██████████| 1/1 [00:00<00:00,  7.13it/s]\u001b[A\n",
      "Generating embeddings:  71%|███████▏  | 870/1221 [00:12<00:04, 70.27it/s]\n",
      "Batches:   0%|          | 0/1 [00:00<?, ?it/s]\u001b[A\n",
      "Batches: 100%|██████████| 1/1 [00:00<00:00,  7.97it/s]\u001b[A\n",
      "Generating embeddings:  72%|███████▏  | 880/1221 [00:12<00:04, 69.99it/s]\n",
      "Batches:   0%|          | 0/1 [00:00<?, ?it/s]\u001b[A\n",
      "Batches: 100%|██████████| 1/1 [00:00<00:00,  7.50it/s]\u001b[A\n",
      "Generating embeddings:  73%|███████▎  | 890/1221 [00:12<00:04, 68.50it/s]\n",
      "Batches:   0%|          | 0/1 [00:00<?, ?it/s]\u001b[A\n",
      "Batches: 100%|██████████| 1/1 [00:00<00:00,  7.39it/s]\u001b[A\n",
      "Generating embeddings:  74%|███████▎  | 900/1221 [00:12<00:04, 67.32it/s]\n",
      "Batches:   0%|          | 0/1 [00:00<?, ?it/s]\u001b[A\n",
      "Batches: 100%|██████████| 1/1 [00:00<00:00,  9.14it/s]\u001b[A\n",
      "Generating embeddings:  75%|███████▍  | 910/1221 [00:12<00:04, 69.61it/s]\n",
      "Batches:   0%|          | 0/1 [00:00<?, ?it/s]\u001b[A\n",
      "Batches: 100%|██████████| 1/1 [00:00<00:00,  9.62it/s]\u001b[A\n",
      "Generating embeddings:  75%|███████▌  | 920/1221 [00:12<00:04, 72.31it/s]\n",
      "Batches:   0%|          | 0/1 [00:00<?, ?it/s]\u001b[A\n",
      "Batches: 100%|██████████| 1/1 [00:00<00:00,  6.82it/s]\u001b[A\n",
      "Generating embeddings:  76%|███████▌  | 930/1221 [00:13<00:04, 68.71it/s]\n",
      "Batches:   0%|          | 0/1 [00:00<?, ?it/s]\u001b[A\n",
      "Batches: 100%|██████████| 1/1 [00:00<00:00,  8.70it/s]\u001b[A\n",
      "Generating embeddings:  77%|███████▋  | 940/1221 [00:13<00:04, 69.93it/s]\n",
      "Batches:   0%|          | 0/1 [00:00<?, ?it/s]\u001b[A\n",
      "Batches: 100%|██████████| 1/1 [00:00<00:00,  6.22it/s]\u001b[A\n",
      "Generating embeddings:  78%|███████▊  | 950/1221 [00:13<00:04, 64.99it/s]\n",
      "Batches:   0%|          | 0/1 [00:00<?, ?it/s]\u001b[A\n",
      "Batches: 100%|██████████| 1/1 [00:00<00:00,  8.09it/s]\u001b[A\n",
      "Generating embeddings:  79%|███████▊  | 960/1221 [00:13<00:03, 66.19it/s]\n",
      "Batches:   0%|          | 0/1 [00:00<?, ?it/s]\u001b[A\n",
      "Batches: 100%|██████████| 1/1 [00:00<00:00,  7.96it/s]\u001b[A\n",
      "Generating embeddings:  79%|███████▉  | 970/1221 [00:13<00:03, 66.87it/s]\n",
      "Batches:   0%|          | 0/1 [00:00<?, ?it/s]\u001b[A\n",
      "Batches: 100%|██████████| 1/1 [00:00<00:00,  8.60it/s]\u001b[A\n",
      "Generating embeddings:  80%|████████  | 980/1221 [00:13<00:03, 68.74it/s]\n",
      "Batches:   0%|          | 0/1 [00:00<?, ?it/s]\u001b[A\n",
      "Batches: 100%|██████████| 1/1 [00:00<00:00,  6.06it/s]\u001b[A\n",
      "Generating embeddings:  81%|████████  | 990/1221 [00:13<00:03, 62.78it/s]\n",
      "Batches:   0%|          | 0/1 [00:00<?, ?it/s]\u001b[A\n",
      "Batches: 100%|██████████| 1/1 [00:00<00:00,  6.06it/s]\u001b[A\n",
      "Generating embeddings:  82%|████████▏ | 1000/1221 [00:14<00:03, 59.13it/s]\n",
      "Batches: 100%|██████████| 1/1 [00:00<00:00, 10.01it/s]\n",
      "Generating embeddings:  83%|████████▎ | 1010/1221 [00:14<00:03, 64.93it/s]\n",
      "Batches:   0%|          | 0/1 [00:00<?, ?it/s]\u001b[A\n",
      "Batches: 100%|██████████| 1/1 [00:00<00:00,  6.44it/s]\u001b[A\n",
      "Generating embeddings:  84%|████████▎ | 1020/1221 [00:14<00:03, 62.38it/s]\n",
      "Batches:   0%|          | 0/1 [00:00<?, ?it/s]\u001b[A\n",
      "Batches: 100%|██████████| 1/1 [00:00<00:00,  8.84it/s]\u001b[A\n",
      "Generating embeddings:  84%|████████▍ | 1030/1221 [00:14<00:02, 64.73it/s]\n",
      "Batches:   0%|          | 0/1 [00:00<?, ?it/s]\u001b[A\n",
      "Batches: 100%|██████████| 1/1 [00:00<00:00,  6.85it/s]\u001b[A\n",
      "Generating embeddings:  85%|████████▌ | 1040/1221 [00:14<00:02, 62.58it/s]\n",
      "Batches:   0%|          | 0/1 [00:00<?, ?it/s]\u001b[A\n",
      "Batches: 100%|██████████| 1/1 [00:00<00:00,  9.64it/s]\u001b[A\n",
      "Generating embeddings:  86%|████████▌ | 1050/1221 [00:14<00:02, 66.39it/s]\n",
      "Batches: 100%|██████████| 1/1 [00:00<00:00, 12.04it/s]\n",
      "Generating embeddings:  87%|████████▋ | 1060/1221 [00:14<00:02, 73.55it/s]\n",
      "Batches:   0%|          | 0/1 [00:00<?, ?it/s]\u001b[A\n",
      "Batches: 100%|██████████| 1/1 [00:00<00:00,  7.64it/s]\u001b[A\n",
      "Generating embeddings:  88%|████████▊ | 1070/1221 [00:15<00:02, 71.45it/s]\n",
      "Batches:   0%|          | 0/1 [00:00<?, ?it/s]\u001b[A\n",
      "Batches: 100%|██████████| 1/1 [00:00<00:00,  7.65it/s]\u001b[A\n",
      "Generating embeddings:  88%|████████▊ | 1080/1221 [00:15<00:02, 70.11it/s]\n",
      "Batches:   0%|          | 0/1 [00:00<?, ?it/s]\u001b[A\n",
      "Batches: 100%|██████████| 1/1 [00:00<00:00,  9.48it/s]\u001b[A\n",
      "Generating embeddings:  89%|████████▉ | 1090/1221 [00:15<00:01, 73.03it/s]\n",
      "Batches:   0%|          | 0/1 [00:00<?, ?it/s]\u001b[A\n",
      "Batches: 100%|██████████| 1/1 [00:00<00:00,  6.90it/s]\u001b[A\n",
      "Generating embeddings:  90%|█████████ | 1100/1221 [00:15<00:01, 68.99it/s]\n",
      "Batches:   0%|          | 0/1 [00:00<?, ?it/s]\u001b[A\n",
      "Batches: 100%|██████████| 1/1 [00:00<00:00,  9.30it/s]\u001b[A\n",
      "Generating embeddings:  91%|█████████ | 1110/1221 [00:15<00:01, 72.23it/s]\n",
      "Batches:   0%|          | 0/1 [00:00<?, ?it/s]\u001b[A\n",
      "Batches: 100%|██████████| 1/1 [00:00<00:00,  9.70it/s]\u001b[A\n",
      "Generating embeddings:  92%|█████████▏| 1120/1221 [00:15<00:01, 75.35it/s]\n",
      "Batches:   0%|          | 0/1 [00:00<?, ?it/s]\u001b[A\n",
      "Batches: 100%|██████████| 1/1 [00:00<00:00,  9.02it/s]\u001b[A\n",
      "Generating embeddings:  93%|█████████▎| 1130/1221 [00:15<00:01, 76.34it/s]\n",
      "Batches:   0%|          | 0/1 [00:00<?, ?it/s]\u001b[A\n",
      "Batches: 100%|██████████| 1/1 [00:00<00:00,  6.86it/s]\u001b[A\n",
      "Generating embeddings:  93%|█████████▎| 1140/1221 [00:16<00:01, 71.07it/s]\n",
      "Batches:   0%|          | 0/1 [00:00<?, ?it/s]\u001b[A\n",
      "Batches: 100%|██████████| 1/1 [00:00<00:00,  9.14it/s]\u001b[A\n",
      "Generating embeddings:  94%|█████████▍| 1150/1221 [00:16<00:00, 73.41it/s]\n",
      "Batches:   0%|          | 0/1 [00:00<?, ?it/s]\u001b[A\n",
      "Batches: 100%|██████████| 1/1 [00:00<00:00,  9.23it/s]\u001b[A\n",
      "Generating embeddings:  95%|█████████▌| 1160/1221 [00:16<00:00, 75.23it/s]\n",
      "Batches:   0%|          | 0/1 [00:00<?, ?it/s]\u001b[A\n",
      "Batches: 100%|██████████| 1/1 [00:00<00:00,  6.39it/s]\u001b[A\n",
      "Generating embeddings:  96%|█████████▌| 1170/1221 [00:16<00:00, 67.92it/s]\n",
      "Batches: 100%|██████████| 1/1 [00:00<00:00, 10.07it/s]\n",
      "Generating embeddings:  97%|█████████▋| 1180/1221 [00:16<00:00, 72.27it/s]\n",
      "Batches:   0%|          | 0/1 [00:00<?, ?it/s]\u001b[A\n",
      "Batches: 100%|██████████| 1/1 [00:00<00:00,  8.72it/s]\u001b[A\n",
      "Generating embeddings:  97%|█████████▋| 1190/1221 [00:16<00:00, 73.03it/s]\n",
      "Batches:   0%|          | 0/1 [00:00<?, ?it/s]\u001b[A\n",
      "Batches: 100%|██████████| 1/1 [00:00<00:00,  8.62it/s]\u001b[A\n",
      "Generating embeddings:  98%|█████████▊| 1200/1221 [00:16<00:00, 73.11it/s]\n",
      "Batches:   0%|          | 0/1 [00:00<?, ?it/s]\u001b[A\n",
      "Batches: 100%|██████████| 1/1 [00:00<00:00,  8.04it/s]\u001b[A\n",
      "Generating embeddings:  99%|█████████▉| 1210/1221 [00:17<00:00, 72.59it/s]\n",
      "Batches:   0%|          | 0/1 [00:00<?, ?it/s]\u001b[A\n",
      "Batches: 100%|██████████| 1/1 [00:00<00:00,  9.48it/s]\u001b[A\n",
      "Generating embeddings: 100%|█████████▉| 1220/1221 [00:17<00:00, 74.44it/s]\n",
      "Batches: 100%|██████████| 1/1 [00:00<00:00, 28.44it/s]\n",
      "Generating embeddings: 100%|██████████| 1221/1221 [00:17<00:00, 70.93it/s]\n"
     ]
    },
    {
     "name": "stdout",
     "output_type": "stream",
     "text": [
      "WARNING:root:Payload indexes have no effect in the local Qdrant. Please use server Qdrant if you need payload indexes.\n",
      "Payload indexes have no effect in the local Qdrant. Please use server Qdrant if you need payload indexes.\n"
     ]
    }
   ],
   "source": [
    "qdrant_index = indexing.creat_qdrant_index()"
   ]
  },
  {
   "cell_type": "code",
   "execution_count": 3,
   "id": "ecc4882c-35a5-4030-87b7-4191aebb6080",
   "metadata": {},
   "outputs": [
    {
     "data": {
      "text/plain": [
       "IndexDict(index_id='384e2440-a326-416a-98c2-404e571d24c5', summary=None, nodes_dict={}, doc_id_dict={}, embeddings_dict={})"
      ]
     },
     "execution_count": 3,
     "metadata": {},
     "output_type": "execute_result"
    }
   ],
   "source": [
    "qdrant_index.index_struct"
   ]
  },
  {
   "cell_type": "code",
   "execution_count": 5,
   "id": "f4ce927b-8f60-4c4e-8814-71a7dc8461f4",
   "metadata": {},
   "outputs": [],
   "source": [
    "test_nodes = qdrant_index.vector_store.get_nodes()"
   ]
  },
  {
   "cell_type": "code",
   "execution_count": 6,
   "id": "15d73c71-962f-47a0-be5f-2ac6223b19cb",
   "metadata": {
    "scrolled": true
   },
   "outputs": [
    {
     "data": {
      "text/plain": [
       "['__add__',\n",
       " '__class__',\n",
       " '__class_getitem__',\n",
       " '__contains__',\n",
       " '__delattr__',\n",
       " '__delitem__',\n",
       " '__dir__',\n",
       " '__doc__',\n",
       " '__eq__',\n",
       " '__format__',\n",
       " '__ge__',\n",
       " '__getattribute__',\n",
       " '__getitem__',\n",
       " '__gt__',\n",
       " '__hash__',\n",
       " '__iadd__',\n",
       " '__imul__',\n",
       " '__init__',\n",
       " '__init_subclass__',\n",
       " '__iter__',\n",
       " '__le__',\n",
       " '__len__',\n",
       " '__lt__',\n",
       " '__mul__',\n",
       " '__ne__',\n",
       " '__new__',\n",
       " '__reduce__',\n",
       " '__reduce_ex__',\n",
       " '__repr__',\n",
       " '__reversed__',\n",
       " '__rmul__',\n",
       " '__setattr__',\n",
       " '__setitem__',\n",
       " '__sizeof__',\n",
       " '__str__',\n",
       " '__subclasshook__',\n",
       " 'append',\n",
       " 'clear',\n",
       " 'copy',\n",
       " 'count',\n",
       " 'extend',\n",
       " 'index',\n",
       " 'insert',\n",
       " 'pop',\n",
       " 'remove',\n",
       " 'reverse',\n",
       " 'sort']"
      ]
     },
     "execution_count": 6,
     "metadata": {},
     "output_type": "execute_result"
    }
   ],
   "source": [
    "dir(test_nodes)"
   ]
  },
  {
   "cell_type": "code",
   "execution_count": 7,
   "id": "320406f2-9a10-4af3-a34b-975ef56fd76d",
   "metadata": {},
   "outputs": [
    {
     "data": {
      "text/plain": [
       "1221"
      ]
     },
     "execution_count": 7,
     "metadata": {},
     "output_type": "execute_result"
    }
   ],
   "source": [
    "len(test_nodes)"
   ]
  },
  {
   "cell_type": "code",
   "execution_count": 8,
   "id": "c09aa73e-99b2-4126-bfe3-9bfc4fad9037",
   "metadata": {},
   "outputs": [
    {
     "data": {
      "text/plain": [
       "{'Header_1': ' References',\n",
       " 'filename': 'mastering-pdfs-extracting-sections-headings-paragraphs-and-tables-with-cutting-edge-parser-faea18870125.md',\n",
       " 'extension': '.md',\n",
       " 'title': 'Mastering PDFs: Extracting Sections, Headings, Paragraphs, and Tables with Cutting-Edge Parser',\n",
       " 'date': 'Oct 18, 2023',\n",
       " 'url': 'https://www.llamaindex.ai/blog/mastering-pdfs-extracting-sections-headings-paragraphs-and-tables-with-cutting-edge-parser-faea18870125'}"
      ]
     },
     "execution_count": 8,
     "metadata": {},
     "output_type": "execute_result"
    }
   ],
   "source": [
    "test_nodes[0].metadata"
   ]
  },
  {
   "cell_type": "code",
   "execution_count": 10,
   "id": "4608f6f3-4019-4073-b0c5-2634c5c5bf64",
   "metadata": {},
   "outputs": [],
   "source": [
    "test_nodes[0].embedding"
   ]
  },
  {
   "cell_type": "code",
   "execution_count": 2,
   "id": "27ca4e5e-4001-4512-9b7e-92989f900a7e",
   "metadata": {},
   "outputs": [
    {
     "name": "stderr",
     "output_type": "stream",
     "text": [
      "/opt/conda/envs/llm/lib/python3.10/site-packages/tqdm/auto.py:21: TqdmWarning: IProgress not found. Please update jupyter and ipywidgets. See https://ipywidgets.readthedocs.io/en/stable/user_install.html\n",
      "  from .autonotebook import tqdm as notebook_tqdm\n"
     ]
    }
   ],
   "source": [
    "import qdrant_client"
   ]
  },
  {
   "cell_type": "code",
   "execution_count": 3,
   "id": "8fbadb59-f386-44e8-b800-cabdab240839",
   "metadata": {},
   "outputs": [],
   "source": [
    "client = qdrant_client.QdrantClient(\n",
    "    path=\"qdrant_db\"\n",
    ")"
   ]
  },
  {
   "cell_type": "code",
   "execution_count": 8,
   "id": "29c0a2f2-2768-4ed4-91ca-67d8fe0f8e3a",
   "metadata": {},
   "outputs": [
    {
     "data": {
      "text/plain": [
       "True"
      ]
     },
     "execution_count": 8,
     "metadata": {},
     "output_type": "execute_result"
    }
   ],
   "source": [
    "client.delete_collection(\"md-llama-blogs\")"
   ]
  },
  {
   "cell_type": "code",
   "execution_count": 10,
   "id": "35dbe704-6a90-40c7-9a0f-c46c016eeccc",
   "metadata": {},
   "outputs": [
    {
     "data": {
      "text/plain": [
       "CollectionsResponse(collections=[CollectionDescription(name='llamaindex-blogs'), CollectionDescription(name='llamaindex-blogs-hybrid-search')])"
      ]
     },
     "execution_count": 10,
     "metadata": {},
     "output_type": "execute_result"
    }
   ],
   "source": [
    "client.get_collections()"
   ]
  },
  {
   "cell_type": "code",
   "execution_count": null,
   "id": "49b7ab5e-6cc5-4a64-9c27-8b0b32bafcf9",
   "metadata": {},
   "outputs": [],
   "source": []
  }
 ],
 "metadata": {
  "kernelspec": {
   "display_name": "llm-py310",
   "language": "python",
   "name": "llm-py310"
  },
  "language_info": {
   "codemirror_mode": {
    "name": "ipython",
    "version": 3
   },
   "file_extension": ".py",
   "mimetype": "text/x-python",
   "name": "python",
   "nbconvert_exporter": "python",
   "pygments_lexer": "ipython3",
   "version": "3.10.14"
  }
 },
 "nbformat": 4,
 "nbformat_minor": 5
}
